{
 "cells": [
  {
   "cell_type": "markdown",
   "metadata": {},
   "source": [
    "# Introduction to Jupyter Notebook"
   ]
  },
  {
   "cell_type": "markdown",
   "metadata": {},
   "source": [
    "Author: Diana Mateus"
   ]
  },
  {
   "cell_type": "markdown",
   "metadata": {},
   "source": [
    "__Running Jupyter__\n",
    "\n",
    "To start Jupyter, open a __Terminal__ or __\"Anaconda prompt\"__ , then type the following line to call a jupyter notebook from the terminal \n",
    "\n",
    "```python\n",
    "jupyter notebook\n",
    "```\n",
    "This should open a web browser automatically and show you the contents of your current directory. If this does not happen automatically, open a braowser and navigate to http://localhost:8888"
   ]
  },
  {
   "cell_type": "markdown",
   "metadata": {},
   "source": [
    "__Creating a new notebook__\n",
    "\n",
    "Create a new notebook by \n",
    "\n",
    "-clicking ``` File->New```\n",
    "\n",
    "-selecting Python 3\n",
    "\n",
    "The new notebook is named ``` Untitled``` and saved as ``` Untitled.ipynb``` in your directory. Change the name by clicking on it  ```YourName```, which will save the file ```\n",
    "YourName.ipynb```"
   ]
  },
  {
   "cell_type": "markdown",
   "metadata": {},
   "source": [
    "__Hello, Jupyter__\n",
    "\n",
    "You should see a text box starting with ```In []:``` This is called a Cell. Click on the cell and type \n",
    "\n",
    "```python\n",
    "print('Hello Jupyter')\n",
    "print('Hello again')\n",
    "```\n",
    "\n",
    "and then run the cell hitting ``` CRTL + ENTER```.\n",
    "\n",
    "Most Jupyter functionalities can be accessed through a mouse or a keyboard interface. You could also run the cell by clicking ```Cell -> run cells```"
   ]
  },
  {
   "cell_type": "code",
   "execution_count": null,
   "metadata": {},
   "outputs": [],
   "source": []
  },
  {
   "cell_type": "markdown",
   "metadata": {},
   "source": [
    "__Exploring the Menu__\n",
    "\n",
    "Take a minute to explore the menu. Some key functionalities include inserting cells, deleting cells, and running cells. \n",
    "\n",
    "Return to the previously created cell and run it with ``` SHIFT + ENTER``` This runs the current cell and creates a new cell below, so that you can quickly proceed to new code. \n",
    "\n",
    "A fast navigation tour is available through ``` Help-> User interface tour```\n"
   ]
  },
  {
   "cell_type": "markdown",
   "metadata": {},
   "source": [
    "__Switching between edit and command mode__\n",
    "\n",
    "Within Jupyter, hit ESC. This will ensure that you are in command mode. Here you can hit ``` h```. This is equivalent to hitting ```python Help -> Keyboard Shortcuts```, which will show you a large list of useful keyboard shortcuts for command and edit mode.\n",
    "\n",
    "To exit the help menu, hit ``` ESC``` and to return to edit mode, hit ``` ENTER```"
   ]
  },
  {
   "cell_type": "markdown",
   "metadata": {},
   "source": [
    "__Code documentation and completion__\n",
    "\n",
    "Two convenient Jupyter features are documentation via tooltips and code completion.\n",
    "\n",
    "Type \n",
    "```python \n",
    "print\n",
    "``` \n",
    "and hit ``` SHIF+TAB```. You should see the docstring for ```print```\n",
    "\n",
    "Next type \n",
    "```python \n",
    "pr\n",
    "``` \n",
    "in a code cell and hit ```TAB```. You should see multiple options, including ```print```\n"
   ]
  },
  {
   "cell_type": "markdown",
   "metadata": {},
   "source": [
    "__Save, close and reopen__\n",
    "Notebooks are saved regularly or using the button on the top left. They are saved under the current directory. You can find the file under the localhost tree by opening http://localhost:8888 in a browser."
   ]
  },
  {
   "cell_type": "code",
   "execution_count": null,
   "metadata": {},
   "outputs": [],
   "source": []
  }
 ],
 "metadata": {
  "anaconda-cloud": {},
  "kernelspec": {
   "display_name": "Python 3",
   "language": "python",
   "name": "python3"
  },
  "language_info": {
   "codemirror_mode": {
    "name": "ipython",
    "version": 3
   },
   "file_extension": ".py",
   "mimetype": "text/x-python",
   "name": "python",
   "nbconvert_exporter": "python",
   "pygments_lexer": "ipython3",
   "version": "3.7.1"
  }
 },
 "nbformat": 4,
 "nbformat_minor": 1
}
