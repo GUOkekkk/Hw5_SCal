{
 "cells": [
  {
   "cell_type": "markdown",
   "metadata": {},
   "source": [
    "# Introduction to Python "
   ]
  },
  {
   "cell_type": "markdown",
   "metadata": {},
   "source": [
    "Author: Diana Mateus"
   ]
  },
  {
   "cell_type": "markdown",
   "metadata": {},
   "source": [
    "## Running a program that gets parameters from a console"
   ]
  },
  {
   "cell_type": "markdown",
   "metadata": {},
   "source": [
    "The next code has to \n",
    "- be written with a text editor\n",
    "- saved in a myprogram.py file \n",
    "- executed from the console with ```pyhton myprogram.py```\n",
    "\n",
    "```\n",
    "\n",
    "#!/usr/bin/env python3\n",
    "import sys\n",
    "program_name, person = sys.argv[0:2] # reads two arguments from the standard input\n",
    "print('hello {} from {}!'.format(person, program_name))\n",
    "```"
   ]
  },
  {
   "cell_type": "markdown",
   "metadata": {},
   "source": [
    "## Parameters from Jupyter notebook cell"
   ]
  },
  {
   "cell_type": "code",
   "execution_count": null,
   "metadata": {},
   "outputs": [],
   "source": [
    "a=input('Write something')\n",
    "print ('You just wrote '+ a)"
   ]
  },
  {
   "cell_type": "markdown",
   "metadata": {},
   "source": [
    "## Functions"
   ]
  },
  {
   "cell_type": "code",
   "execution_count": null,
   "metadata": {},
   "outputs": [],
   "source": [
    "def boring_fun():\n",
    "    print('hello world!')\n",
    "    return 4\n",
    "\n",
    "def maybe_boring_fun(obj='world'):\n",
    "    print('hello {}!'.format(obj))\n"
   ]
  },
  {
   "cell_type": "code",
   "execution_count": null,
   "metadata": {},
   "outputs": [],
   "source": [
    "boring_fun()"
   ]
  },
  {
   "cell_type": "code",
   "execution_count": null,
   "metadata": {},
   "outputs": [],
   "source": [
    "ret = maybe_boring_fun() \n",
    "print(ret)"
   ]
  },
  {
   "cell_type": "code",
   "execution_count": null,
   "metadata": {},
   "outputs": [],
   "source": [
    "maybe_boring_fun('Python')"
   ]
  },
  {
   "cell_type": "code",
   "execution_count": null,
   "metadata": {},
   "outputs": [],
   "source": [
    "def initially_boring_fun(obj='world', greeting='hello'):\n",
    "    print('{} {}!'.format(greeting, obj))"
   ]
  },
  {
   "cell_type": "code",
   "execution_count": null,
   "metadata": {},
   "outputs": [],
   "source": [
    "initially_boring_fun()"
   ]
  },
  {
   "cell_type": "code",
   "execution_count": null,
   "metadata": {},
   "outputs": [],
   "source": [
    "initially_boring_fun(greeting='hola')"
   ]
  },
  {
   "cell_type": "code",
   "execution_count": null,
   "metadata": {},
   "outputs": [],
   "source": [
    "def tricky_fun(obj, greeting='hello'):\n",
    "    print('{} {}!'.format(greeting, obj))\n",
    "          \n",
    "tricky_fun(greeting='hola')  "
   ]
  },
  {
   "cell_type": "markdown",
   "metadata": {},
   "source": [
    "## Control flow: if\n"
   ]
  },
  {
   "cell_type": "code",
   "execution_count": null,
   "metadata": {},
   "outputs": [],
   "source": [
    "import random\n",
    "\n",
    "rand_num = random.randint(0, 10)\n",
    "\n",
    "user_guess = input('Guess a number (0 – 10): ')  # returns a string! \n",
    "\n",
    "if int(user_guess) == rand_num:\n",
    "    print('you won!')\n",
    "else:\n",
    "    print('you lost! the number was: {}'.format(rand_num))\n"
   ]
  },
  {
   "cell_type": "markdown",
   "metadata": {},
   "source": [
    "## Control flow: while\n"
   ]
  },
  {
   "cell_type": "code",
   "execution_count": null,
   "metadata": {},
   "outputs": [],
   "source": [
    "import random\n",
    "\n",
    "rand_num = random.randint(0, 10)\n",
    "\n",
    "user_guess = None # names must be introduced before they are used\n",
    "\n",
    "while user_guess != rand_num:\n",
    "\n",
    "    user_guess = int(input('Guess a number between zero and ten: '))\n",
    "\n",
    "    if user_guess == rand_num:\n",
    "        break\n",
    "\n",
    "    print('try again!')\n",
    "\n",
    "print('you won!')\n"
   ]
  },
  {
   "cell_type": "markdown",
   "metadata": {},
   "source": [
    "## Control flow: for\n"
   ]
  },
  {
   "cell_type": "code",
   "execution_count": null,
   "metadata": {},
   "outputs": [],
   "source": [
    "my_list = [1, 2, 3, 4, 5]\n",
    "\n",
    "for item in my_list:\n",
    "    print(item)\n"
   ]
  },
  {
   "cell_type": "code",
   "execution_count": null,
   "metadata": {},
   "outputs": [],
   "source": [
    "for index, item in enumerate(my_list):\n",
    "    print('item number {}: {}'.format(index, item))"
   ]
  },
  {
   "cell_type": "code",
   "execution_count": null,
   "metadata": {},
   "outputs": [],
   "source": [
    "for i in range(5):\n",
    "    print('Jump')"
   ]
  },
  {
   "cell_type": "markdown",
   "metadata": {},
   "source": [
    "## Blocks and scopes"
   ]
  },
  {
   "cell_type": "markdown",
   "metadata": {},
   "source": [
    "Fix the errors"
   ]
  },
  {
   "cell_type": "code",
   "execution_count": null,
   "metadata": {},
   "outputs": [],
   "source": [
    "a = 5\n",
    "\n",
    "def useless_fun():\n",
    "    a += 1\n",
    "    b = 3\n",
    "\n",
    "print(b)\n",
    "useless_fun()  "
   ]
  },
  {
   "cell_type": "code",
   "execution_count": null,
   "metadata": {},
   "outputs": [],
   "source": [
    "a = 5\n",
    "\n",
    "if True:\n",
    "    a += 1\n",
    "    b = 3\n",
    "\n",
    "print(a)  # 6\n",
    "print(b)  # 3\n"
   ]
  },
  {
   "cell_type": "markdown",
   "metadata": {
    "collapsed": true
   },
   "source": [
    "## Passing arguments by object-reference"
   ]
  },
  {
   "cell_type": "code",
   "execution_count": null,
   "metadata": {},
   "outputs": [],
   "source": [
    "b = 5\n",
    "\n",
    "def innocuous_fun(a):\n",
    "    a += 1\n",
    "    print(a, id(a))\n",
    "\n",
    "innocuous_fun(b)  \n",
    "print(b,id(b))  \n"
   ]
  },
  {
   "cell_type": "markdown",
   "metadata": {},
   "source": [
    "Use id() to see identity of the objects inside and outside the function"
   ]
  },
  {
   "cell_type": "code",
   "execution_count": null,
   "metadata": {},
   "outputs": [],
   "source": [
    "#mutable object gets modified\n",
    "b = [5]\n",
    "\n",
    "def innocent_fun(a):\n",
    "    a.append(1)\n",
    "\n",
    "innocent_fun(b)  \n",
    "print(b)"
   ]
  },
  {
   "cell_type": "markdown",
   "metadata": {},
   "source": [
    "Append 1 to the list while creating a new object locally to prevent mutable object to change outside. Check the object identities again."
   ]
  },
  {
   "cell_type": "code",
   "execution_count": null,
   "metadata": {},
   "outputs": [],
   "source": [
    "#mutable object with a new name \n",
    "b = [5]\n",
    "\n",
    "def innocent_fun(a):\n",
    "    print(a,id(a))\n",
    "    \n",
    "    a =  \n",
    "    \n",
    "    print(a,id(a))\n",
    "\n",
    "innocent_fun(b)  \n",
    "print(b,id(b))\n",
    "\n"
   ]
  },
  {
   "cell_type": "markdown",
   "metadata": {},
   "source": [
    "Avoid modifying the mutable object by creating a copy of the object locally"
   ]
  },
  {
   "cell_type": "code",
   "execution_count": null,
   "metadata": {},
   "outputs": [],
   "source": [
    "#or make a copy\n",
    "\n",
    "b = [5]\n",
    "\n",
    "def innocent_fun(a):\n",
    "    c =  #even if the copy is called again a\n",
    "    c.append(1)\n",
    "    print(c,id(c))\n",
    "\n",
    "innocent_fun(b)  \n",
    "print(b,id(b))  "
   ]
  },
  {
   "cell_type": "markdown",
   "metadata": {},
   "source": [
    "## List comprehension"
   ]
  },
  {
   "cell_type": "code",
   "execution_count": null,
   "metadata": {},
   "outputs": [],
   "source": [
    "import os\n",
    "\n",
    "dir_path = os.path.expanduser('patterns/')  \n",
    "\n",
    "print(os.listdir(dir_path)) \n"
   ]
  },
  {
   "cell_type": "code",
   "execution_count": null,
   "metadata": {},
   "outputs": [],
   "source": [
    "image_numbers = range(2, 22)\n",
    "image_strings = ['{0:01d}'.format(i) for i in image_numbers]\n",
    "print(image_strings)"
   ]
  },
  {
   "cell_type": "markdown",
   "metadata": {},
   "source": [
    "Convert the list of numbers to a list of image filenames"
   ]
  },
  {
   "cell_type": "code",
   "execution_count": null,
   "metadata": {},
   "outputs": [],
   "source": [
    "image_filenames = [ FILL IN for s in image_strings]\n",
    "print(image_filenames)"
   ]
  },
  {
   "cell_type": "markdown",
   "metadata": {},
   "source": [
    "prepend the directory"
   ]
  },
  {
   "cell_type": "code",
   "execution_count": null,
   "metadata": {},
   "outputs": [],
   "source": [
    "image_filepaths = [ FILL IN for f in image_filenames]\n",
    "print(image_filepaths)"
   ]
  },
  {
   "cell_type": "markdown",
   "metadata": {},
   "source": [
    "Exclude images 4 and 19 from the list"
   ]
  },
  {
   "cell_type": "code",
   "execution_count": null,
   "metadata": {},
   "outputs": [],
   "source": [
    "#Excluding numbers\n",
    "image_num = range(2, 22)\n",
    "excl_num = [4, 19]\n",
    "image_str = [FILL IN]\n"
   ]
  },
  {
   "cell_type": "markdown",
   "metadata": {},
   "source": [
    "## Flow control: Error handling"
   ]
  },
  {
   "cell_type": "code",
   "execution_count": null,
   "metadata": {},
   "outputs": [],
   "source": [
    "try:\n",
    "    f = open('text-file.txt')\n",
    "    some_line = f.readline()\n",
    "    raise ValueError('because I hate you :)')\n",
    "    other_line = f.readline()  # this statement is never executed\n",
    "\n",
    "except ValueError as e:\n",
    "    print(e)  # because I hate you :)\n",
    "    f.close()\n"
   ]
  },
  {
   "cell_type": "markdown",
   "metadata": {},
   "source": [
    "## Flow control : with"
   ]
  },
  {
   "cell_type": "code",
   "execution_count": null,
   "metadata": {},
   "outputs": [],
   "source": [
    "with open('text-file.txt') as f:\n",
    "    some_line = f.readline()\n",
    "    raise ValueError('because I hate you :)')\n",
    "    other_line = f.readline()  # statement not executed\n",
    "\n",
    "# f is properly closed even if the exception fires\n"
   ]
  },
  {
   "cell_type": "markdown",
   "metadata": {},
   "source": [
    "## Reading and writing files"
   ]
  },
  {
   "cell_type": "code",
   "execution_count": null,
   "metadata": {},
   "outputs": [],
   "source": [
    "with open('text-file.txt') as in_f, open('out_file.txt', 'w') as out_f:\n",
    "    \n",
    "    for line in in_f.readlines():\n",
    "        out_f.write(line.upper())\n"
   ]
  },
  {
   "cell_type": "markdown",
   "metadata": {},
   "source": [
    "## Importing modules and spliting code"
   ]
  },
  {
   "cell_type": "markdown",
   "metadata": {},
   "source": [
    "Two forms of calling functions from a module"
   ]
  },
  {
   "cell_type": "code",
   "execution_count": null,
   "metadata": {},
   "outputs": [],
   "source": [
    "# program1.py\n",
    "\n",
    "import my_library \n",
    "\n",
    "my_library.greet() \n"
   ]
  },
  {
   "cell_type": "code",
   "execution_count": null,
   "metadata": {},
   "outputs": [],
   "source": [
    "# program2.py\n",
    "\n",
    "from my_library import greet\n",
    "\n",
    "greet()\n"
   ]
  },
  {
   "cell_type": "markdown",
   "metadata": {},
   "source": [
    "Create your own module ```greetings.py``` (open a new text file, copy the code bellow and save as greetings.py)"
   ]
  },
  {
   "cell_type": "markdown",
   "metadata": {},
   "source": [
    "\n",
    "def greet(target):\n",
    "    print('hello {}!'.format(target))\n",
    "\n",
    "greet('everyone') #this runs when loading module\n"
   ]
  },
  {
   "cell_type": "markdown",
   "metadata": {},
   "source": [
    "When a module is imported, its content is executed"
   ]
  },
  {
   "cell_type": "code",
   "execution_count": null,
   "metadata": {},
   "outputs": [],
   "source": [
    "# my_program.py\n",
    "\n",
    "import greetings as g  # hello everyone!\n",
    "\n",
    "g.greet('world')  # hello world!\n"
   ]
  },
  {
   "cell_type": "markdown",
   "metadata": {},
   "source": [
    "Avoid this by creating a main function which is called only if the file is used as a program. Create a second module ```greetings2.py``` that avoids the problem"
   ]
  },
  {
   "cell_type": "code",
   "execution_count": null,
   "metadata": {},
   "outputs": [],
   "source": [
    "# my_program.py\n",
    "\n",
    "import greetings2 as g \n",
    "\n",
    "g.greet('world')  # hello world!\n",
    "\n"
   ]
  },
  {
   "cell_type": "markdown",
   "metadata": {},
   "source": [
    "## Classes"
   ]
  },
  {
   "cell_type": "code",
   "execution_count": null,
   "metadata": {},
   "outputs": [],
   "source": [
    "class VendingMachine:\n",
    "    CHOCOLATE_BAR_PRICE = 1.30  # Class variable (~“static”)\n",
    "    HOTDOG_PRICE = 3.00\n",
    "    def __init__(self, chocolate_bars=0, hotdogs=0):\n",
    "        self.chocolate_bars = chocolate_bars\n",
    "        self.hotdogs = hotdogs        \n",
    "        self.money = 0\n",
    "        self.inserted_money = 0 \n",
    "\n",
    "    def refill(self):\n",
    "        self.chocolate_bars = 10\n",
    "        print(self.chocolate_bars)\n",
    "\n",
    "    def insert_money(self, ins_money):\n",
    "        self.inserted_money += ins_money\n",
    "\n",
    "    def buy_chocolate_bar(self):\n",
    "        if self.inserted_money >= VendingMachine.CHOCOLATE_BAR_PRICE:\n",
    "            self.inserted_money -= VendingMachine.CHOCOLATE_BAR_PRICE\n",
    "            self.money += VendingMachine.CHOCOLATE_BAR_PRICE\n",
    "            self.chocolate_bars -=1\n",
    "            print(self.chocolate_bars, \"chocolate bars left\")\n",
    "            return True\n",
    "        else:\n",
    "            return False\n",
    "\n",
    "    "
   ]
  },
  {
   "cell_type": "code",
   "execution_count": null,
   "metadata": {},
   "outputs": [],
   "source": [
    "new_vm = VendingMachine()\n",
    "hd_vm = VendingMachine(hotdogs=20)\n"
   ]
  },
  {
   "cell_type": "code",
   "execution_count": null,
   "metadata": {},
   "outputs": [],
   "source": [
    "new_vm.refill()\n",
    "new_vm.insert_money(10)\n",
    "print(new_vm.buy_chocolate_bar())\n",
    "\n"
   ]
  }
 ],
 "metadata": {
  "anaconda-cloud": {},
  "kernelspec": {
   "display_name": "Python 3",
   "language": "python",
   "name": "python3"
  },
  "language_info": {
   "codemirror_mode": {
    "name": "ipython",
    "version": 3
   },
   "file_extension": ".py",
   "mimetype": "text/x-python",
   "name": "python",
   "nbconvert_exporter": "python",
   "pygments_lexer": "ipython3",
   "version": "3.7.1"
  }
 },
 "nbformat": 4,
 "nbformat_minor": 2
}
