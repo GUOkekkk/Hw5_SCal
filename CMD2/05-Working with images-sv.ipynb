{
 "cells": [
  {
   "cell_type": "markdown",
   "metadata": {},
   "source": [
    "# Working with images\n",
    "\n",
    "Author: Diana Mateus\n"
   ]
  },
  {
   "cell_type": "markdown",
   "metadata": {},
   "source": [
    "## 1. Reading and displaying images\n",
    "Follow the instructions bellow to import the required modules and to read and display the images in the provided image folder. We will use the ```skimage.io``` module. You may also want to explore later the PIL/pillow module ```from PIL import Image```\n",
    "\n",
    "\n",
    "### 1.1 Import the required modules\n",
    "\n",
    "\n"
   ]
  },
  {
   "cell_type": "code",
   "execution_count": 3,
   "metadata": {},
   "outputs": [],
   "source": [
    "import numpy as np\n",
    "import matplotlib.pyplot as plt\n",
    "import os\n",
    "#import skimage.io as io\n",
    "import numpy.random\n"
   ]
  },
  {
   "cell_type": "markdown",
   "metadata": {},
   "source": [
    "### 1.2 Load visualize one image from the patterns \n",
    "\n",
    "```skimage.io``` module allows reading and saving images in a number of formats. It can also read collections of images.\n",
    "\n",
    "\n",
    "use ```plt.tilte``` and ```plt.axis(\"off\")``` to add the filename as title of the figure and remove the axis ticks\n",
    "\n"
   ]
  },
  {
   "cell_type": "code",
   "execution_count": null,
   "metadata": {
    "scrolled": true
   },
   "outputs": [],
   "source": [
    "filename = \"./patterns/15.jpg\"\n",
    "im = io.imread(filename)\n",
    "plt.imshow(im)\n",
    "plt.title(filename) #Remove for sv\n",
    "ax = plt.axis('off') #Remove for sv\n",
    "plt.show()"
   ]
  },
  {
   "cell_type": "markdown",
   "metadata": {},
   "source": [
    "### 1.3 Dimensions, type and range of the array\n",
    "For the image array that you just read is a numpy array, find out:\n",
    "- The dimensions of the array ```shape``` \n",
    "- The numerical type in which the values are saved ```dtype```\n",
    "- The minimum, maximum, mean and standard deviation of its values ```min, max, mean, std```"
   ]
  },
  {
   "cell_type": "code",
   "execution_count": null,
   "metadata": {},
   "outputs": [],
   "source": []
  },
  {
   "cell_type": "markdown",
   "metadata": {},
   "source": [
    "### 1.4 Displaying limits\n",
    "- Add 100 to all the values in the image using broadcasting (just + 100)\n",
    "- Display the image again, what is wrong?\n",
    "- Fix the display by converting the image first to float. Is this enough?\n",
    "- Try then normalizing (dividing by the maximum value)\n",
    "- What is the effect of adding a fix number to all pixels?"
   ]
  },
  {
   "cell_type": "code",
   "execution_count": null,
   "metadata": {},
   "outputs": [],
   "source": []
  },
  {
   "cell_type": "markdown",
   "metadata": {},
   "source": [
    "### 1.4 Grayscale\n",
    "Read and visualize now the image with the extra argument ```as_grey=True```, \n",
    "- how do the visualization and values above change?\n",
    "- how do you fix the visualization? ```cmap='gray'```\n",
    "- add 0.5 to the image values with broadcasting, recompute the values and display\n"
   ]
  },
  {
   "cell_type": "code",
   "execution_count": null,
   "metadata": {},
   "outputs": [],
   "source": []
  },
  {
   "cell_type": "markdown",
   "metadata": {},
   "source": [
    "### 1.4 Size of the displayed image\n",
    "\n",
    "Modify the width and height parameters of the the plotting axis before displaying the image\n",
    "```plt.rcParams['figure.figsize'] = [width, height]```\n",
    "and visualize the image again"
   ]
  },
  {
   "cell_type": "code",
   "execution_count": null,
   "metadata": {},
   "outputs": [],
   "source": []
  },
  {
   "cell_type": "markdown",
   "metadata": {},
   "source": [
    "### 1.6 File format and memory print\n",
    "- Save the image as png and tiff formats with ```io.imsave```. \n",
    "- Compare in the file explorer the memory sizes of the files. \n",
    "- How do you explain the tiff size?"
   ]
  },
  {
   "cell_type": "code",
   "execution_count": null,
   "metadata": {},
   "outputs": [],
   "source": []
  },
  {
   "cell_type": "markdown",
   "metadata": {},
   "source": [
    "### 1.3 Load and visualize a collection of images in a directory\n",
    "\n",
    "Read and visualize all the images in the patterns directory.\n",
    "\n",
    "- First use the ``io.ImageCollection`` to load a stack of images with a pattern name\n",
    "- A second way is to read all the files in a directory is using the ``os`` module\n",
    "```\n",
    "IMDIR = \"./patterns\" #\"/Replace/With/Your/Filepath\"\n",
    "for root, dirnames, filenames in os.walk(IMDIR):\n",
    "    for filename in filenames:\n",
    "        f = os.path.join(root, filename)\n",
    "        \n",
    "        #filter only image files with the following format\n",
    "        if f.endswith(('.png', '.jpg', '.jpeg','.JPG', '.tif', '.gif')):\n",
    "            \n",
    "            # print the paths to current filename if nothing is being found\n",
    "            # print(filename)\n",
    "            \n",
    "            # read the image \n",
    "            im = io.imread(f)\n",
    "            \n",
    "            ...\n",
    "```\n",
    "- To visualize the images use the ```subplot``` function from pyplot\n",
    "- Play again with the figure size rcParams and observe their effect"
   ]
  },
  {
   "cell_type": "code",
   "execution_count": null,
   "metadata": {},
   "outputs": [],
   "source": [
    "#SOLUTION 1 with image collections\n",
    "\n"
   ]
  },
  {
   "cell_type": "code",
   "execution_count": null,
   "metadata": {},
   "outputs": [],
   "source": [
    "#SOLUTION 2 with os.path\n",
    "\n",
    "\n"
   ]
  },
  {
   "cell_type": "markdown",
   "metadata": {},
   "source": [
    "## 2. Manipulating images\n"
   ]
  },
  {
   "cell_type": "markdown",
   "metadata": {},
   "source": [
    "### 2.1 Understanding the different dimensions of the image\n",
    "Read one of the images in color mode. Using python and numpy slicing commands (e.g. ``:`` for intervals, ``-1`` to reverse order, etc) to:\n",
    "- Visualize only a row, a column and a cropped window of an image (Hint: use transpose ```.T``` for rows\n",
    "- Flip the image vertically, horizontally, diagonally\n",
    "- Display separately the color channels as grayscale images\n",
    "- Remove all the blue content of the image. Repeat for the other channels\n",
    "- Convert the image to grayscale, replicate over the three chanels, then choose one of the color channels to draw a cross over the image\n"
   ]
  },
  {
   "cell_type": "code",
   "execution_count": null,
   "metadata": {},
   "outputs": [],
   "source": []
  },
  {
   "cell_type": "markdown",
   "metadata": {},
   "source": [
    "### 2.1 Resize, rescale, downsample\n",
    "- use the following to change the resolution (number of pixels in the image)\n",
    "\n"
   ]
  },
  {
   "cell_type": "code",
   "execution_count": null,
   "metadata": {},
   "outputs": [],
   "source": []
  },
  {
   "cell_type": "markdown",
   "metadata": {},
   "source": [
    "# 3. Histograms"
   ]
  },
  {
   "cell_type": "markdown",
   "metadata": {},
   "source": [
    "- Read one of the images in grayscale mode\n",
    "- Write a function that computes the image histogram given as parameter the number of bins. How to interpret this histogram\n",
    "- Plot the histogram using ```plt.bar```\n",
    "- Compare the histograms for several images"
   ]
  },
  {
   "cell_type": "code",
   "execution_count": null,
   "metadata": {},
   "outputs": [],
   "source": []
  },
  {
   "cell_type": "code",
   "execution_count": null,
   "metadata": {},
   "outputs": [],
   "source": []
  },
  {
   "cell_type": "code",
   "execution_count": null,
   "metadata": {
    "collapsed": true
   },
   "outputs": [],
   "source": [
    "\n"
   ]
  }
 ],
 "metadata": {
  "anaconda-cloud": {},
  "kernelspec": {
   "display_name": "Python 3",
   "language": "python",
   "name": "python3"
  },
  "language_info": {
   "codemirror_mode": {
    "name": "ipython",
    "version": 3
   },
   "file_extension": ".py",
   "mimetype": "text/x-python",
   "name": "python",
   "nbconvert_exporter": "python",
   "pygments_lexer": "ipython3",
   "version": "3.7.1"
  }
 },
 "nbformat": 4,
 "nbformat_minor": 2
}
