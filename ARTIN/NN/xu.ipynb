{
 "cells": [
  {
   "cell_type": "markdown",
   "metadata": {},
   "source": [
    "# Introduction to Neural Networks \n",
    "\n",
    "\n",
    "** Ecole Centrale Nantes **\n",
    "\n",
    "** Diana Mateus **\n"
   ]
  },
  {
   "cell_type": "markdown",
   "metadata": {},
   "source": [
    "** Participants : **\n",
    "\n"
   ]
  },
  {
   "cell_type": "markdown",
   "metadata": {},
   "source": [
    "## General description\n",
    "In this lab we will create a simple classifier based on neural networks. We will progress in two parts:\n",
    "- In the first part, and to better understand the involved operations, we will create a single-neuron model and optimize its parameters \"by hand\". For this first part we will only use the **Numpy** library\n",
    "- We will then build a multi-layer perceptron with the built-in library **Keras** module and **tensorflow**. Tensorflow is already installed in the university computers. If using your own computer you should have already installed **tensorflow** or use **collab** online platform.\n",
    "\n",
    "\n"
   ]
  },
  {
   "cell_type": "code",
   "execution_count": 1,
   "metadata": {},
   "outputs": [],
   "source": [
    "import numpy as np\n",
    "import matplotlib.pyplot as plt\n",
    "import h5py"
   ]
  },
  {
   "cell_type": "markdown",
   "metadata": {},
   "source": [
    "### Loading the dataset\n",
    "Start by runing the following lines to load and visualize the data."
   ]
  },
  {
   "cell_type": "code",
   "execution_count": 2,
   "metadata": {},
   "outputs": [],
   "source": [
    "def load_dataset():\n",
    "    train_dataset = h5py.File('dataset/train_catvnoncat.h5', \"r\")\n",
    "    train_x = np.array(train_dataset[\"train_set_x\"][:]) \n",
    "    train_y = np.array(train_dataset[\"train_set_y\"][:])\n",
    "    test_dataset = h5py.File('dataset/test_catvnoncat.h5', \"r\")\n",
    "    test_x = np.array(test_dataset[\"test_set_x\"][:]) \n",
    "    test_y = np.array(test_dataset[\"test_set_y\"][:])\n",
    "    classes = np.array(test_dataset[\"list_classes\"][:]) \n",
    "    \n",
    "    train_y = train_y.reshape((1, train_y.shape[0]))\n",
    "    test_y = test_y.reshape((1, test_y.shape[0]))\n",
    "    \n",
    "    return train_x, train_y, test_x, test_y, classes\n",
    "\n",
    "train_x, train_y, test_x, test_y, classes=load_dataset()"
   ]
  },
  {
   "cell_type": "markdown",
   "metadata": {},
   "source": [
    "#### Visualize data"
   ]
  },
  {
   "cell_type": "code",
   "execution_count": 3,
   "metadata": {},
   "outputs": [
    {
     "data": {
      "image/png": "[encoded data removed]",
      "text/plain": [
       "<Figure size 432x288 with 1 Axes>"
      ]
     },
     "metadata": {
      "needs_background": "light"
     },
     "output_type": "display_data"
    },
    {
     "name": "stdout",
     "output_type": "stream",
     "text": [
      "Train X shape: (209, 64, 64, 3)\n",
      "We have 209 images of dimensionality 64x64x3\n"
     ]
    }
   ],
   "source": [
    "# run several times to visualize different data points\n",
    "# the title shows the ground truth class labels (0=no cat , 1 = cat)\n",
    "index = np.random.randint(low=0,high=train_y.shape[1])\n",
    "plt.imshow(train_x[index])\n",
    "plt.title(\"Image \"+str(index)+\" label \"+str(train_y[0,index]))\n",
    "plt.show()\n",
    "print (\"Train X shape: \" + str(train_x.shape))\n",
    "print (\"We have \"+str(train_x.shape[0]), \n",
    "       \"images of dimensionality \" \n",
    "       + str(train_x.shape[1])+ \"x\"\n",
    "       + str(train_x.shape[2])+ \"x\"\n",
    "       + str(train_x.shape[3]))"
   ]
  },
  {
   "cell_type": "markdown",
   "metadata": {},
   "source": [
    "#### Preprocessing\n",
    "In the following lines we vectorize the images (Instead of a 2-D image we will give as input to the models a 1-D vector). The normalization makes the image intensities be between 0 and 1, and converts the images to floats."
   ]
  },
  {
   "cell_type": "code",
   "execution_count": 4,
   "metadata": {},
   "outputs": [
    {
     "name": "stdout",
     "output_type": "stream",
     "text": [
      "Train X shape: (12288, 209)\n",
      "Train Y shape: (1, 209)\n",
      "Test X shape: (12288, 50)\n",
      "Test Y shape: (1, 50)\n"
     ]
    }
   ],
   "source": [
    "train_x = train_x.reshape(train_x.shape[0], -1).T\n",
    "test_x = test_x.reshape(test_x.shape[0], -1).T\n",
    "print (\"Train X shape: \" + str(train_x.shape))\n",
    "print (\"Train Y shape: \" + str(train_y.shape))\n",
    "print (\"Test X shape: \" + str(test_x.shape))\n",
    "print (\"Test Y shape: \" + str(test_y.shape))"
   ]
  },
  {
   "cell_type": "code",
   "execution_count": 5,
   "metadata": {},
   "outputs": [],
   "source": [
    "train_x = train_x/255.\n",
    "test_x = test_x/255."
   ]
  },
  {
   "cell_type": "markdown",
   "metadata": {},
   "source": [
    "### 1. Classification with a single neuron \n"
   ]
  },
  {
   "cell_type": "markdown",
   "metadata": {},
   "source": [
    "**a)** Fill-in the following three functions to define the single neuron model:\n",
    "- A function **initialize_parameters** that randomly initializes the model's weights with small values. The number of the weights corresponds to the dimension of the input (size of the image)\n",
    "- A function **sigmoid** that computes the sigmoid activation function\n",
    "- A function **neuron** that given an input vector, weights and biases computes the output of the single neuron model"
   ]
  },
  {
   "cell_type": "code",
   "execution_count": 6,
   "metadata": {},
   "outputs": [],
   "source": [
    "def sigmoid(z):\n",
    "    sigm = 1/(1+np.exp(-z))\n",
    "    return sigm"
   ]
  },
  {
   "cell_type": "code",
   "execution_count": 7,
   "metadata": {},
   "outputs": [],
   "source": [
    "def initialize_parameters(dim):\n",
    "    w = np.random.randn(dim)*0.01  # (12288,1)\n",
    "    b = 0\n",
    "    return w, b"
   ]
  },
  {
   "cell_type": "code",
   "execution_count": 8,
   "metadata": {},
   "outputs": [],
   "source": [
    "def neuron(w, b, X):\n",
    "    pred_y = sigmoid(np.dot(w.T, X) + b)  # (1, 12288) (12288, 209)\n",
    "    return pred_y"
   ]
  },
  {
   "cell_type": "markdown",
   "metadata": {},
   "source": [
    "**b)** **Forward Pass:**\n",
    "Use the three functions above to compute a first forward pass for the input matrix $X$ containing the loaded dataset, for some initialization of the weights and bias.\n",
    " \n",
    " \\begin{align}\n",
    " Y_{\\rm pred}=\\sigma(w^\\top X+b) = [y_{\\rm pred}^{(1)},y_{\\rm pred}^{(2)},\\dots,y_{\\rm pred}^{(m)}]\n",
    " \\end{align}\n",
    " "
   ]
  },
  {
   "cell_type": "code",
   "execution_count": 9,
   "metadata": {},
   "outputs": [
    {
     "name": "stdout",
     "output_type": "stream",
     "text": [
      "shape of pred_y is (209,)\n",
      "shape of train_y is (1, 209)\n",
      "shape of train_y_sq (209,)\n"
     ]
    }
   ],
   "source": [
    "dim_x = train_x.shape[0]\n",
    "w, b = initialize_parameters(dim_x)\n",
    "pred_y = neuron(w, b, train_x)\n",
    "# print('pred_y:', pred_y)\n",
    "# print(pred_y)\n",
    "# print(train_y)\n",
    "print('shape of pred_y is', pred_y.shape)\n",
    "print('shape of train_y is', train_y.shape)\n",
    "train_y_sq = np.squeeze(train_y)\n",
    "print('shape of train_y_sq', train_y_sq.shape)"
   ]
  },
  {
   "cell_type": "code",
   "execution_count": 10,
   "metadata": {},
   "outputs": [],
   "source": [
    "# print(pred_y)\n",
    "# print(train_y)"
   ]
  },
  {
   "cell_type": "markdown",
   "metadata": {},
   "source": [
    "**c) Cost estimation:**\n",
    " \n",
    "We will use a binary cross-entropy loss, so that the empirical risk can be computed as:\n",
    " \\begin{align}\n",
    " E = - \\frac{1}{m} \\sum_{i=1}^m \n",
    " y^{(i)} \\log(y_{\\rm pred}^{(i)}) +\n",
    " (1-y^{(i)}) \\log(1-y_{\\rm pred}^{(i)})\n",
    " \\end{align}\n",
    " \n",
    " The following cross-entropy function should give as result the scalar cost value computed over the entire dataset"
   ]
  },
  {
   "cell_type": "code",
   "execution_count": 11,
   "metadata": {},
   "outputs": [
    {
     "name": "stdout",
     "output_type": "stream",
     "text": [
      "The cost is 0.7601108590720178\n"
     ]
    }
   ],
   "source": [
    "def crossentropy(Y, Ypred):\n",
    "    m = Y.shape[0]\n",
    "    # print('m is', m)\n",
    "    # sum = 0\n",
    "    # for i in range(m):\n",
    "        # print(i)\n",
    "        # sum += (Y[i]*np.log(Ypred[i])+(1-Y[i])*np.log(1 - Ypred[i])) \n",
    "    # cost = -1/m * sum\n",
    "    cost =  (-1/m)* np.sum(Y*np.log(Ypred)+(1-Y)*np.log(1-Ypred))\n",
    "    return cost\n",
    "\n",
    "cost = crossentropy(train_y_sq,pred_y)\n",
    "print('The cost is', cost)"
   ]
  },
  {
   "cell_type": "markdown",
   "metadata": {},
   "source": [
    "**d) Back propagation:**\n",
    "\n",
    "After initializing the parameters and doing a forward pass, we need to backpropagate the cost by computing the gradient with respect to the model parameters to later update the weights\n",
    "\n",
    "\\begin{align}\n",
    "\\frac{\\partial E}{\\partial w} = & \\frac{1}{m} X(Y_{\\rm pred}-Y)^T\\\\\n",
    "\\frac{\\partial E}{\\partial b} = & \\frac{1}{m} (Y_{\\rm pred}-Y)\\\\\n",
    "\\end{align}\n",
    "\n",
    "See a demonstration of how the gradient was computed in \n",
    "https://en.wikipedia.org/wiki/Cross_entropy\n",
    "\n",
    "Fill-in the backpropagation function which receives as input the the training set (X,Y), as well as the current predictions and returns the gradients updates for the weights and bias\n",
    "\n",
    "Hint: When the error is computed for several samples simultaneously, the gradient is averaged over the contribution of different samples."
   ]
  },
  {
   "cell_type": "code",
   "execution_count": 12,
   "metadata": {},
   "outputs": [],
   "source": [
    "def backpropagate(X, Y, Ypred):\n",
    "    m = X.shape[1]\n",
    "    \n",
    "    #find gradient (back propagation)\n",
    "    dw = (1/m)*(np.dot(X,(Ypred-Y).T))\n",
    "    db = (1/m)*np.sum(Ypred-Y)\n",
    "    grads = {\"dw\": dw,\n",
    "             \"db\": db} \n",
    "    \n",
    "    return grads"
   ]
  },
  {
   "cell_type": "markdown",
   "metadata": {},
   "source": [
    "**e) Optimization**\n",
    "After initializing the parameters, computing the cost function, and calculating gradients, we can now update the parameters using gradient descent. Use the functions implemented above to fill_in the \"gradient_descent\" function that optimizes the parameters given a training set X, Y, a fixed number of iterations, and a learning_rate. Store and plot the value of the loss function at each iteration"
   ]
  },
  {
   "cell_type": "code",
   "execution_count": 13,
   "metadata": {},
   "outputs": [
    {
     "name": "stdout",
     "output_type": "stream",
     "text": [
      "Cost after iteration 0: 0.841461\n",
      "Cost after iteration 100: 0.581496\n",
      "Cost after iteration 200: 0.463769\n",
      "Cost after iteration 300: 0.374312\n",
      "Cost after iteration 400: 0.331798\n",
      "Cost after iteration 500: 0.303556\n",
      "Cost after iteration 600: 0.280106\n",
      "Cost after iteration 700: 0.260214\n",
      "Cost after iteration 800: 0.243065\n",
      "Cost after iteration 900: 0.228088\n",
      "Cost after iteration 1000: 0.214870\n",
      "Cost after iteration 1100: 0.203101\n",
      "Cost after iteration 1200: 0.192545\n",
      "Cost after iteration 1300: 0.183016\n",
      "Cost after iteration 1400: 0.174368\n",
      "Cost after iteration 1500: 0.166479\n",
      "Cost after iteration 1600: 0.159254\n",
      "Cost after iteration 1700: 0.152609\n",
      "Cost after iteration 1800: 0.146479\n",
      "Cost after iteration 1900: 0.140805\n",
      "shape of w is (12288,)\n",
      "shape of b is ()\n"
     ]
    }
   ],
   "source": [
    "def gradient_descent(X, Y, iterations, learning_rate):\n",
    "    costs = []\n",
    "    w, b = initialize_parameters(train_x.shape[0])\n",
    "    Y_sq = np.squeeze(Y)\n",
    "    for i in range(iterations):\n",
    "        Ypred = neuron(w, b, X)\n",
    "        cost = crossentropy(Y_sq, Ypred)\n",
    "        grads =  backpropagate(X, Y_sq, Ypred)\n",
    "        #print('grads is', grads)\n",
    "        #print('shape of w is', w.shape)\n",
    "        #update parameters\n",
    "        w = w - learning_rate * grads[\"dw\"]\n",
    "        b = b - learning_rate * grads[\"db\"]\n",
    "        costs.append(cost)\n",
    "        \n",
    "        if i % 100 == 0:\n",
    "            print (\"Cost after iteration %i: %f\" %(i, cost))\n",
    "       \n",
    "    return w, b, costs\n",
    "\n",
    "w, b, costs = gradient_descent(train_x,train_y,iterations=2000, learning_rate = 0.005)\n",
    "print('shape of w is', w.shape)\n",
    "print('shape of b is', b.shape)"
   ]
  },
  {
   "cell_type": "markdown",
   "metadata": {},
   "source": [
    "**e) Plot the training curve**\n",
    "Plot the evolution of the cost vs the iterations "
   ]
  },
  {
   "cell_type": "code",
   "execution_count": 14,
   "metadata": {},
   "outputs": [
    {
     "data": {
      "image/png": "[encoded data removed]",
      "text/plain": [
       "<Figure size 432x288 with 1 Axes>"
      ]
     },
     "metadata": {
      "needs_background": "light"
     },
     "output_type": "display_data"
    }
   ],
   "source": [
    "plt.plot(costs)\n",
    "plt.ylabel('cost')\n",
    "plt.xlabel('iterations')\n",
    "plt.show()"
   ]
  },
  {
   "cell_type": "markdown",
   "metadata": {},
   "source": [
    "**f) Prediction**\n",
    "Use the optimized parameters to make predictions both for the train and test sets and compute the accuracy for each. What do you observe?"
   ]
  },
  {
   "cell_type": "code",
   "execution_count": 15,
   "metadata": {},
   "outputs": [
    {
     "name": "stdout",
     "output_type": "stream",
     "text": [
      "Train Acc: 88.07907116885346 %\n",
      "Test Acc: 64.63506650197601 %\n"
     ]
    }
   ],
   "source": [
    "def predict(w, b, X):    \n",
    "    y_pred = neuron(w, b, X)\n",
    "    return y_pred\n",
    "\n",
    "# predict \n",
    "train_pred_y = predict(w, b, train_x)\n",
    "test_pred_y = predict(w, b, test_x)\n",
    "# print(test_pred_y.shape)\n",
    "print(\"Train Acc: {} %\".format(100 - np.mean(np.abs(train_pred_y - train_y)) * 100))\n",
    "print(\"Test Acc: {} %\".format(100 - np.mean(np.abs(test_pred_y - test_y)) * 100))"
   ]
  },
  {
   "cell_type": "code",
   "execution_count": 16,
   "metadata": {},
   "outputs": [
    {
     "data": {
      "text/plain": [
       "1229"
      ]
     },
     "execution_count": 16,
     "metadata": {},
     "output_type": "execute_result"
    }
   ],
   "source": [
    "round(train_x.shape[0]*0.1)"
   ]
  },
  {
   "cell_type": "markdown",
   "metadata": {},
   "source": [
    "**g) Early stopping** \n",
    "- Adapt the gradient descent function to consider part (a percentage) of the training data for validation. Use the validation set to choose the training hyperparameters (learning_rate, iterations). \n",
    "- Plot the training and validation curves\n",
    "- Report again the training and test accuracy and loss for the new trained model\n",
    "- What do you observe"
   ]
  },
  {
   "cell_type": "code",
   "execution_count": 17,
   "metadata": {},
   "outputs": [],
   "source": [
    "def gradient_descent_early_stopping(X, Y, iterations, learning_rate, percentage):\n",
    "    # split data to training set and validation set\n",
    "    Y = np.squeeze(Y)\n",
    "    train_acc = np.zeros(1000)\n",
    "    val_acc = np.zeros(1000)\n",
    "    print(X.shape[0]*percentage)\n",
    "    print(len(Y)*percentage)\n",
    "    X_train = X[:, :-round(X.shape[1]*percentage)]\n",
    "    print(-round(X.shape[1]*percentage))\n",
    "    X_val = X[:, -round(X.shape[1]*percentage):]\n",
    "    y_train = Y[:-round(len(Y)*percentage)]\n",
    "    y_val = Y[-round(len(Y)*percentage):]\n",
    "    print('shape of X_train is', X_train.shape)\n",
    "    print('shape of X_val is', X_val.shape)\n",
    "    print('shape of y_train is', y_train.shape)\n",
    "    print('shape of y_val is', y_val.shape)\n",
    "    train_costs = []\n",
    "    val_costs = []\n",
    "    lr_list = []\n",
    "    iter_list = []\n",
    "    train_acc_list = []\n",
    "    val_acc_list = []\n",
    "    w, b = initialize_parameters(X_train.shape[0])\n",
    "    # learning_rate = [0.001, 0.005, 0.008, 0.01, 0.05, 0.08, 0.1, 0.5, 0.8]\n",
    "    # iterations: 1000 to 5000\n",
    "    for lr in learning_rate:\n",
    "        print(\"learning rate =\", lr)\n",
    "        for j in range(5):\n",
    "            lr_list.append(lr)\n",
    "            iter_list.append(iterations)\n",
    "            best_acc = 0\n",
    "            for i in range(iterations):\n",
    "                y_pred = neuron(w, b, X_train)\n",
    "                cost = crossentropy(y_train, y_pred)\n",
    "                grads =  backpropagate(X_train, y_train, y_pred)\n",
    "                #print('grads is', grads)\n",
    "                #print('shape of w is', w.shape)\n",
    "                #update parameters\n",
    "                w = w - lr * grads[\"dw\"]\n",
    "                b = b - lr * grads[\"db\"]\n",
    "            y_pred_val = predict(w, b, X_val)\n",
    "            cost_val = crossentropy(y_val, y_pred_val)\n",
    "            train_acc = (100 - np.mean(np.abs(y_pred - y_train)) * 100)\n",
    "            val_acc = (100 - np.mean(np.abs(y_pred_val - y_val)) * 100)\n",
    "            train_acc_list.append(train_acc)\n",
    "            val_acc_list.append(val_acc)\n",
    "            # if val_acc > best_acc, update best_w and best_b\n",
    "            if val_acc > best_acc:\n",
    "                best_w = w\n",
    "                best_b = b\n",
    "                best_acc = val_acc\n",
    "                train_costs.append(cost)\n",
    "                val_costs.append(cost_val)\n",
    "            iterations = iterations + 1000\n",
    "    \n",
    "    return best_w,best_b,train_costs,val_costs, best_acc, lr_list, iter_list, train_acc_list, val_acc_list"
   ]
  },
  {
   "cell_type": "code",
   "execution_count": 18,
   "metadata": {},
   "outputs": [
    {
     "name": "stdout",
     "output_type": "stream",
     "text": [
      "1228.8000000000002\n",
      "20.900000000000002\n",
      "-21\n",
      "shape of X_train is (12288, 188)\n",
      "shape of X_val is (12288, 21)\n",
      "shape of y_train is (188,)\n",
      "shape of y_val is (21,)\n",
      "learning rate = 0.005\n"
     ]
    }
   ],
   "source": [
    "#learning_rate = [0.001, 0.005, 0.01, 0.05, 0.1, 0.5]\n",
    "learning_rate = [0.005]\n",
    "iteration_initial = 500\n",
    "percentage = 0.1\n",
    "# best_w, best_b, train_costs, val_costs = gradient_descent_early_stopping(train_x, train_y, iteration_initial, learning_rate, percentage)\n",
    "best_w,best_b,train_costs,val_costs, best_acc, lr_list, iter_list, train_acc_list, val_acc_list = gradient_descent_early_stopping(train_x, train_y, iteration_initial, learning_rate, percentage)"
   ]
  },
  {
   "cell_type": "code",
   "execution_count": 19,
   "metadata": {},
   "outputs": [
    {
     "data": {
      "text/plain": [
       "[56.574583753067486,\n",
       " 54.462727492234706,\n",
       " 53.55619772102142,\n",
       " 53.01060012474761,\n",
       " 52.64739039932285]"
      ]
     },
     "execution_count": 19,
     "metadata": {},
     "output_type": "execute_result"
    },
    {
     "data": {
      "image/png": "[encoded data removed]",
      "text/plain": [
       "<Figure size 432x288 with 1 Axes>"
      ]
     },
     "metadata": {
      "needs_background": "light"
     },
     "output_type": "display_data"
    }
   ],
   "source": [
    "#plt.plot(lr_list, train_acc)\n",
    "# plt.plot(lr_list, val_acc)\n",
    "plt.plot(train_costs)\n",
    "plt.plot(val_costs)\n",
    "val_acc_list"
   ]
  },
  {
   "cell_type": "markdown",
   "metadata": {},
   "source": [
    "### 2. CNNs with Keras\n",
    "\n",
    "Adapt the example in this website https://keras.io/examples/vision/mnist_convnet/ to our problem. To this end:\n",
    "- change the number of classes and the input size\n",
    "- remove the expand_dims(x_train, -1): it is not necessary to expand the dimensions since our input is 3-dimensional \n",
    "- you may need to transpose the labels vector\n",
    "- change the categorical cross-entropy to the binary cross entropy given that our problem is binary classification. \n",
    "- also change the softmax to sigmoid, the more appropriate activation function for binary data\n",
    "\n",
    "We can choose a single neuron output passed through sigmoid, and then set a threshold to choose the class, or use two neuron output and then perform a softmax.\n",
    "\n",
    "**2.1** Can you get the accuracy better than in our hand single-neuron model?Try different configurations and explain the changes you have made.\n",
    "\n",
    "**2.2** Compute the train and test loss and accuracy after the model has been trained.  What model parameters does the ``fit`` function retain?\n",
    "\n",
    "**2.3** How many parameters does the network have, explain where the number comes from.\n",
    "\n",
    "**2.4** What is the receptive field of the network https://distill.pub/2019/computing-receptive-fields/"
   ]
  },
  {
   "cell_type": "code",
   "execution_count": 20,
   "metadata": {},
   "outputs": [],
   "source": [
    "import numpy as np\n",
    "from tensorflow import keras\n",
    "from tensorflow.keras import layers"
   ]
  },
  {
   "cell_type": "code",
   "execution_count": 21,
   "metadata": {},
   "outputs": [],
   "source": [
    "# the data, split between train and test sets\n",
    "x_train, y_train, x_test, y_test, classes=load_dataset()\n",
    "\n",
    "# Scale images to the [0, 1] range\n",
    "x_train = x_train.astype(\"float32\") / 255\n",
    "x_test = x_test.astype(\"float32\") / 255\n",
    "\n",
    "# convert class vectors to binary class matrices\n",
    "y_train = y_train.T\n",
    "y_test = y_test.T\n",
    "\n",
    "\n"
   ]
  },
  {
   "cell_type": "code",
   "execution_count": 22,
   "metadata": {},
   "outputs": [
    {
     "ename": "SyntaxError",
     "evalue": "invalid syntax (<ipython-input-22-db3e7f78c5b0>, line 2)",
     "output_type": "error",
     "traceback": [
      "\u001b[1;36m  File \u001b[1;32m\"<ipython-input-22-db3e7f78c5b0>\"\u001b[1;36m, line \u001b[1;32m2\u001b[0m\n\u001b[1;33m    model =\u001b[0m\n\u001b[1;37m           ^\u001b[0m\n\u001b[1;31mSyntaxError\u001b[0m\u001b[1;31m:\u001b[0m invalid syntax\n"
     ]
    }
   ],
   "source": [
    "#build the model\n",
    "model =\n",
    "model.summary()"
   ]
  },
  {
   "cell_type": "code",
   "execution_count": null,
   "metadata": {},
   "outputs": [],
   "source": [
    "#comiple and fit"
   ]
  },
  {
   "cell_type": "code",
   "execution_count": null,
   "metadata": {},
   "outputs": [],
   "source": [
    "#evaluate\n"
   ]
  },
  {
   "cell_type": "markdown",
   "metadata": {},
   "source": [
    "## BONUS: \n",
    "Replace the fit function by your own tensorflow  implementation\n",
    "\n",
    "1. Instantiate one of keras.optimizers to train the model.\n",
    "\n",
    "optimizer = \n",
    "\n",
    "2. Instantiate a loss from keras.losses\n",
    "\n",
    "loss_fn = \n",
    "\n",
    "3. Prepare the metrics. Instatiate the metrics from keras.metrics\n",
    "\n",
    "train_acc_metric =\n",
    "val_acc_metric =\n",
    "\n",
    "4. Stochastic Gradient Loop\n",
    "    * Iterate over the dataset in batches with \n",
    "    * Open a GradientTape() scope \n",
    "    * Inside this scope call the model (forward pass)\n",
    "    * Compute the loss outside the scope\n",
    "    * Retrieve the weight gradients\n",
    "    * Use the optimimzer to update the weights with the gradients\n",
    "\n"
   ]
  },
  {
   "cell_type": "code",
   "execution_count": null,
   "metadata": {},
   "outputs": [],
   "source": [
    "\n"
   ]
  }
 ],
 "metadata": {
  "kernelspec": {
   "display_name": "Python 3",
   "language": "python",
   "name": "python3"
  },
  "language_info": {
   "codemirror_mode": {
    "name": "ipython",
    "version": 3
   },
   "file_extension": ".py",
   "mimetype": "text/x-python",
   "name": "python",
   "nbconvert_exporter": "python",
   "pygments_lexer": "ipython3",
   "version": "3.7.1"
  }
 },
 "nbformat": 4,
 "nbformat_minor": 4
}
