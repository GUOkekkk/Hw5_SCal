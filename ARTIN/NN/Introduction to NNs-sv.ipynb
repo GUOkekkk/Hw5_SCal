{
 "cells": [
  {
   "cell_type": "markdown",
   "metadata": {},
   "source": [
    "# Introduction to Neural Networks \n",
    "\n",
    "\n",
    "** Ecole Centrale Nantes **\n",
    "\n",
    "** Diana Mateus **\n"
   ]
  },
  {
   "cell_type": "markdown",
   "metadata": {},
   "source": [
    "** Participants : **\n",
    "\n"
   ]
  },
  {
   "cell_type": "markdown",
   "metadata": {},
   "source": [
    "## General description\n",
    "In this lab we will create a simple classifier based on neural networks. We will progress in two parts:\n",
    "- In the first part, and to better understand the involved operations, we will create a single-neuron model and optimize its parameters \"by hand\". For this first part we will only use the **Numpy** library\n",
    "- We will then build a multi-layer perceptron with the built-in library **Keras** module and **tensorflow**. Tensorflow is already installed in the university computers. If using your own computer you should have already installed **tensorflow** or use **collab** online platform.\n",
    "\n",
    "\n"
   ]
  },
  {
   "cell_type": "code",
   "execution_count": 3,
   "metadata": {},
   "outputs": [],
   "source": [
    "import numpy as np\n",
    "import matplotlib.pyplot as plt\n",
    "import h5py"
   ]
  },
  {
   "cell_type": "markdown",
   "metadata": {},
   "source": [
    "### Loading the dataset\n",
    "Start by runing the following lines to load and visualize the data."
   ]
  },
  {
   "cell_type": "code",
   "execution_count": 4,
   "metadata": {},
   "outputs": [],
   "source": [
    "def load_dataset():\n",
    "    train_dataset = h5py.File('dataset/train_catvnoncat.h5', \"r\")\n",
    "    train_x = np.array(train_dataset[\"train_set_x\"][:]) \n",
    "    train_y = np.array(train_dataset[\"train_set_y\"][:])\n",
    "    test_dataset = h5py.File('dataset/test_catvnoncat.h5', \"r\")\n",
    "    test_x = np.array(test_dataset[\"test_set_x\"][:]) \n",
    "    test_y = np.array(test_dataset[\"test_set_y\"][:])\n",
    "    classes = np.array(test_dataset[\"list_classes\"][:]) \n",
    "    \n",
    "    train_y = train_y.reshape((1, train_y.shape[0]))\n",
    "    test_y = test_y.reshape((1, test_y.shape[0]))\n",
    "    \n",
    "    return train_x, train_y, test_x, test_y, classes\n",
    "\n",
    "train_x, train_y, test_x, test_y, classes=load_dataset()"
   ]
  },
  {
   "cell_type": "markdown",
   "metadata": {},
   "source": [
    "#### Visualize data"
   ]
  },
  {
   "cell_type": "code",
   "execution_count": 5,
   "metadata": {},
   "outputs": [
    {
     "data": {
      "image/png": "[encoded data removed]",
      "text/plain": [
       "<Figure size 432x288 with 1 Axes>"
      ]
     },
     "metadata": {
      "needs_background": "light"
     },
     "output_type": "display_data"
    },
    {
     "name": "stdout",
     "output_type": "stream",
     "text": [
      "Train X shape: (209, 64, 64, 3)\n",
      "We have 209 images of dimensionality 64x64x3\n"
     ]
    }
   ],
   "source": [
    "# run several times to visualize different data points\n",
    "# the title shows the ground truth class labels (0=no cat , 1 = cat)\n",
    "index = np.random.randint(low=0,high=train_y.shape[1])\n",
    "plt.imshow(train_x[index])\n",
    "plt.title(\"Image \"+str(index)+\" label \"+str(train_y[0,index]))\n",
    "plt.show()\n",
    "print (\"Train X shape: \" + str(train_x.shape))\n",
    "print (\"We have \"+str(train_x.shape[0]), \n",
    "       \"images of dimensionality \" \n",
    "       + str(train_x.shape[1])+ \"x\"\n",
    "       + str(train_x.shape[2])+ \"x\"\n",
    "       + str(train_x.shape[3]))"
   ]
  },
  {
   "cell_type": "markdown",
   "metadata": {},
   "source": [
    "#### Preprocessing\n",
    "In the following lines we vectorize the images (Instead of a 2-D image we will give as input to the models a 1-D vector). The normalization makes the image intensities be between 0 and 1, and converts the images to floats."
   ]
  },
  {
   "cell_type": "code",
   "execution_count": 26,
   "metadata": {},
   "outputs": [
    {
     "name": "stdout",
     "output_type": "stream",
     "text": [
      "Train X shape: (12288, 209)\n",
      "Train Y shape: (1, 209)\n",
      "Test X shape: (12288, 50)\n",
      "Test Y shape: (1, 50)\n"
     ]
    }
   ],
   "source": [
    "# Reshape the data\n",
    "train_x = train_x.reshape(train_x.shape[0], -1).T\n",
    "test_x = test_x.reshape(test_x.shape[0], -1).T\n",
    "print (\"Train X shape: \" + str(train_x.shape))\n",
    "print (\"Train Y shape: \" + str(train_y.shape))\n",
    "print (\"Test X shape: \" + str(test_x.shape))\n",
    "print (\"Test Y shape: \" + str(test_y.shape))"
   ]
  },
  {
   "cell_type": "code",
   "execution_count": 32,
   "metadata": {},
   "outputs": [
    {
     "name": "stdout",
     "output_type": "stream",
     "text": [
      "(21, 209)\n"
     ]
    }
   ],
   "source": [
    "val_X = train_x[:round(len(train_x[1])*0.1)]\n",
    "print(val_X.shape)"
   ]
  },
  {
   "cell_type": "code",
   "execution_count": 18,
   "metadata": {},
   "outputs": [],
   "source": [
    "# Normalization\n",
    "train_x = train_x/255.\n",
    "test_x = test_x/255.\n",
    "# print(test_x)"
   ]
  },
  {
   "cell_type": "markdown",
   "metadata": {},
   "source": [
    "### 1. Classification with a single neuron \n"
   ]
  },
  {
   "cell_type": "markdown",
   "metadata": {},
   "source": [
    "**a)** Fill-in the following three functions to define the single neuron model:\n",
    "- A function **initialize_parameters** that randomly initializes the model's weights with small values. The number of the weights corresponds to the dimension of the input (size of the image)\n",
    "- A function **sigmoid** that computes the sigmoid activation function\n",
    "- A function **neuron** that given an input vector, weights and biases computes the output of the single neuron model"
   ]
  },
  {
   "cell_type": "code",
   "execution_count": null,
   "metadata": {},
   "outputs": [],
   "source": [
    "def sigmoid(z):\n",
    "    return (1 / (1 + np.exp(-z)))"
   ]
  },
  {
   "cell_type": "code",
   "execution_count": null,
   "metadata": {},
   "outputs": [],
   "source": [
    "def initialize_parameters(dim):\n",
    "    w = np.random.randn(dim)*0.01\n",
    "    b = 0\n",
    "    return w, b"
   ]
  },
  {
   "cell_type": "code",
   "execution_count": null,
   "metadata": {},
   "outputs": [],
   "source": [
    "def neuron(w,b,X):\n",
    "    pred_y = sigmoid(np.dot(w.T, X) + b)\n",
    "    return pred_y"
   ]
  },
  {
   "cell_type": "markdown",
   "metadata": {},
   "source": [
    "**b)** **Forward Pass:**\n",
    "Use the three functions above to compute a first forward pass for the input matrix $X$ containing the loaded dataset, for some initialization of the weights and bias.\n",
    " \n",
    " \\begin{align}\n",
    " Y_{\\rm pred}=\\sigma(w^\\top X+b) = [y_{\\rm pred}^{(1)},y_{\\rm pred}^{(2)},\\dots,y_{\\rm pred}^{(m)}]\n",
    " \\end{align}\n",
    " "
   ]
  },
  {
   "cell_type": "code",
   "execution_count": null,
   "metadata": {},
   "outputs": [
    {
     "name": "stdout",
     "output_type": "stream",
     "text": [
      "[0.5362462  0.57299473 0.56561698 0.42687221 0.45039509 0.59240764\n",
      " 0.50197812 0.57859752 0.51898787 0.61827116 0.56047198 0.48565279\n",
      " 0.56347742 0.51324357 0.44915495 0.6649728  0.72975563 0.66634311\n",
      " 0.57361426 0.68307831 0.50930585 0.40588886 0.63509182 0.69053831\n",
      " 0.54733422 0.51262222 0.52270725 0.45766053 0.45824264 0.46610539\n",
      " 0.43327512 0.57110452 0.77141204 0.51830295 0.4635967  0.58511973\n",
      " 0.45745554 0.71190345 0.49898059 0.53607347 0.58599047 0.42522662\n",
      " 0.69643518 0.59710535 0.55035154 0.59875242 0.6086452  0.58598357\n",
      " 0.44261737 0.54379556 0.62372353 0.47303897 0.55849447 0.63373467\n",
      " 0.55171192 0.67651641 0.51919757 0.6051944  0.53323032 0.51767392\n",
      " 0.57488694 0.61995094 0.57807818 0.54109587 0.60722665 0.5582882\n",
      " 0.66569835 0.59657143 0.61211611 0.74176636 0.73800365 0.53655272\n",
      " 0.4608692  0.46385266 0.44916732 0.59587872 0.52298712 0.58856748\n",
      " 0.53648995 0.5372238  0.49396223 0.56384384 0.57370164 0.5807119\n",
      " 0.62779864 0.48196267 0.63162193 0.52402179 0.61272561 0.51938628\n",
      " 0.55569671 0.53683607 0.46895872 0.61002731 0.67015636 0.50651576\n",
      " 0.64851658 0.52010822 0.51198124 0.58125373 0.73849859 0.50493528\n",
      " 0.44549821 0.54047074 0.5908871  0.56673444 0.54141749 0.65654355\n",
      " 0.59833274 0.52058524 0.51092122 0.57989951 0.5007346  0.47481058\n",
      " 0.56389573 0.54259589 0.69839871 0.52452497 0.55811804 0.63652269\n",
      " 0.56780965 0.63569833 0.43674669 0.42730218 0.56241459 0.56434943\n",
      " 0.52841146 0.54864077 0.56407726 0.52729548 0.53269001 0.53495158\n",
      " 0.55012591 0.53760119 0.63153541 0.51866615 0.55929906 0.63366871\n",
      " 0.48428589 0.63448595 0.38686484 0.62801684 0.70808346 0.50315028\n",
      " 0.51821456 0.57179904 0.6571639  0.66371608 0.49935363 0.64532303\n",
      " 0.64220623 0.52458311 0.45845052 0.75912836 0.53853238 0.52231932\n",
      " 0.53464714 0.48034157 0.5937874  0.59252674 0.53453164 0.63702649\n",
      " 0.6522251  0.5630263  0.6061504  0.45786198 0.62895397 0.56085439\n",
      " 0.53346656 0.67595587 0.74401967 0.57421238 0.59028229 0.5172209\n",
      " 0.57710145 0.5074207  0.48929883 0.55678259 0.54659354 0.5784724\n",
      " 0.65335115 0.50966891 0.56322943 0.54022668 0.55688229 0.55908593\n",
      " 0.47162762 0.52789514 0.70576735 0.51928838 0.56389786 0.68708052\n",
      " 0.68794819 0.69875835 0.52140459 0.56004129 0.5324871  0.50376924\n",
      " 0.51299887 0.5254835  0.58183537 0.7506511  0.6076193  0.57698428\n",
      " 0.5292581  0.49092822 0.66990485 0.49907181 0.53055601]\n"
     ]
    }
   ],
   "source": [
    "w_ini, b_ini = initialize_parameters(train_x.shape[0])\n",
    "pred_y = neuron(w_ini, b_ini, train_x)\n",
    "\n",
    "# print(len(pred_y))\n",
    "# w_ini\n",
    "print(pred_y)"
   ]
  },
  {
   "cell_type": "markdown",
   "metadata": {},
   "source": [
    "**c) Cost estimation:**\n",
    " \n",
    "We will use a binary cross-entropy loss, so that the empirical risk can be computed as:\n",
    " \\begin{align}\n",
    " E = - \\frac{1}{m} \\sum_{i=1}^m \n",
    " y^{(i)} \\log(y_{\\rm pred}^{(i)}) +\n",
    " (1-y^{(i)}) \\log(1-y_{\\rm pred}^{(i)})\n",
    " \\end{align}\n",
    " \n",
    " The following cross-entropy function should give as result the scalar cost value computed over the entire dataset"
   ]
  },
  {
   "cell_type": "code",
   "execution_count": null,
   "metadata": {},
   "outputs": [
    {
     "data": {
      "text/plain": [
       "223.21925706366648"
      ]
     },
     "execution_count": 10,
     "metadata": {},
     "output_type": "execute_result"
    }
   ],
   "source": [
    "def crossentropy(Y,Ypred):\n",
    "    \n",
    "    m = len(Y)\n",
    "    Y = np.squeeze(Y)\n",
    "    cost = -(1/m) * np.sum(Y*np.log2(Ypred) + (1 - Y)*(np.log2(1 - Ypred)))\n",
    "    cost = np.squeeze(cost)\n",
    "    \n",
    "    return cost\n",
    "\n",
    "\n",
    "\n",
    "crossentropy(train_y, pred_y)"
   ]
  },
  {
   "cell_type": "markdown",
   "metadata": {},
   "source": [
    "**d) Back propagation:**\n",
    "\n",
    "After initializing the parameters and doing a forward pass, we need to backpropagate the cost by computing the gradient with respect to the model parameters to later update the weights\n",
    "\n",
    "\\begin{align}\n",
    "\\frac{\\partial E}{\\partial w} = & \\frac{1}{m} X(Y_{\\rm pred}-Y)^T\\\\\n",
    "\\frac{\\partial E}{\\partial b} = & \\frac{1}{m} \\sum{(Y_{\\rm pred}-Y)}\\\\\n",
    "\\end{align}\n",
    "\n",
    "See a demonstration of how the gradient was computed in \n",
    "https://en.wikipedia.org/wiki/Cross_entropy\n",
    "\n",
    "Fill-in the backpropagation function which receives as input the the training set (X,Y), as well as the current predictions and returns the gradients updates for the weights and bias\n",
    "\n",
    "Hint: When the error is computed for several samples simultaneously, the gradient is averaged over the contribution of different samples."
   ]
  },
  {
   "cell_type": "code",
   "execution_count": null,
   "metadata": {},
   "outputs": [],
   "source": [
    "def backpropagate(X, Y, Ypred):\n",
    "    m = X.shape[1]\n",
    "    \n",
    "    #find gradient (back propagation)\n",
    "    dw = np.dot(X, (Ypred - Y).T)/m\n",
    "    db = np.sum((Ypred - Y))/m\n",
    "    \n",
    "    grads = {\"dw\": dw,\n",
    "             \"db\": db} \n",
    "    \n",
    "    return grads\n",
    "\n"
   ]
  },
  {
   "cell_type": "code",
   "execution_count": null,
   "metadata": {},
   "outputs": [
    {
     "data": {
      "text/plain": [
       "12288"
      ]
     },
     "execution_count": 12,
     "metadata": {},
     "output_type": "execute_result"
    }
   ],
   "source": [
    "grads = backpropagate(train_x, train_y, pred_y)\n",
    "len(grads['dw'])"
   ]
  },
  {
   "cell_type": "markdown",
   "metadata": {},
   "source": [
    "**e) Optimization**\n",
    "After initializing the parameters, computing the cost function, and calculating gradients, we can now update the parameters using gradient descent. Use the functions implemented above to fill_in the \"gradient_descent\" function that optimizes the parameters given a training set X, Y, a fixed number of iterations, and a learning_rate. Store and plot the value of the loss function at each iteration"
   ]
  },
  {
   "cell_type": "code",
   "execution_count": null,
   "metadata": {},
   "outputs": [
    {
     "name": "stdout",
     "output_type": "stream",
     "text": [
      "Cost after iteration 0: 201.163125\n"
     ]
    },
    {
     "name": "stderr",
     "output_type": "stream",
     "text": [
      "E:\\ananconda\\lib\\site-packages\\ipykernel_launcher.py:5: RuntimeWarning: divide by zero encountered in log2\n",
      "  \"\"\"\n",
      "E:\\ananconda\\lib\\site-packages\\ipykernel_launcher.py:5: RuntimeWarning: invalid value encountered in multiply\n",
      "  \"\"\"\n"
     ]
    },
    {
     "name": "stdout",
     "output_type": "stream",
     "text": [
      "Cost after iteration 100: 35882577.260656\n",
      "Cost after iteration 200: 6685129.372667\n",
      "Cost after iteration 300: 24339949.844052\n",
      "Cost after iteration 400: 23915981.384334\n",
      "Cost after iteration 500: 36178559.138554\n",
      "Cost after iteration 600: 17453598.272085\n",
      "Cost after iteration 700: 4062289.104061\n",
      "Cost after iteration 800: 4717262.523399\n",
      "Cost after iteration 900: 19665876.797896\n",
      "Cost after iteration 1000: 19068272.120410\n",
      "Cost after iteration 1100: 25507087.485591\n",
      "Cost after iteration 1200: 9714758.938192\n",
      "Cost after iteration 1300: 16384080.988804\n",
      "Cost after iteration 1400: 3643848.135214\n",
      "Cost after iteration 1500: 21791181.054545\n",
      "Cost after iteration 1600: 11656886.145915\n",
      "Cost after iteration 1700: 8514143.583714\n",
      "Cost after iteration 1800: 27968401.056661\n",
      "Cost after iteration 1900: 9806645.464962\n"
     ]
    }
   ],
   "source": [
    "def gradient_descent(X, Y, iterations, learning_rate):\n",
    "    costs = []\n",
    "    w, b = initialize_parameters(train_x.shape[0])\n",
    "    \n",
    "    for i in range(iterations):\n",
    "        Ypred = neuron(w, b, X)\n",
    "        cost = crossentropy(Y, Ypred)\n",
    "        grads= backpropagate(X, Y, Ypred)\n",
    "        \n",
    "        #update parameters\n",
    "        w = w - grads['dw']*learning_rate\n",
    "        b = b - grads['db']*learning_rate\n",
    "        costs.append(cost)\n",
    "        \n",
    "        if i % 100 == 0:\n",
    "            print (\"Cost after iteration %i: %f\" %(i, cost))\n",
    "       \n",
    "    return w,b, costs\n",
    "\n",
    "w, b, costs = gradient_descent(train_x,train_y,iterations=2000, learning_rate = 0.005)"
   ]
  },
  {
   "cell_type": "markdown",
   "metadata": {},
   "source": [
    "**e) Plot the training curve**\n",
    "Plot the evolution of the cost vs the iterations "
   ]
  },
  {
   "cell_type": "code",
   "execution_count": null,
   "metadata": {},
   "outputs": [],
   "source": [
    "plt.plot(costs)\n",
    "plt.ylabel('cost')\n",
    "plt.xlabel('iterations')\n",
    "plt.show()"
   ]
  },
  {
   "cell_type": "markdown",
   "metadata": {},
   "source": [
    "**f) Prediction**\n",
    "Use the optimized parameters to make predictions both for the train and test sets and compute the accuracy for each. What do you observe?"
   ]
  },
  {
   "cell_type": "code",
   "execution_count": null,
   "metadata": {},
   "outputs": [],
   "source": [
    "def predict(w, b, X):    \n",
    "    y_pred = np.round(sigmoid(np.dot(w.T, X) + b))\n",
    "    return y_pred\n",
    "\n",
    "# predict\n",
    "\n",
    "print(b.shape)\n",
    "\n",
    "train_pred_y = predict(w, b, train_x)\n",
    "test_pred_y = predict(w, b, test_x)\n",
    "\n",
    "print(\"Train Acc: {} %\".format(100 - np.mean(np.abs(train_pred_y - train_y)) * 100))\n",
    "print(\"Test Acc: {} %\".format(100 - np.mean(np.abs(test_pred_y - test_y)) * 100))\n",
    "    "
   ]
  },
  {
   "cell_type": "markdown",
   "metadata": {},
   "source": [
    "**g) Early stopping** \n",
    "- Adapt the gradient descent function to consider part (a percentage) of the training data for validation. Use the validation set to choose the training hyperparameters (learning_rate, iterations). \n",
    "- Plot the training and validation curves\n",
    "- Report again the training and test accuracy and loss for the new trained model\n",
    "- What do you observe\n",
    "\n"
   ]
  },
  {
   "cell_type": "code",
   "execution_count": null,
   "metadata": {},
   "outputs": [],
   "source": [
    "def gradient_descent_early_stopping(X, Y, iterations, learning_rate, percentage=.1):\n",
    "    \n",
    "    return best_w,best_b,train_costs,val_costs"
   ]
  },
  {
   "cell_type": "code",
   "execution_count": null,
   "metadata": {},
   "outputs": [],
   "source": []
  },
  {
   "cell_type": "markdown",
   "metadata": {},
   "source": [
    "### 2. CNNs with Keras\n",
    "\n",
    "Adapt the example in this website https://keras.io/examples/vision/mnist_convnet/ to our problem. To this end:\n",
    "- change the number of classes and the input size\n",
    "- remove the expand_dims(x_train, -1): it is not necessary to expand the dimensions since our input is 3-dimensional \n",
    "- you may need to transpose the labels vector\n",
    "- change the categorical cross-entropy to the binary cross entropy given that our problem is binary classification. \n",
    "- also change the softmax to sigmoid, the more appropriate activation function for binary data\n",
    "\n",
    "We can choose a single neuron output passed through sigmoid, and then set a threshold to choose the class, or use two neuron output and then perform a softmax.\n",
    "\n",
    "**2.1** Can you get the accuracy better than in our hand single-neuron model?Try different configurations and explain the changes you have made.\n",
    "\n",
    "**2.2** Compute the train and test loss and accuracy after the model has been trained.  What model parameters does the ``fit`` function retain?\n",
    "\n",
    "**2.3** How many parameters does the network have, explain where the number comes from.\n",
    "\n",
    "**2.4** What is the receptive field of the network https://distill.pub/2019/computing-receptive-fields/"
   ]
  },
  {
   "cell_type": "code",
   "execution_count": 1,
   "metadata": {},
   "outputs": [],
   "source": [
    "# import numpy as np\n",
    "import tensorflow as tf\n",
    "from tensorflow import keras\n",
    "from tensorflow.keras import layers\n",
    "import numpy as np\n",
    "import matplotlib.pyplot as plt\n",
    "import h5py\n",
    "\n"
   ]
  },
  {
   "cell_type": "code",
   "execution_count": 2,
   "metadata": {},
   "outputs": [],
   "source": [
    "def load_dataset():\n",
    "    train_dataset = h5py.File('dataset/train_catvnoncat.h5', \"r\")\n",
    "    train_x = np.array(train_dataset[\"train_set_x\"][:]) \n",
    "    train_y = np.array(train_dataset[\"train_set_y\"][:])\n",
    "    test_dataset = h5py.File('dataset/test_catvnoncat.h5', \"r\")\n",
    "    test_x = np.array(test_dataset[\"test_set_x\"][:]) \n",
    "    test_y = np.array(test_dataset[\"test_set_y\"][:])\n",
    "    classes = np.array(test_dataset[\"list_classes\"][:]) \n",
    "    \n",
    "    train_y = train_y.reshape((1, train_y.shape[0]))\n",
    "    test_y = test_y.reshape((1, test_y.shape[0]))\n",
    "    \n",
    "    return train_x, train_y, test_x, test_y, classes\n",
    "\n",
    "train_x, train_y, test_x, test_y, classes=load_dataset()"
   ]
  },
  {
   "cell_type": "code",
   "execution_count": 3,
   "metadata": {},
   "outputs": [],
   "source": [
    "# the data, split between train and test sets\n",
    "x_train, y_train, x_test, y_test, classes=load_dataset()\n",
    "\n",
    "# Scale images to the [0, 1] range\n",
    "x_train = x_train.astype(\"float32\") / 255\n",
    "x_test = x_test.astype(\"float32\") / 255\n",
    "\n",
    "# convert class vectors to binary class matrices\n",
    "y_train = y_train.T\n",
    "y_test = y_test.T\n",
    "\n",
    "\n"
   ]
  },
  {
   "cell_type": "code",
   "execution_count": 4,
   "metadata": {},
   "outputs": [
    {
     "name": "stdout",
     "output_type": "stream",
     "text": [
      "Model: \"sequential\"\n",
      "_________________________________________________________________\n",
      "Layer (type)                 Output Shape              Param #   \n",
      "=================================================================\n",
      "conv2d (Conv2D)              (None, 62, 62, 32)        896       \n",
      "_________________________________________________________________\n",
      "conv2d_1 (Conv2D)            (None, 60, 60, 32)        9248      \n",
      "_________________________________________________________________\n",
      "max_pooling2d (MaxPooling2D) (None, 30, 30, 32)        0         \n",
      "_________________________________________________________________\n",
      "conv2d_2 (Conv2D)            (None, 28, 28, 64)        18496     \n",
      "_________________________________________________________________\n",
      "max_pooling2d_1 (MaxPooling2 (None, 14, 14, 64)        0         \n",
      "_________________________________________________________________\n",
      "flatten (Flatten)            (None, 12544)             0         \n",
      "_________________________________________________________________\n",
      "dropout (Dropout)            (None, 12544)             0         \n",
      "_________________________________________________________________\n",
      "dense (Dense)                (None, 2)                 25090     \n",
      "=================================================================\n",
      "Total params: 53,730\n",
      "Trainable params: 53,730\n",
      "Non-trainable params: 0\n",
      "_________________________________________________________________\n"
     ]
    }
   ],
   "source": [
    "#build the model\n",
    "input_shape = x_train.shape[1:] # resize the input shape\n",
    "#print(input_shape)\n",
    "num_classes = 2\n",
    "model = tf.keras.Sequential(\n",
    "    [\n",
    "        keras.Input(shape=input_shape),\n",
    "        layers.Conv2D(32, kernel_size=(3, 3), activation=\"relu\"),\n",
    "        layers.Conv2D(32, kernel_size=(3, 3), activation=\"relu\"),\n",
    "        layers.MaxPooling2D(pool_size=(2, 2)),\n",
    "        layers.Conv2D(64, kernel_size=(3, 3), activation=\"relu\"),\n",
    "        layers.MaxPooling2D(pool_size=(2, 2)),\n",
    "        layers.Flatten(),\n",
    "        layers.Dropout(0.5),\n",
    "        layers.Dense(num_classes, activation=\"sigmoid\"),\n",
    "    ]\n",
    ")\n",
    "\n",
    "\n",
    "model.summary()"
   ]
  },
  {
   "cell_type": "code",
   "execution_count": 5,
   "metadata": {},
   "outputs": [],
   "source": [
    "y_train = np.squeeze(y_train.T) # change the input shape to each image 3 dims\n",
    "y_train = keras.utils.to_categorical(y_train, num_classes) # code the target\n",
    "\n",
    "y_test = np.squeeze(y_test.T) # change the shape\n",
    "y_test = keras.utils.to_categorical(y_test, num_classes) # code the target"
   ]
  },
  {
   "cell_type": "code",
   "execution_count": 6,
   "metadata": {},
   "outputs": [
    {
     "name": "stdout",
     "output_type": "stream",
     "text": [
      "Train on 188 samples, validate on 21 samples\n",
      "Epoch 1/15\n",
      "188/188 [==============================] - 3s 15ms/sample - loss: 0.6663 - accuracy: 0.5691 - val_loss: 0.5237 - val_accuracy: 0.8095\n",
      "Epoch 2/15\n",
      "188/188 [==============================] - 0s 487us/sample - loss: 0.7327 - accuracy: 0.6383 - val_loss: 0.5483 - val_accuracy: 0.8095\n",
      "Epoch 3/15\n",
      "188/188 [==============================] - 0s 488us/sample - loss: 0.6335 - accuracy: 0.6383 - val_loss: 0.5938 - val_accuracy: 0.8095\n",
      "Epoch 4/15\n",
      "188/188 [==============================] - 0s 488us/sample - loss: 0.6274 - accuracy: 0.6383 - val_loss: 0.5436 - val_accuracy: 0.8095\n",
      "Epoch 5/15\n",
      "188/188 [==============================] - 0s 504us/sample - loss: 0.5923 - accuracy: 0.6383 - val_loss: 0.4995 - val_accuracy: 0.8095\n",
      "Epoch 6/15\n",
      "188/188 [==============================] - 0s 483us/sample - loss: 0.5986 - accuracy: 0.6383 - val_loss: 0.5061 - val_accuracy: 0.8095\n",
      "Epoch 7/15\n",
      "188/188 [==============================] - 0s 495us/sample - loss: 0.5426 - accuracy: 0.6383 - val_loss: 0.5185 - val_accuracy: 0.8095\n",
      "Epoch 8/15\n",
      "188/188 [==============================] - 0s 509us/sample - loss: 0.5331 - accuracy: 0.6436 - val_loss: 0.5023 - val_accuracy: 0.8095\n",
      "Epoch 9/15\n",
      "188/188 [==============================] - 0s 477us/sample - loss: 0.5067 - accuracy: 0.6436 - val_loss: 0.5162 - val_accuracy: 0.8095\n",
      "Epoch 10/15\n",
      "188/188 [==============================] - 0s 493us/sample - loss: 0.5145 - accuracy: 0.6383 - val_loss: 0.5108 - val_accuracy: 0.8095\n",
      "Epoch 11/15\n",
      "188/188 [==============================] - 0s 504us/sample - loss: 0.4833 - accuracy: 0.6516 - val_loss: 0.5130 - val_accuracy: 0.7143\n",
      "Epoch 12/15\n",
      "188/188 [==============================] - 0s 488us/sample - loss: 0.4658 - accuracy: 0.7606 - val_loss: 0.5263 - val_accuracy: 0.7143\n",
      "Epoch 13/15\n",
      "188/188 [==============================] - 0s 494us/sample - loss: 0.4398 - accuracy: 0.7606 - val_loss: 0.5626 - val_accuracy: 0.8095\n",
      "Epoch 14/15\n",
      "188/188 [==============================] - 0s 508us/sample - loss: 0.4298 - accuracy: 0.7420 - val_loss: 0.5787 - val_accuracy: 0.8095\n",
      "Epoch 15/15\n",
      "188/188 [==============================] - 0s 493us/sample - loss: 0.4003 - accuracy: 0.8191 - val_loss: 0.6122 - val_accuracy: 0.6667\n"
     ]
    },
    {
     "data": {
      "text/plain": [
       "<tensorflow.python.keras.callbacks.History at 0x1e1e4beb240>"
      ]
     },
     "execution_count": 6,
     "metadata": {},
     "output_type": "execute_result"
    }
   ],
   "source": [
    "#comiple and fit\n",
    "batch_size = 128\n",
    "epochs = 15\n",
    "\n",
    "\n",
    "\n",
    "\n",
    "\n",
    "model.compile(loss=\"binary_crossentropy\", optimizer=\"adam\", metrics=[\"accuracy\"])\n",
    "\n",
    "model.fit(x_train, y_train, batch_size=batch_size, epochs=epochs, validation_split=0.1)"
   ]
  },
  {
   "cell_type": "code",
   "execution_count": null,
   "metadata": {},
   "outputs": [],
   "source": [
    "#evaluate\n",
    "\n",
    "score = model.evaluate(x_test, y_test, verbose=0)\n",
    "print(\"Test loss:\", score[0])\n",
    "print(\"Test accuracy:\", score[1])"
   ]
  },
  {
   "cell_type": "markdown",
   "metadata": {},
   "source": [
    "## BONUS: \n",
    "Replace the fit function by your own tensorflow  implementation\n",
    "\n",
    "1. Instantiate one of keras.optimizers to train the model.\n",
    "\n",
    "optimizer = \n",
    "\n",
    "2. Instantiate a loss from keras.losses\n",
    "\n",
    "loss_fn = \n",
    "\n",
    "3. Prepare the metrics. Instatiate the metrics from keras.metrics\n",
    "\n",
    "train_acc_metric =\n",
    "val_acc_metric =\n",
    "\n",
    "4. Stochastic Gradient Loop\n",
    "    * Iterate over the dataset in batches with \n",
    "    * Open a GradientTape() scope \n",
    "    * Inside this scope call the model (forward pass)\n",
    "    * Compute the loss outside the scope\n",
    "    * Retrieve the weight gradients\n",
    "    * Use the optimimzer to update the weights with the gradients\n",
    "\n"
   ]
  },
  {
   "cell_type": "code",
   "execution_count": null,
   "metadata": {},
   "outputs": [],
   "source": [
    "# Own tensorflow implementation\n",
    "optimizer = tf.keras.optimizers.Adam()\n",
    "\n",
    "loss_fn = tf.keras.losses.BinaryCrossentropy()\n",
    "\n",
    "\n",
    "\n",
    "epoch_loss_avg = tf.keras.metrics.Mean('train_loss')\n",
    "train_accuracy = tf.keras.metrics.Accuracy()\n",
    "\n",
    "\n",
    "epoch_loss_avg_test = tf.keras.metrics.Mean('test_loss')\n",
    "test_accuracy = tf.keras.metrics.Accuracy()\n",
    "\n",
    "def train_step(model, images, labels):\n",
    "    with tf.GradientTape() as t:\n",
    "        pred = model(images)\n",
    "        loss_step = loss_fn(labels, pred)\n",
    "    grads = t.gradient(loss_step, model.trainable_variables)\n",
    "    optimizer.apply_gradients(zip(grads, model.trainable_variables))\n",
    "    epoch_loss_avg(loss_step)\n",
    "    train_accuracy(labels, tf.cast(pred > 0.5, tf.int32))\n",
    "\n",
    "def test_step(model ,images,labels):\n",
    "    pred = model.predict(images)\n",
    "    loss_step = loss_fn(labels, pred)\n",
    "    epoch_loss_avg_test(loss_step)\n",
    "    test_accuracy(labels,tf.cast(pred > 0.5, tf.int32))\n",
    "\n",
    "\n",
    "train_loss_results = []\n",
    "train_acc_results = []\n",
    "\n",
    "test_loss_results = []\n",
    "test_acc_results = []\n",
    "\n",
    "num_epochs = 60\n",
    "batch_size = 128\n",
    "\n",
    "\n",
    "x_train, y_train, x_test, y_test, classes=load_dataset()\n",
    "\n",
    "x_train = x_train.astype(\"float32\") / 255\n",
    "x_test = x_test.astype(\"float32\") / 255\n",
    "\n",
    "y_train = y_train.T\n",
    "y_test = y_test.T\n",
    "\n",
    "y_train = np.squeeze(y_train.T) # change the input shape to each image 3 dims\n",
    "y_train = keras.utils.to_categorical(y_train, num_classes) # code the target\n",
    "\n",
    "y_test = np.squeeze(y_test.T) # change the shape\n",
    "y_test = keras.utils.to_categorical(y_test, num_classes) # code the target\n",
    "\n",
    "\n",
    "for each in range(num_epochs):\n",
    "    train_step(model, x_train, y_train)\n",
    "    print('.', end='')\n",
    "    train_loss_results.append(epoch_loss_avg.result())\n",
    "    train_acc_results.append(train_accuracy.result())\n",
    "        \n",
    "    test_step(model, x_test, y_test)\n",
    "    test_loss_results.append(epoch_loss_avg_test.result())\n",
    "    test_acc_results.append(test_accuracy.result())\n",
    "    print()\n",
    "    print('Epoch:{}:loss:{:.3f}, accuracy:{:.3f}, test_loss:{:.3f}, test_accuracy:{:.3f}'.format(\n",
    "        each+1,\n",
    "        epoch_loss_avg.result(),\n",
    "        train_accuracy.result(),\n",
    "        epoch_loss_avg_test.result(),\n",
    "        test_accuracy.result()\n",
    "    ))# print the result\n",
    "    epoch_loss_avg.reset_states()\n",
    "    train_accuracy.reset_states()\n",
    "    epoch_loss_avg_test.reset_states()\n",
    "    test_accuracy.reset_states()\n",
    "\n"
   ]
  },
  {
   "cell_type": "code",
   "execution_count": null,
   "metadata": {},
   "outputs": [],
   "source": []
  }
 ],
 "metadata": {
  "kernelspec": {
   "display_name": "Python 3",
   "language": "python",
   "name": "python3"
  },
  "language_info": {
   "codemirror_mode": {
    "name": "ipython",
    "version": 3
   },
   "file_extension": ".py",
   "mimetype": "text/x-python",
   "name": "python",
   "nbconvert_exporter": "python",
   "pygments_lexer": "ipython3",
   "version": "3.7.1"
  }
 },
 "nbformat": 4,
 "nbformat_minor": 4
}
