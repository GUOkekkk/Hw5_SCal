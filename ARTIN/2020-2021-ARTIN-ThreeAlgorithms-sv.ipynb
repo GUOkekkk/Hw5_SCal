{
 "cells": [
  {
   "cell_type": "markdown",
   "metadata": {
    "id": "FQB6jUVevZRb"
   },
   "source": [
    "# Three learning algorithms\n",
    "\n",
    "**Author: Diana Mateus**\n",
    "\n",
    "**Participants: Ke GUO & Martin CLERGEAU & ALEJANDRO GONZALEZ**\n"
   ]
  },
  {
   "cell_type": "markdown",
   "metadata": {
    "id": "alKP72LX0DnN"
   },
   "source": [
    "\n",
    "Scikit-learn is a very popular Machine Learning library for Python. In this notebook we will study how to put in practice the the three simple machine learning models \n",
    "\n",
    "*   Linear Regression\n",
    "*   K-nearest neighbors\n",
    "*   Naive Bayes \n",
    "\n",
    "\n",
    "**GOALS**: \n",
    "\n",
    "*   Understanding the purpose of data splitting in Machine Learning\n",
    "*   Experimenting the train, val and test schemes with existing model from the scikit library\n",
    "*   Evaluating a binary classification or a regression ML approach\n"
   ]
  },
  {
   "cell_type": "markdown",
   "metadata": {
    "id": "h7l9znFXqw3h"
   },
   "source": [
    "## 0. Importing Modules and Data"
   ]
  },
  {
   "cell_type": "markdown",
   "metadata": {},
   "source": [
    "Run the following lines to load the modules required for this lab."
   ]
  },
  {
   "cell_type": "code",
   "execution_count": 26,
   "metadata": {
    "id": "Vy_xMsgDq0jx"
   },
   "outputs": [],
   "source": [
    "import numpy as np #scientific computing (in ML it handles and operates on multi-dimensional arrays)\n",
    "import matplotlib.pyplot as plt #for data visualization\n",
    "import sklearn #for Machine Learning\n",
    "import pandas as pd #for reading, writing and processing databases \n"
   ]
  },
  {
   "cell_type": "code",
   "execution_count": 27,
   "metadata": {},
   "outputs": [
    {
     "name": "stdout",
     "output_type": "stream",
     "text": [
      "Wall time: 0 ns\n"
     ]
    }
   ],
   "source": [
    "%matplotlib inline\n",
    "%time"
   ]
  },
  {
   "cell_type": "markdown",
   "metadata": {
    "id": "GeEfQr-WraKX"
   },
   "source": [
    "### Loading and Splitting Data\n",
    "\n",
    "Remember that the objective of a Supervised Machine Learning methods is\n",
    "\n",
    "*   to learn from examples\n",
    "*   how to make predictions\n",
    "*   for unseen data!!! (Generalization)\n",
    "\n",
    "To train a supervised learning model we need an annotated dataset. The dataset is often a matrix $X$ of dimensions NxD, with N  the number of points/samples and $D$ the dimensionality of the vector describing *one* sample.\n",
    "\n",
    "We need part of the data to train the model parameters. Moreover, if the model has hyperparameters (non trainable parameters) their tunning should be done on a different subset of the data. Finally, to verify that the model generalises well, it is important to evaluate its performance on unseen data (not used for training nor validation). For the above reasons necessary to split the data matrix into three groups:\n",
    "*  **Training set** : used to fit the model parameters.\n",
    "*  **Validation set** : used to set the model hyper-parameters.\n",
    "*  **Test set** : used only after training and validation have been finished to evaluate the performance of the method.\n",
    "\n",
    "For real life problems is important to reduce the use of the test set to its minimum, to improve generalization.\n",
    "\n",
    "**What to do**: Run the following sections to load and split two datasets: one for regression and one for classification. Explore and change the code lines to understand the dataset dimension and how to split it\n"
   ]
  },
  {
   "cell_type": "markdown",
   "metadata": {
    "id": "9zyK0InZ2N3b"
   },
   "source": [
    "### Datasets for Regression\n"
   ]
  },
  {
   "cell_type": "code",
   "execution_count": 28,
   "metadata": {
    "colab": {
     "base_uri": "https://localhost:8080/"
    },
    "id": "IRYBPKoXtRNg",
    "outputId": "18580ba5-483e-4ff0-b1ca-4d84c23a71de"
   },
   "outputs": [
    {
     "name": "stdout",
     "output_type": "stream",
     "text": [
      "The full data matrix has shape (442, 10)\n",
      "(442, 1)\n",
      "Dimension of the feature vector ['age', 'sex', 'bmi', 'bp', 's1', 's2', 's3', 's4', 's5', 's6']\n",
      "Dimension of the target value (442,)\n",
      "X train (412, 1)\n",
      "X test (30, 1)\n",
      "y train (412,)\n",
      "y test (30,)\n"
     ]
    }
   ],
   "source": [
    "from sklearn import datasets \n",
    "diabetes = datasets.load_diabetes()\n",
    "\n",
    "# Explore on your own the dimensions of the dataset and their meaning. \n",
    "print('The full data matrix has shape',diabetes.data.shape) # 442 * 10\n",
    "\n",
    "#print(diabetes)\n",
    "\n",
    "X = diabetes.data[:, np.newaxis, 2]  # choose bmi\n",
    "\n",
    "print(X.shape)\n",
    "\n",
    "# Splitting the data matrix\n",
    "X_train = X[:-30]\n",
    "X_test = X[-30:]\n",
    "y_train = diabetes.target[:-30]\n",
    "y_test = diabetes.target[-30:]\n",
    "\n",
    "# Explore the data\n",
    "#print(diabetes.DESCR) #Comment/Uncomment to see the dataset description\n",
    "print('Dimension of the feature vector', diabetes.feature_names)\n",
    "print('Dimension of the target value',diabetes.target.shape)\n",
    "print('X train', X_train.shape)\n",
    "print('X test',X_test.shape)\n",
    "print('y train',y_train.shape)\n",
    "print('y test',y_test.shape)\n",
    "\n",
    "#print(X_train)\n"
   ]
  },
  {
   "cell_type": "markdown",
   "metadata": {},
   "source": []
  },
  {
   "cell_type": "markdown",
   "metadata": {
    "id": "ZBlpHylU7cbZ"
   },
   "source": [
    "### Datasets for Classification"
   ]
  },
  {
   "cell_type": "code",
   "execution_count": 29,
   "metadata": {
    "colab": {
     "base_uri": "https://localhost:8080/"
    },
    "id": "GwPqKKx8rZ2U",
    "outputId": "6c3bd091-6493-4f86-e178-2e7947347d27",
    "scrolled": false
   },
   "outputs": [
    {
     "name": "stdout",
     "output_type": "stream",
     "text": [
      "['malignant' 'benign']\n",
      "(569,)\n",
      "['mean radius' 'mean texture' 'mean perimeter' 'mean area'\n",
      " 'mean smoothness' 'mean compactness' 'mean concavity'\n",
      " 'mean concave points' 'mean symmetry' 'mean fractal dimension'\n",
      " 'radius error' 'texture error' 'perimeter error' 'area error'\n",
      " 'smoothness error' 'compactness error' 'concavity error'\n",
      " 'concave points error' 'symmetry error' 'fractal dimension error'\n",
      " 'worst radius' 'worst texture' 'worst perimeter' 'worst area'\n",
      " 'worst smoothness' 'worst compactness' 'worst concavity'\n",
      " 'worst concave points' 'worst symmetry' 'worst fractal dimension']\n",
      "(569, 30)\n"
     ]
    }
   ],
   "source": [
    "from sklearn.datasets import load_breast_cancer\n",
    "data = load_breast_cancer()\n",
    "\n",
    "label_names = data['target_names']\n",
    "labels = data['target']\n",
    "feature_names = data['feature_names']\n",
    "features = data['data']\n",
    "\n",
    "print(label_names)\n",
    "print(labels.shape)\n",
    "print(feature_names)\n",
    "print(features.shape)\n",
    "#print(data.DESCR) #Comment/Uncomment to see or hide the dataset description"
   ]
  },
  {
   "cell_type": "markdown",
   "metadata": {},
   "source": [
    "### Dataset splitting"
   ]
  },
  {
   "cell_type": "markdown",
   "metadata": {},
   "source": [
    "The following scikit function splits the dataset into train and test"
   ]
  },
  {
   "cell_type": "code",
   "execution_count": 30,
   "metadata": {
    "id": "_nRhb-PHruH9"
   },
   "outputs": [],
   "source": [
    "from sklearn.model_selection import train_test_split # split the data\n",
    "\n",
    "X2_train, X2_test, y2_train, y2_test = train_test_split(features,labels,test_size = 0.40, random_state = 42)\n"
   ]
  },
  {
   "cell_type": "markdown",
   "metadata": {
    "id": "S8bb5p0PqVv0"
   },
   "source": [
    "# 1. Training a ML model\n",
    "\n",
    "When relying with on the scikit library, training a model is very simple. You  need to:\n",
    "*   Load the model from scikit\n",
    "*   Declare a new instance of the model \n",
    "*   Train the model parameters\n",
    "*   Make predictions for new data\n",
    "*   Evaluate the performance\n",
    "\n",
    "Identify in the example code the above steps\n"
   ]
  },
  {
   "cell_type": "markdown",
   "metadata": {
    "id": "tQZxSTfNAY5T"
   },
   "source": [
    "\n",
    "### Model 1. Linear Regression"
   ]
  },
  {
   "cell_type": "code",
   "execution_count": 31,
   "metadata": {
    "id": "tqUdMUhttNL0"
   },
   "outputs": [],
   "source": [
    "#Load and declare a new instance \n",
    "from sklearn import linear_model\n",
    "regr = linear_model.LinearRegression()"
   ]
  },
  {
   "cell_type": "code",
   "execution_count": 32,
   "metadata": {
    "colab": {
     "base_uri": "https://localhost:8080/"
    },
    "id": "PyaY_YzU9oUY",
    "outputId": "ee80b31c-9020-4cdd-e3ab-56281e436370"
   },
   "outputs": [
    {
     "name": "stdout",
     "output_type": "stream",
     "text": [
      "Coefficients: \n",
      " [941.43097333]\n",
      "Intercept: \n",
      " 153.39713623331698\n"
     ]
    }
   ],
   "source": [
    "#Fit (train) the model \n",
    "regr.fit(X_train, y_train)\n",
    "print('Coefficients: \\n', regr.coef_)\n",
    "print('Intercept: \\n', regr.intercept_)"
   ]
  },
  {
   "cell_type": "code",
   "execution_count": 33,
   "metadata": {
    "id": "Psq8bTAL9oCq"
   },
   "outputs": [],
   "source": [
    "#Make predictions\n",
    "y_pred = regr.predict(X_test)"
   ]
  },
  {
   "cell_type": "code",
   "execution_count": 34,
   "metadata": {
    "colab": {
     "base_uri": "https://localhost:8080/"
    },
    "id": "8bJhCgqX__rk",
    "outputId": "f9cf94c4-0e6f-4efb-c0cf-79016b00e8c1"
   },
   "outputs": [
    {
     "name": "stdout",
     "output_type": "stream",
     "text": [
      "Mean squared error: 3035.06\n",
      "Variance score: 0.41\n"
     ]
    }
   ],
   "source": [
    "#Evaluate the performance\n",
    "from sklearn.metrics import mean_squared_error, r2_score\n",
    "print(\"Mean squared error: %.2f\" % mean_squared_error(y_test, y_pred))\n",
    "print('Variance score: %.2f' % r2_score(y_test, y_pred))"
   ]
  },
  {
   "cell_type": "code",
   "execution_count": 35,
   "metadata": {
    "colab": {
     "base_uri": "https://localhost:8080/",
     "height": 279
    },
    "id": "_jgPq4a-9po-",
    "outputId": "846e5478-3f98-4bdb-97be-dc23243e7ae4"
   },
   "outputs": [
    {
     "data": {
      "image/png": "[encoded data removed]",
      "text/plain": [
       "<Figure size 432x288 with 1 Axes>"
      ]
     },
     "metadata": {
      "needs_background": "light"
     },
     "output_type": "display_data"
    }
   ],
   "source": [
    "#Visualize \n",
    "plt.scatter(X_test, y_test, color='blue')\n",
    "plt.plot(X_test, y_pred, color='red', linewidth=3)\n",
    "plt.xlabel('bmi')\n",
    "plt.ylabel('diabetes progression')\n",
    "plt.show()"
   ]
  },
  {
   "cell_type": "markdown",
   "metadata": {
    "id": "TMLpS4k1qZC0"
   },
   "source": [
    "## Model 2. K-Nearest Neighbors Classifier"
   ]
  },
  {
   "cell_type": "code",
   "execution_count": 36,
   "metadata": {
    "colab": {
     "base_uri": "https://localhost:8080/"
    },
    "id": "45Ma2BaVsqIF",
    "outputId": "951ea8eb-605d-4f77-f0cc-763c1146acc9"
   },
   "outputs": [
    {
     "name": "stdout",
     "output_type": "stream",
     "text": [
      "(228,)\n"
     ]
    }
   ],
   "source": [
    "from sklearn.neighbors import KNeighborsClassifier\n",
    "knnClassifier = KNeighborsClassifier(n_neighbors=2)\n",
    "knnClassifier.fit(X2_train, y2_train)\n",
    "y2_pred_knn = knnClassifier.predict(X2_test)\n",
    "print(y2_pred_knn.shape)"
   ]
  },
  {
   "cell_type": "code",
   "execution_count": 37,
   "metadata": {
    "colab": {
     "base_uri": "https://localhost:8080/"
    },
    "id": "EvDv8enObTc2",
    "outputId": "703c0cee-d78e-4575-a510-2ae39f6cf1e1"
   },
   "outputs": [
    {
     "name": "stdout",
     "output_type": "stream",
     "text": [
      "train accuracy 0.9560117302052786\n",
      "test accuracy 0.9166666666666666\n",
      "Wall time: 5.96 ms\n"
     ]
    }
   ],
   "source": [
    "%%time\n",
    "#Compute accuracy on the training set\n",
    "train_accuracy = knnClassifier.score(X2_train, y2_train)\n",
    "    \n",
    "#Compute accuracy on the test set\n",
    "test_accuracy = knnClassifier.score(X2_test, y2_test) \n",
    "\n",
    "print('train accuracy', train_accuracy)\n",
    "print('test accuracy',test_accuracy)"
   ]
  },
  {
   "cell_type": "markdown",
   "metadata": {
    "id": "0Uy3nUkjqdNl"
   },
   "source": [
    "## Model 3. Naive Bayes Classifier"
   ]
  },
  {
   "cell_type": "code",
   "execution_count": 38,
   "metadata": {
    "colab": {
     "base_uri": "https://localhost:8080/"
    },
    "id": "yEkGgcgUqn_K",
    "outputId": "12903e0d-6048-4804-c396-6a3eeb82237e"
   },
   "outputs": [
    {
     "name": "stdout",
     "output_type": "stream",
     "text": [
      "(228,)\n"
     ]
    }
   ],
   "source": [
    "from sklearn.naive_bayes import GaussianNB\n",
    "gnbClassifier = GaussianNB()\n",
    "gnbClassifier.fit(X2_train,y2_train)\n",
    "y2_pred_gnb = gnbClassifier.predict(X2_test)\n",
    "print(y2_pred_gnb.shape)"
   ]
  },
  {
   "cell_type": "code",
   "execution_count": 39,
   "metadata": {
    "colab": {
     "base_uri": "https://localhost:8080/"
    },
    "id": "a1uU7olRcdpM",
    "outputId": "e44b868f-d149-4c2e-a404-45b8b7025bde"
   },
   "outputs": [
    {
     "name": "stdout",
     "output_type": "stream",
     "text": [
      "train accuracy 0.9384164222873901\n",
      "test accuracy 0.9517543859649122\n"
     ]
    }
   ],
   "source": [
    "#Compute accuracy on the training set\n",
    "train_accuracy = gnbClassifier.score(X2_train, y2_train)\n",
    "\n",
    "#Compute accuracy on the test set\n",
    "test_accuracy = gnbClassifier.score(X2_test, y2_test) \n",
    "\n",
    "print('train accuracy', train_accuracy)\n",
    "print('test accuracy',test_accuracy)"
   ]
  },
  {
   "cell_type": "markdown",
   "metadata": {
    "id": "iftgXOiztm1y"
   },
   "source": [
    "# QUESTIONS\n",
    "\n",
    "\n",
    "\n",
    "1.   In the regression example and keeping the size of the test set fixed, what is the effect on the (test) performance when we progressively increase the amount of training data? Demonstrate with performane plots and discuss.\n",
    "2.   In the linear regression example and keeping the size of the test set fixed, what is the effect of using other varaibles other than the  'bmi' used during training?, is it using more information always better? (try adding new features, report results and discuss the results).\n",
    "3.   In the above examples, we have split each dataset into two subsets each. Are two subsets (train and test) enough for the three models (lin reg, KNN, NaiveBayes)? Answer for each model.\n",
    "4.   Repeat the KNN example, but splitting the dataset into three subsets(train,val,test). Progressively modify the hyperparameter k.  What is the best neighborhood size k?, what is the appropriate methodologogy to find this number? \n",
    "5.   How do we know if learning was really succesful (vs underfitting or overfitting?)\n",
    "7. What is the highest performance you can achieve for the two classification methods? What model for classification is better?, why?\n",
    "8.   Naive classifiers are probabilistic classifiers. How do we recover the probabilistic information associated to this model? What quantities can we recover?\n",
    "9.   How is the performance score computed? create a function that calculates the TP, TN, FP and FN and replace the in-built score function with your own. Provide this code into the report. \n",
    "10.   We saw in the lecture that linear models were used for regression, while KNN and Naive Bayes were used for classification. Can we use linear models for classification?  KNN or Naive Bayes for regression problems?\n",
    "\n",
    "**BONUS**\n",
    "Implement your own version of one of the three algorithms and compare the results\n",
    "\n"
   ]
  },
  {
   "cell_type": "markdown",
   "metadata": {
    "id": "kzbylb5UeWQn"
   },
   "source": [
    "### Question1\n",
    "##### In the regression example and keeping the size of the test set fixed, what is the effect on the (test) performance when we progressively increase the amount of training data? Demonstrate with performane plots and discuss."
   ]
  },
  {
   "cell_type": "code",
   "execution_count": 40,
   "metadata": {},
   "outputs": [
    {
     "name": "stdout",
     "output_type": "stream",
     "text": [
      "(442, 1)\n",
      "Shape of training data 1 (412, 1)\n",
      "Shape of training data 2 (442, 1)\n",
      "Coefficients of training data 1: \n",
      " [941.43097333]\n",
      "Intercept of training data 1: \n",
      " 153.39713623331698\n",
      "Coefficients of training data 2: \n",
      " [949.43526038]\n",
      "Intercept of training data 2: \n",
      " 152.1334841628967\n",
      "Mean squared error of training data 1: 3035.06\n",
      "Variance score of training data 1: 0.41\n",
      "Mean squared error of training data 2: 2985.51\n",
      "Variance score of training data 2: 0.42\n"
     ]
    },
    {
     "data": {
      "image/png": "[encoded data removed]",
      "text/plain": [
       "<Figure size 432x288 with 1 Axes>"
      ]
     },
     "metadata": {
      "needs_background": "light"
     },
     "output_type": "display_data"
    },
    {
     "data": {
      "text/plain": [
       "Text(0.5, 0, 'Numbers of training data')"
      ]
     },
     "execution_count": 40,
     "metadata": {},
     "output_type": "execute_result"
    },
    {
     "data": {
      "image/png": "[encoded data removed]",
      "text/plain": [
       "<Figure size 432x288 with 2 Axes>"
      ]
     },
     "metadata": {
      "needs_background": "light"
     },
     "output_type": "display_data"
    }
   ],
   "source": [
    "from sklearn import datasets \n",
    "diabetes = datasets.load_diabetes()\n",
    "\n",
    "# Explore on your own the dimensions of the dataset and their meaning. \n",
    "#print('The full data matrix has shape',diabetes.data.shape) # 442 * 10\n",
    "\n",
    "#print(diabetes)\n",
    "\n",
    "X = diabetes.data[:, np.newaxis, 2]  # choose bmi\n",
    "\n",
    "print(X.shape)\n",
    "\n",
    "# Splitting the data matrix\n",
    "X_train_1 = X[:-30]\n",
    "X_test = X[-30:] # fixed\n",
    "y_train_1 = diabetes.target[:-30]\n",
    "y_test = diabetes.target[-30:]\n",
    "\n",
    "print('Shape of training data 1',X_train_1.shape)\n",
    "\n",
    "X_train_2 = X[:]\n",
    "y_train_2 = diabetes.target[:]\n",
    "\n",
    "print('Shape of training data 2',X_train_2.shape)\n",
    "\n",
    "#Load and declare a new instance \n",
    "from sklearn import linear_model\n",
    "regr_1 = linear_model.LinearRegression()\n",
    "regr_2 = linear_model.LinearRegression()\n",
    "\n",
    "#Fit (train) the model \n",
    "regr_1.fit(X_train_1, y_train_1)\n",
    "print('Coefficients of training data 1: \\n', regr_1.coef_)\n",
    "print('Intercept of training data 1: \\n', regr_1.intercept_)\n",
    "\n",
    "regr_2.fit(X_train_2, y_train_2)\n",
    "print('Coefficients of training data 2: \\n', regr_2.coef_)\n",
    "print('Intercept of training data 2: \\n', regr_2.intercept_)\n",
    "\n",
    "\n",
    "\n",
    "y_pred_1 = regr_1.predict(X_test)\n",
    "y_pred_2 = regr_2.predict(X_test)\n",
    "\n",
    "from sklearn.metrics import mean_squared_error, r2_score\n",
    "print(\"Mean squared error of training data 1: %.2f\" % mean_squared_error(y_test, y_pred_1))\n",
    "print('Variance score of training data 1: %.2f' % r2_score(y_test, y_pred_1))\n",
    "\n",
    "\n",
    "print(\"Mean squared error of training data 2: %.2f\" % mean_squared_error(y_test, y_pred_2))\n",
    "print('Variance score of training data 2: %.2f' % r2_score(y_test, y_pred_2))\n",
    "\n",
    "\n",
    "\n",
    "plt.scatter(X_test, y_test, color='blue')\n",
    "plt.plot(X_test, y_pred_1, color='red', linewidth=3)\n",
    "plt.plot(X_test, y_pred_2, color='green', linewidth=3)\n",
    "plt.xlabel('bmi')\n",
    "plt.ylabel('diabetes progression')\n",
    "plt.show()\n",
    "\n",
    "\n",
    "size = X.shape[0]\n",
    "mse = []\n",
    "score = []\n",
    "for i in range(size):\n",
    "    X_train = X[:i+1]\n",
    "    y_train = diabetes.target[:i+1]\n",
    "    regr = linear_model.LinearRegression()\n",
    "    regr.fit(X_train, y_train)\n",
    "    y_pred = regr.predict(X_test)\n",
    "    mse.append(mean_squared_error(y_test, y_pred))\n",
    "    score.append(r2_score(y_test, y_pred))\n",
    "plt.subplot(1,2,1)\n",
    "plt.plot(mse,label='Mean Square Error')\n",
    "plt.xlabel('Numbers of training data')\n",
    "plt.legend()\n",
    "plt.subplot(1,2,2)\n",
    "plt.plot(score,color='red',label='Variance Score')\n",
    "plt.legend()\n",
    "plt.xlabel('Numbers of training data')\n",
    "\n",
    "\n"
   ]
  },
  {
   "cell_type": "markdown",
   "metadata": {},
   "source": [
    "##### When increasing the size of training data, from the above result we can see that the mean squared error is decreasing and the variance score increases. Cause the training data already includes the test data. "
   ]
  },
  {
   "cell_type": "markdown",
   "metadata": {},
   "source": [
    "### Question2\n",
    "##### In the linear regression example and keeping the size of the test set fixed, what is the effect of using other varaibles other than the 'bmi' used during training?, is it using more information always better? (try adding new features, report results and discuss the results)\n",
    "\n"
   ]
  },
  {
   "cell_type": "code",
   "execution_count": 41,
   "metadata": {},
   "outputs": [
    {
     "data": {
      "text/plain": [
       "Text(0.5, 0, 'Numbers of features of data')"
      ]
     },
     "execution_count": 41,
     "metadata": {},
     "output_type": "execute_result"
    },
    {
     "data": {
      "image/png": "[encoded data removed]",
      "text/plain": [
       "<Figure size 432x288 with 2 Axes>"
      ]
     },
     "metadata": {
      "needs_background": "light"
     },
     "output_type": "display_data"
    }
   ],
   "source": [
    "mse = []\n",
    "score = []\n",
    "\n",
    "for i in range(diabetes.data.shape[1]):\n",
    "    X = diabetes.data[:,:i+1]\n",
    "    X_train = X[:-30]\n",
    "    X_test = X[-30:] # fixed\n",
    "    y_train = diabetes.target[:-30]\n",
    "    y_test = diabetes.target[-30:]\n",
    "    regr = linear_model.LinearRegression()\n",
    "    regr.fit(X_train, y_train)\n",
    "    y_pred = regr.predict(X_test)\n",
    "    mse.append(mean_squared_error(y_test, y_pred))\n",
    "    score.append(r2_score(y_test, y_pred))\n",
    "    \n",
    "plt.subplot(1,2,1)\n",
    "plt.plot(range(1,11),mse,label='Mean Square Error')\n",
    "plt.xticks(range(1,11))\n",
    "plt.xlabel('Numbers of features of data')\n",
    "plt.legend()\n",
    "plt.subplot(1,2,2)\n",
    "plt.plot(range(1,11),score,color='red',label='Variance Score')\n",
    "plt.xticks(range(1,11))\n",
    "plt.legend()\n",
    "plt.xlabel('Numbers of features of data')"
   ]
  },
  {
   "cell_type": "markdown",
   "metadata": {},
   "source": [
    "##### When increasing the number of data features, from the above result we can see that the mean squared error is decreasing and the variance score increases. Casue after increasing the number of data features, the dataset contains more information"
   ]
  },
  {
   "cell_type": "markdown",
   "metadata": {},
   "source": [
    "### Question3\n",
    "##### In the above examples, we have split each dataset into two subsets each. Are two subsets (train and test) enough for the three models (lin reg, KNN, NaiveBayes)? Answer for each model\n",
    "\n",
    "#####  Answer: The purpose of the validation set is to adjust the hyperparameters. Hyperparameters cannot be automatically adjusted during training because overfitting is prone to occur. Therefore, it is necessary to manually reset the hyperparameters each time, and then train and test on the validation set. For the linear regression and NaiveBayes, the answer is yes. But for the KNN we have to set another dataset like validation data set to see if the model is robust and find the best hyperparameters k .\n"
   ]
  },
  {
   "cell_type": "markdown",
   "metadata": {},
   "source": [
    "\n",
    "\n",
    "### Question4\n",
    "##### Repeat the KNN example, but splitting the dataset into three subsets(train,val,test). Progressively modify the hyperparameter k. What is the best neighborhood size k?, what is the appropriate methodologogy to find this number"
   ]
  },
  {
   "cell_type": "code",
   "execution_count": 42,
   "metadata": {},
   "outputs": [
    {
     "data": {
      "image/png": "[encoded data removed]",
      "text/plain": [
       "<Figure size 432x288 with 1 Axes>"
      ]
     },
     "metadata": {
      "needs_background": "light"
     },
     "output_type": "display_data"
    }
   ],
   "source": [
    "from sklearn.datasets import load_breast_cancer\n",
    "data = load_breast_cancer()\n",
    "\n",
    "label_names = data['target_names']\n",
    "labels = data['target']\n",
    "feature_names = data['feature_names']\n",
    "features = data['data']\n",
    "\n",
    "labels_l = labels[ : -50]\n",
    "labels_v = labels[-50:]\n",
    "\n",
    "features_l = features[ : -50]\n",
    "features_v = features[-50:]\n",
    "\n",
    "\n",
    "from sklearn.model_selection import train_test_split # split the data\n",
    "\n",
    "X2_train, X2_test, y2_train, y2_test = train_test_split(features_l,labels_l,test_size = 0.40, random_state = 42)\n",
    "\n",
    "from sklearn.neighbors import KNeighborsClassifier\n",
    "val_score = []\n",
    "\n",
    "for i in range(1,20):\n",
    "    knnClassifier = KNeighborsClassifier(n_neighbors=i)\n",
    "    knnClassifier.fit(X2_train, y2_train)\n",
    "    \n",
    "    y2_pred_knn = knnClassifier.predict(X2_test)\n",
    "    \n",
    "    val_pred = knnClassifier.predict(features_v)\n",
    "    \n",
    "    train_accuracy = knnClassifier.score(X2_train, y2_train)\n",
    "    test_accuracy = knnClassifier.score(X2_test, y2_test)\n",
    "    val_accuracy = knnClassifier.score(features_v,labels_v)\n",
    "    \n",
    "    val_score.append(val_accuracy)\n",
    "\n",
    "plt.plot(range(1,20), val_score)\n",
    "plt.xlabel('Numbers of K')\n",
    "plt.ylabel('Accuracy on validation set')\n",
    "plt.xticks(range(1,20))\n",
    "\n",
    "plt.show()\n",
    "    "
   ]
  },
  {
   "cell_type": "markdown",
   "metadata": {},
   "source": [
    "#####  Answer: The best k equals to 8. According to the above figure we can see that 8 is the minimal number with the highest accuracy  during the loop."
   ]
  },
  {
   "cell_type": "markdown",
   "metadata": {},
   "source": [
    "### Question5\n",
    "##### How do we know if learning was really succesful (vs underfitting or overfitting?)\n",
    "\n",
    "##### Well for me, When the accuracy of the training set and the test set are both high enough, close to 95%, the model is successful. When the accuracy of the training set is significantly higher than that of the test set, overfitting occurs. At this time, it is necessary to reduce the training parameters and reduce the complexity of the model. When the accuracy of the training set and the test set are not high enough, it is underfitting and the model needs to be upgraded."
   ]
  },
  {
   "cell_type": "markdown",
   "metadata": {},
   "source": [
    "### Question6\n",
    "##### What is the highest performance you can achieve for the two classification methods? What model for classification is better?, why?"
   ]
  },
  {
   "cell_type": "code",
   "execution_count": 43,
   "metadata": {},
   "outputs": [
    {
     "name": "stdout",
     "output_type": "stream",
     "text": [
      "(208,)\n"
     ]
    }
   ],
   "source": [
    "from sklearn.neighbors import KNeighborsClassifier\n",
    "knnClassifier = KNeighborsClassifier(n_neighbors=8)\n",
    "knnClassifier.fit(X2_train, y2_train)\n",
    "y2_pred_knn = knnClassifier.predict(X2_test)\n",
    "print(y2_pred_knn.shape)"
   ]
  },
  {
   "cell_type": "code",
   "execution_count": 64,
   "metadata": {},
   "outputs": [
    {
     "name": "stdout",
     "output_type": "stream",
     "text": [
      "train accuracy 0.9389067524115756\n",
      "test accuracy 0.9326923076923077\n",
      "Wall time: 8.41 ms\n"
     ]
    }
   ],
   "source": [
    "%%time \n",
    "from sklearn.neighbors import KNeighborsClassifier\n",
    "knnClassifier = KNeighborsClassifier(n_neighbors=8)\n",
    "knnClassifier.fit(X2_train, y2_train)\n",
    "y2_pred_knn = knnClassifier.predict(X2_test)\n",
    "# detect the time\n",
    "#Compute accuracy on the training set\n",
    "train_accuracy = knnClassifier.score(X2_train, y2_train)\n",
    "    \n",
    "#Compute accuracy on the test set\n",
    "test_accuracy = knnClassifier.score(X2_test, y2_test) \n",
    "\n",
    "print('train accuracy', train_accuracy)\n",
    "print('test accuracy',test_accuracy)"
   ]
  },
  {
   "cell_type": "code",
   "execution_count": 65,
   "metadata": {},
   "outputs": [
    {
     "name": "stdout",
     "output_type": "stream",
     "text": [
      "train accuracy 0.9356913183279743\n",
      "test accuracy 0.9423076923076923\n",
      "Wall time: 8 ms\n"
     ]
    }
   ],
   "source": [
    "%%time\n",
    "from sklearn.naive_bayes import GaussianNB\n",
    "gnbClassifier = GaussianNB()\n",
    "gnbClassifier.fit(X2_train,y2_train)\n",
    "y2_pred_gnb = gnbClassifier.predict(X2_test)\n",
    "#Compute accuracy on the training set\n",
    "train_accuracy = gnbClassifier.score(X2_train, y2_train)\n",
    "    \n",
    "#Compute accuracy on the test set\n",
    "test_accuracy = gnbClassifier.score(X2_test, y2_test) \n",
    "\n",
    "print('train accuracy', train_accuracy)\n",
    "print('test accuracy',test_accuracy)"
   ]
  },
  {
   "cell_type": "markdown",
   "metadata": {},
   "source": [
    "###### From the above result, we can see the best performance(we should notice that we change the neighbor to 8 to get the best performance). The Naive Bayes Classifier model performs better cause it has the higher test accuracy with less time."
   ]
  },
  {
   "cell_type": "markdown",
   "metadata": {},
   "source": [
    "### Question7\n",
    "##### Naive classifiers are probabilistic classifiers. How do we recover the probabilistic information associated to this model? What quantities can we recover?"
   ]
  },
  {
   "cell_type": "code",
   "execution_count": null,
   "metadata": {},
   "outputs": [],
   "source": []
  },
  {
   "cell_type": "markdown",
   "metadata": {},
   "source": [
    "### Question8\n",
    "##### How is the performance score computed? create a function that calculates the TP, TN, FP and FN and replace the in-built score function with your own. Provide this code into the report."
   ]
  },
  {
   "cell_type": "code",
   "execution_count": 46,
   "metadata": {},
   "outputs": [
    {
     "name": "stdout",
     "output_type": "stream",
     "text": [
      "0.9423076923076923\n",
      "0.9423076923076923\n"
     ]
    }
   ],
   "source": [
    "from sklearn.naive_bayes import GaussianNB\n",
    "gnbClassifier = GaussianNB()\n",
    "gnbClassifier.fit(X2_train,y2_train)\n",
    "y2_pred_gnb = gnbClassifier.predict(X2_test)\n",
    "\n",
    "\n",
    "\n",
    "# My own socre function\n",
    "def my_own_score(y_test, y_pred):\n",
    "    TN = 0\n",
    "    FP = 0\n",
    "    TP = 0\n",
    "    FN = 0\n",
    "    for i in range(len(y_test)):\n",
    "        if(y_test[i] == 0):\n",
    "            if(y_pred[i] == 0):\n",
    "                TN = TN + 1\n",
    "            else:\n",
    "                FP = FP + 1\n",
    "        else:\n",
    "            if(y_pred[i] == 1):\n",
    "                TP = TP + 1\n",
    "            else:\n",
    "                FN = FN + 1\n",
    "    score = (TN+TP)/len(y_test)\n",
    "    return score\n",
    "\n",
    "my_own_accuracy = my_own_score(y2_test, y2_pred_gnb)\n",
    "test_accuracy = gnbClassifier.score(X2_test, y2_test) \n",
    "\n",
    "print(my_own_accuracy)\n",
    "print(test_accuracy)"
   ]
  },
  {
   "cell_type": "markdown",
   "metadata": {},
   "source": [
    "##### Returns the mean accuracy on the given test data and labels.In multi-label classification, this is the subset accuracy which is a harsh metric since you require for each sample thateach label set be correctly predicted."
   ]
  },
  {
   "cell_type": "markdown",
   "metadata": {},
   "source": [
    "### Question9\n",
    "##### We saw in the lecture that linear models were used for regression, while KNN and Naive Bayes were used for classification. Can we use linear models for classification? KNN or Naive Bayes for regression problems?"
   ]
  },
  {
   "cell_type": "code",
   "execution_count": null,
   "metadata": {},
   "outputs": [],
   "source": []
  },
  {
   "cell_type": "markdown",
   "metadata": {},
   "source": [
    "### Bonus\n",
    "##### Implement your own version of one of the three algorithms and compare the results"
   ]
  },
  {
   "cell_type": "code",
   "execution_count": 47,
   "metadata": {},
   "outputs": [
    {
     "data": {
      "text/plain": [
       "<matplotlib.collections.PathCollection at 0x1e29e1cf978>"
      ]
     },
     "execution_count": 47,
     "metadata": {},
     "output_type": "execute_result"
    },
    {
     "data": {
      "image/png": "[encoded data removed]",
      "text/plain": [
       "<Figure size 432x288 with 1 Axes>"
      ]
     },
     "metadata": {
      "needs_background": "light"
     },
     "output_type": "display_data"
    }
   ],
   "source": [
    "from sklearn import datasets \n",
    "diabetes = datasets.load_diabetes()\n",
    "X = diabetes.data[:, np.newaxis, 2]  # choose bmi\n",
    "X_train = X[:-30]\n",
    "X_test = X[-30:]\n",
    "y_train = diabetes.target[:-30]\n",
    "y_test = diabetes.target[-30:]\n",
    "plt.scatter(X_test, y_test)"
   ]
  },
  {
   "cell_type": "code",
   "execution_count": 48,
   "metadata": {},
   "outputs": [
    {
     "name": "stdout",
     "output_type": "stream",
     "text": [
      "Coefficients: \n",
      " [941.43097333]\n",
      "Intercept: \n",
      " 153.39713623331698\n",
      "Mean squared error: 3035.06\n",
      "Variance score: 0.41\n"
     ]
    },
    {
     "data": {
      "image/png": "[encoded data removed]",
      "text/plain": [
       "<Figure size 432x288 with 1 Axes>"
      ]
     },
     "metadata": {
      "needs_background": "light"
     },
     "output_type": "display_data"
    }
   ],
   "source": [
    "#Load and declare a new instance \n",
    "from sklearn import linear_model\n",
    "regr = linear_model.LinearRegression()\n",
    "\n",
    "#Fit (train) the model \n",
    "regr.fit(X_train, y_train)\n",
    "print('Coefficients: \\n', regr.coef_)\n",
    "print('Intercept: \\n', regr.intercept_)\n",
    "\n",
    "#Make predictions\n",
    "y_pred = regr.predict(X_test)\n",
    "\n",
    "#Evaluate the performance\n",
    "from sklearn.metrics import mean_squared_error, r2_score\n",
    "print(\"Mean squared error: %.2f\" % mean_squared_error(y_test, y_pred))\n",
    "print('Variance score: %.2f' % r2_score(y_test, y_pred))\n",
    "\n",
    "#Visualize \n",
    "plt.scatter(X_test, y_test, color='blue')\n",
    "plt.plot(X_test, y_pred, color='red', linewidth=3)\n",
    "plt.xlabel('bmi')\n",
    "plt.ylabel('diabetes progression')\n",
    "plt.show()"
   ]
  },
  {
   "cell_type": "code",
   "execution_count": 69,
   "metadata": {},
   "outputs": [
    {
     "name": "stdout",
     "output_type": "stream",
     "text": [
      "[51.88985116] [-6626.42736923]\n",
      "[[-6621.99555708]\n",
      " [-6626.46975772]\n",
      " [-6626.07826517]\n",
      " [-6625.96641015]\n",
      " [-6622.27519462]\n",
      " [-6622.72261468]\n",
      " [-6627.7001629 ]\n",
      " [-6629.26613313]\n",
      " [-6628.31536549]\n",
      " [-6625.57491759]\n",
      " [-6622.38704963]\n",
      " [-6628.48314801]\n",
      " [-6625.85455513]\n",
      " [-6628.53907552]\n",
      " [-6628.20351047]\n",
      " [-6626.13419267]\n",
      " [-6621.82777455]\n",
      " [-6628.14758297]\n",
      " [-6629.37798814]\n",
      " [-6628.03572795]\n",
      " [-6623.5615273 ]\n",
      " [-6629.54577067]\n",
      " [-6626.35790271]\n",
      " [-6627.64423539]\n",
      " [-6630.27282827]\n",
      " [-6625.40713507]\n",
      " [-6627.25274284]\n",
      " [-6627.25274284]\n",
      " [-6624.40043992]\n",
      " [-6630.21690077]]\n"
     ]
    },
    {
     "data": {
      "image/png": "[encoded data removed]",
      "text/plain": [
       "<Figure size 432x288 with 1 Axes>"
      ]
     },
     "metadata": {
      "needs_background": "light"
     },
     "output_type": "display_data"
    },
    {
     "name": "stdout",
     "output_type": "stream",
     "text": [
      "Wall time: 137 ms\n"
     ]
    }
   ],
   "source": [
    "%%time\n",
    "# My own liner regression \n",
    "class LinearModel_D1(object):\n",
    "    \n",
    "    def __init__(self):\n",
    "        self.a = np.random.randn(1)[0]\n",
    "        self.b = np.random.randn(1)[0]\n",
    "        \n",
    "    def model(self,x):\n",
    "        return self.a*x + self.b\n",
    "    \n",
    "    def loss(self,x,y):\n",
    "        cost = (y - self.model(x))**2\n",
    "        \n",
    "        g_a = 2*(y - self.model(x))*(-x) # g for gradient\n",
    "        g_b = 2*(y - self.model(x))*(-1)\n",
    "        return cost,g_a,g_b\n",
    "    \n",
    "    def gradient_descent(self,g_a,g_b,lr = 0.1): #lr for learing rate\n",
    "        \n",
    "        self.a -= g_a*lr\n",
    "        self.b -= g_b*lr\n",
    "        \n",
    "        \n",
    "    def fit(self,X,y):\n",
    "        count = 0\n",
    "        precision = 0.0001\n",
    "        last_a = self.a + 0.1\n",
    "        last_b = self.b + 0.1\n",
    "        length = len(X)\n",
    "        \n",
    "        cost = 0\n",
    "        g_a = 0\n",
    "        g_b = 0\n",
    "            \n",
    "        while True:\n",
    "            if count > 3000:\n",
    "                break\n",
    "                \n",
    "            if (abs(last_a - self.a) < precision) and (abs(last_b - self.b) < precision):\n",
    "                break\n",
    "                \n",
    "            \n",
    "            for i in range(length):\n",
    "                cost_, g_a_, g_b_ = self.loss(X[i],y[i])\n",
    "                cost += cost_\n",
    "                g_a += g_a_\n",
    "                g_b += g_b_\n",
    "                \n",
    "            last_a = self.a\n",
    "            last_b = self.b\n",
    "            # update\n",
    "            self.gradient_descent(g_a,g_b,0.01)\n",
    "            count += 1\n",
    "    def result(self):\n",
    "        return self.a,self.b\n",
    "\n",
    "\n",
    "    \n",
    "lr_model = LinearModel_D1()\n",
    "\n",
    "lr_model.fit(X_train,y_train)\n",
    "\n",
    "a, b = lr_model.result()\n",
    "\n",
    "print(a, b)\n",
    "\n",
    "y_pred = a*X_test + b\n",
    "\n",
    "print(y_pred)\n",
    "\n",
    "plt.scatter(X_test, y_test, color='blue')\n",
    "plt.plot(X_test, y_pred, color='red', linewidth=3)\n",
    "plt.xlabel('bmi')\n",
    "plt.ylabel('diabetes progression')\n",
    "plt.show()"
   ]
  },
  {
   "cell_type": "code",
   "execution_count": 68,
   "metadata": {},
   "outputs": [
    {
     "name": "stdout",
     "output_type": "stream",
     "text": [
      "(array([[272394.84126722,  51037.40284593,  68599.25346474,\n",
      "        121044.56327633, 264108.20779637,  12081.21751867,\n",
      "         28195.3101823 ,   7041.65873842,  85214.12898041,\n",
      "        179703.58124936, 217076.4069713 ,  33092.91875628,\n",
      "         49246.08611051,  92364.07918668,  57559.01141991,\n",
      "         17933.1179312 , 384294.10128508,  35311.89385941,\n",
      "        133893.48858573,  17401.45956349, 119656.90490862,\n",
      "         20711.40976976,   9587.2673124 ,  16362.14282807,\n",
      "          9199.60894469, 126675.19674717,  43228.47753653,\n",
      "         69650.91183245, 193524.84819105,  12976.53425409],\n",
      "       [272484.85283776,  51076.36923665,  68644.428053  ,\n",
      "        121104.56855873, 264196.83976746,  12100.1797173 ,\n",
      "         28224.27447697,   7056.13723882,  85264.47706663,\n",
      "        179776.69272658, 217156.76134566,  33124.29735   ,\n",
      "         49284.3627015 ,  92416.49667208,  57600.39210968,\n",
      "         17956.2189282 , 384401.01294894,  35344.30715272,\n",
      "        133956.5979669 ,  17424.21566062, 119716.56529115,\n",
      "         20736.23526607,   9604.16011185,  16384.20912547,\n",
      "          9216.15684427, 126736.58162903,  43264.33982847,\n",
      "         69696.43132058, 193600.71886718,  12996.18625245],\n",
      "       [272476.97623172,  51072.95908384,  68640.47468291,\n",
      "        121099.3175029 , 264189.08387637,  12098.5199313 ,\n",
      "         28221.73950757,   7054.86977642,  85260.07101546,\n",
      "        179770.29487871, 217149.72974428,  33121.55112943,\n",
      "         49281.01290617,  92411.90954849,  57596.7707057 ,\n",
      "         17954.19699734, 384391.65758473,  35341.47039594,\n",
      "        133951.07530243,  17422.2239085 , 119711.34441406,\n",
      "         20734.06244153,   9602.68139828,  16382.27773083,\n",
      "          9214.70830944, 126731.20985825,  43261.20128431,\n",
      "         69692.44777175, 193594.0795894 ,  12994.46610897],\n",
      "       [272474.72579376,  51071.98477538,  68639.34516951,\n",
      "        121097.81722215, 264186.8679284 ,  12098.04572764,\n",
      "         28221.01525151,   7054.50766521,  85258.81216461,\n",
      "        179768.46694308, 217147.72073623,  33120.76651589,\n",
      "         49280.0558427 ,  92410.59896266,  57595.73603976,\n",
      "         17953.61932372, 384388.98464444,  35340.65991491,\n",
      "        133949.49741921,  17421.65485738, 119709.85275581,\n",
      "         20733.44165542,   9602.25892959,  16381.7259247 ,\n",
      "          9214.29446325, 126729.67508751,  43260.30457832,\n",
      "         69691.30963585, 193592.1826738 ,  12993.97466032],\n",
      "       [272400.46655475,  51039.83780972,  68602.07644087,\n",
      "        121048.31317085, 264113.74685894,  12082.40222045,\n",
      "         28197.12001509,   7042.56320906,  85217.27530017,\n",
      "        179708.15028106, 217081.42868407,  33094.87948276,\n",
      "         49248.47796181,  92367.35484388,  57561.59727739,\n",
      "         17934.56130789, 384300.78282844,  35313.91925461,\n",
      "        133897.43248642,  17402.88138393, 119660.63324689,\n",
      "         20712.96092765,   9588.32267673,  16363.52153603,\n",
      "          9200.64275278, 126679.03286666,  43230.71849414,\n",
      "         69653.75636483, 193529.58967268,  12977.76206836],\n",
      "       [272409.46713561,  51043.7338726 ,  68606.59332351,\n",
      "        121054.31312289, 264122.60947985,  12084.29786412,\n",
      "         28200.01586836,   7044.01048291,  85222.3095326 ,\n",
      "        179715.46085259, 217089.46354531,  33098.01676594,\n",
      "         49252.30504472,  92372.59601623,  57565.73477017,\n",
      "         17936.87083139, 384311.47341863,  35317.16000775,\n",
      "        133903.74284835,  17405.15641745, 119666.59870896,\n",
      "         20715.44290109,   9590.01138049,  16365.72758958,\n",
      "          9202.29696655, 126685.17077865,  43234.30414715,\n",
      "         69658.30773745, 193537.1761641 ,  12979.726692  ],\n",
      "       [272509.60862647,  51087.08760091,  68656.85367158,\n",
      "        121121.0726182 , 264221.21616631,  12105.39692873,\n",
      "         28232.24226482,   7060.12143324,  85278.32539714,\n",
      "        179796.80098962, 217178.86140541,  33132.92907008,\n",
      "         49294.89137083,  92430.91408737,  57611.77440617,\n",
      "         17962.57430918, 384430.41626331,  35353.22341519,\n",
      "        133973.95565353,  17430.47619414, 119732.97450316,\n",
      "         20743.06488436,   9608.8082385 ,  16390.27996406,\n",
      "          9220.71012346, 126753.46507835,  43274.20456557,\n",
      "         69708.95178662, 193621.58590992,  13001.5931588 ],\n",
      "       [272541.11762026,  51100.73078176,  68672.66972158,\n",
      "        121142.07941114, 264252.2423003 ,  12112.03864235,\n",
      "         28242.38471206,   7065.19385248,  85295.95217143,\n",
      "        179822.39495076, 217206.99038054,  33143.91652199,\n",
      "         49308.29312178,  92449.26515137,  57626.26259169,\n",
      "         17970.66460223, 384467.84028976,  35364.57301196,\n",
      "        133996.04888105,  17438.44577224, 119753.86058115,\n",
      "         20751.75875218,   9614.72566241,  16398.00811226,\n",
      "          9226.50683242, 126774.9547311 ,  43286.76131185,\n",
      "         69724.88855157, 193648.14559068,  13008.47630233],\n",
      "       [272521.98694251,  51092.44720472,  68663.06690256,\n",
      "        121129.32506962, 264233.40478743,  12108.00595613,\n",
      "         28236.22658043,   7062.11395214,  85285.24998409,\n",
      "        179806.85554284, 217189.91185698,  33137.24535181,\n",
      "         49300.15612718,  92438.12321671,  57617.4659761 ,\n",
      "         17965.75242136, 384445.11834218,  35357.68196811,\n",
      "        133982.63491854,  17433.60688259, 119741.17953085,\n",
      "         20746.4801152 ,   9611.13272352,  16393.31580505,\n",
      "          9222.98718475, 126761.9072247 ,  43279.1373558 ,\n",
      "         69715.21244133, 193632.01985299,  13004.29703367],\n",
      "       [272466.84933409,  51068.57476895,  68635.39194579,\n",
      "        121092.56631269, 264179.11218368,  12096.38608801,\n",
      "         28218.48042848,   7053.24034918,  85254.40625982,\n",
      "        179762.06924158, 217140.68928123,  33118.0204417 ,\n",
      "         49276.70619374,  92406.01198544,  57592.11478216,\n",
      "         17951.59753924, 384379.62942661,  35337.8233045 ,\n",
      "        133943.97490111,  17419.66325164, 119704.63202509,\n",
      "         20731.26897725,   9600.7803624 ,  16379.79467643,\n",
      "          9212.84607479, 126724.3034631 ,  43257.16618053,\n",
      "         69687.32623339, 193585.5435424 ,  12992.25466322],\n",
      "       [272402.71668602,  51040.8118115 ,  68603.20564759,\n",
      "        121049.81314492, 264115.96250023,  12082.87611743,\n",
      "         28197.84396446,   7042.92501359,  85218.53384433,\n",
      "        179709.97791   , 217083.43738544,  33095.66378961,\n",
      "         49249.4347186 ,  92368.66512303,  57562.63163665,\n",
      "         17935.13867482, 384303.45546205,  35314.72942896,\n",
      "        133899.01006296,  17403.45012837, 119662.12459847,\n",
      "         20713.58140707,   9588.74483873,  16364.07303547,\n",
      "          9201.05629228, 126680.56733072,  43231.61489345,\n",
      "         69654.89419404, 193531.4862816 ,  12978.25321033],\n",
      "       [272525.36289567,  51093.90896364,  68664.76146889,\n",
      "        121131.57578698, 264236.72900562,  12108.71755785,\n",
      "         28237.31326075,   7062.65741517,  85287.1385566 ,\n",
      "        179809.5977425 , 217192.92566529,  33138.42256834,\n",
      "         49301.59201862,  92440.08939168,  57619.01827124,\n",
      "         17966.61922801, 384449.12804884,  35358.89798588,\n",
      "        133985.0020396 ,  17434.4607555 , 119743.41731447,\n",
      "         20747.41159058,   9611.76672277,  16394.14381047,\n",
      "          9223.60825025, 126764.20967704,  43280.48271102,\n",
      "         69716.91994141, 193634.86552261,  13005.03450288],\n",
      "       [272472.4753651 ,  51071.01047621,  68638.2156654 ,\n",
      "        121096.31695068, 264184.65198972,  12097.57153327,\n",
      "         28220.29100474,   7054.1455633 ,  85257.55332306,\n",
      "        179766.63901675, 217145.71173747,  33119.98191165,\n",
      "         49279.09878852,  92409.28838612,  57594.70138312,\n",
      "         17953.0416594 , 384386.31171344,  35339.84944318,\n",
      "        133947.91954528,  17421.08581555, 119708.36110684,\n",
      "         20732.82087862,   9601.83647021,  16381.17412786,\n",
      "          9213.88062636, 126728.14032606,  43259.40788162,\n",
      "         69690.17150924, 193590.2857675 ,  12993.48322096],\n",
      "       [272526.48821804,  51094.39622127,  68665.32632898,\n",
      "        121132.32603075, 264237.83708299,  12108.95476307,\n",
      "         28237.67549217,   7062.83857416,  85287.76808541,\n",
      "        179810.5118137 , 217193.93027271,  33138.8149785 ,\n",
      "         49302.07065374,  92440.74478798,  57619.5357076 ,\n",
      "         17966.90816821, 384450.46462238,  35359.30332979,\n",
      "        133985.79108461,  17434.74538445, 119744.16324699,\n",
      "         20747.72208702,   9611.9780605 ,  16394.41981693,\n",
      "          9223.81527674, 126764.9771658 ,  43280.93116741,\n",
      "         69717.48911274, 193635.8140838 ,  13005.28033059],\n",
      "       [272519.73631868,  51091.47271039,  68661.93720329,\n",
      "        121127.824603  , 264231.18865359,  12107.5315666 ,\n",
      "         28235.5021385 ,   7061.75165506,  85283.99094737,\n",
      "        179805.02742134, 217187.90266306,  33136.4605524 ,\n",
      "         49299.19887785,  92436.81244501,  57616.4311243 ,\n",
      "         17965.17456187, 384442.44521602,  35356.87130122,\n",
      "        133981.05684945,  17433.0376456 , 119739.68768672,\n",
      "         20745.85914323,   9610.71006897,  16392.76381305,\n",
      "          9222.5731527 , 126760.37226809,  43278.24046394,\n",
      "         69714.07411956, 193630.12275152,  13003.80539915],\n",
      "       [272478.10145418,  51073.44624156,  68641.0394431 ,\n",
      "        121100.06764676, 264190.19185384,  12098.75703661,\n",
      "         28222.10163909,   7055.0508355 ,  85260.70044437,\n",
      "        179771.20885   , 217150.7342518 ,  33121.94343968,\n",
      "         49281.49144139,  92412.56484489,  57597.28804216,\n",
      "         17954.48583764, 384392.99405836,  35341.87563994,\n",
      "        133951.86424753,  17422.50843755, 119712.09024668,\n",
      "         20734.37283806,   9602.8926361 ,  16382.55363738,\n",
      "          9214.91523602, 126731.9772471 ,  43261.64964079,\n",
      "         69693.01684318, 193595.02805069,  12994.71183678],\n",
      "       [272391.46612258,  51035.94189554,  68597.55970693,\n",
      "        121042.31336749, 264104.88438672,  12080.50672548,\n",
      "         28194.22431051,   7041.11608391,  85212.24121643,\n",
      "        179700.83985822, 217073.39397152,  33091.74234827,\n",
      "         49244.6510276 ,  92362.11382023,  57557.4599333 ,\n",
      "         17932.25193308, 384290.09238694,  35310.67865017,\n",
      "        133891.12227319,  17400.60649911, 119654.66793353,\n",
      "         20710.47910291,   9586.63412168,  16361.31563118,\n",
      "          9198.98868771, 126672.89510336,  43227.13298984,\n",
      "         69649.2051409 , 193522.00332996,  12975.79759341],\n",
      "       [272518.61101025,  51090.98546671,  68661.37235714,\n",
      "        121127.07437317, 264230.08059016,  12107.29437532,\n",
      "         28235.13992102,   7061.57051001,  85283.3614325 ,\n",
      "        179804.11336408, 217186.89806958,  33136.06815618,\n",
      "         49298.72025666,  92436.15706264,  57615.91370188,\n",
      "         17964.88563561, 384441.10865642,  35356.46597126,\n",
      "        133980.26781839,  17432.75303059, 119738.94176815,\n",
      "         20745.54866073,   9610.49874518,  16392.48782054,\n",
      "          9222.36614015, 126759.60479327,  43277.79202149,\n",
      "         69713.50496216, 193629.17420427,  13003.55958537],\n",
      "       [272543.36833237,  51101.70536438,  68673.79950914,\n",
      "        121143.57996605, 264254.45852243,  12112.51312017,\n",
      "         28243.10924227,   7065.55623784,  85297.21129643,\n",
      "        179824.22316054, 217208.99966275,  33144.70140968,\n",
      "         49309.25045941,  92450.57601135,  57627.29753179,\n",
      "         17971.24255001, 384470.51350421,  35365.38376714,\n",
      "        133997.62703843,  17439.01509752, 119755.35251357,\n",
      "         20752.37981244,   9615.14840525,  16398.56019255,\n",
      "          9226.92095276, 126776.489776  ,  43287.658292  ,\n",
      "         69726.02696162, 193650.04278043,  13008.96802514],\n",
      "       [272516.36040036,  51090.01098632,  68660.24267181,\n",
      "        121125.57392049, 264227.86447026,  12106.81999973,\n",
      "         28234.41549303,   7061.20822688,  85282.10240972,\n",
      "        179802.28525653, 217184.8888896 ,  33135.28337072,\n",
      "         49297.76302126,  92434.84630488,  57614.87886401,\n",
      "         17964.30779006, 384438.4355442 ,  35355.6553183 ,\n",
      "        133978.68976323,  17432.18380753, 119737.44993796,\n",
      "         20744.9277027 ,   9610.07610457,  16391.93584248,\n",
      "          9221.95212204, 126758.0698506 ,  43276.89514357,\n",
      "         69712.36665434, 193627.27711674,  13003.06796479],\n",
      "       [272426.3436255 ,  51051.03939128,  68615.06287922,\n",
      "        121065.56343376, 264139.22729485,  12087.85259678,\n",
      "         28205.44599403,   7046.72452215,  85231.74911918,\n",
      "        179729.16857498, 217104.52931092,  33103.89957268,\n",
      "         49259.48122595,  92382.42361516,  57573.49296992,\n",
      "         17941.20158875, 384331.51867603,  35323.23682067,\n",
      "        133915.57517774,  17409.42250608, 119677.7843511 ,\n",
      "         20720.09700207,   9593.1781008 ,  16369.86434076,\n",
      "          9205.39901814, 126696.67976442,  43241.0276473 ,\n",
      "         69666.84196189, 193551.40123629,  12983.41076211],\n",
      "       [272546.74441797,  51103.16725574,  68675.4942079 ,\n",
      "        121145.83081585, 264257.78287305,  12113.22485432,\n",
      "         28244.19605503,   7066.09983331,  85299.10000137,\n",
      "        179826.96549264, 217212.01360349,  33145.87875865,\n",
      "         49310.68648327,  92452.54231876,  57628.84995935,\n",
      "         17972.10948909, 384474.52334331,  35366.59991734,\n",
      "        133999.99429193,  17439.86910286, 119757.59042961,\n",
      "         20753.31142025,   9615.78253693,  16399.3883304 ,\n",
      "          9227.5421507 , 126778.79236077,  43289.00377965,\n",
      "         69727.73459413, 193652.88858249,  13009.70562678],\n",
      "       [272482.60236727,  51075.39489566,  68643.29850707,\n",
      "        121103.06824545, 264194.62378696,  12099.70548111,\n",
      "         28223.55018838,   7055.77509509,  85263.21818325,\n",
      "        179774.86475843, 217154.75230508,  33123.51270393,\n",
      "         49283.4056055 ,  92415.18605372,  57599.35741121,\n",
      "         17955.64122205, 384398.33997612,  35343.49663917,\n",
      "        133955.02005115,  17423.64657697, 119715.07360037,\n",
      "         20735.61444744,   9603.73761064,  16383.65728681,\n",
      "          9215.74296556, 126735.04682576,  43263.44308995,\n",
      "         69695.29315215, 193598.82191906,  12995.69477127],\n",
      "       [272508.48333895,  51086.60037813,  68656.28884634,\n",
      "        121120.32240928, 264220.10812379,  12105.15975836,\n",
      "         28231.88006825,   7059.9403091 ,  85277.69590318,\n",
      "        179795.88695327, 217177.85683285,  33132.53669477,\n",
      "         49294.41277056,  92430.25872592,  57611.25700466,\n",
      "         17962.28540383, 384429.07972462,  35352.81810614,\n",
      "        133973.16664338,  17430.19160004, 119732.22860549,\n",
      "         20742.75442277,   9608.59693562,  16390.00399246,\n",
      "          9220.50313183, 126752.69762444,  43273.75614403,\n",
      "         69708.38265013, 193620.63738359,  13001.34736594],\n",
      "       [272561.37436385,  51109.5023599 ,  68682.83814416,\n",
      "        121155.58473991, 264272.18863402,  12116.30927727,\n",
      "         28248.90581858,   7068.4556553 ,  85307.28463105,\n",
      "        179838.84917335, 217225.074255  ,  33150.9808458 ,\n",
      "         49316.90949498,  92461.06322581,  57635.57738711,\n",
      "         17975.86646678, 384491.89955435,  35371.87014317,\n",
      "        134010.25263204,  17443.57003432, 119767.28830745,\n",
      "         20757.34862907,   9618.53068251,  16402.9771694 ,\n",
      "          9230.23425005, 126788.77046974,  43294.83446777,\n",
      "         69735.13457662, 193665.22063303,  13012.90214218],\n",
      "       [272463.47374337,  51067.11337247,  68633.6977419 ,\n",
      "        121090.31595777, 264175.78832794,  12095.67484874,\n",
      "         28217.3941106 ,   7052.69724859,  85252.51804976,\n",
      "        179759.32740436, 217137.67583536,  33116.8435876 ,\n",
      "         49275.27066475,  92404.04617291,  57590.56284947,\n",
      "         17950.73109503, 384375.62008239,  35336.60764918,\n",
      "        133941.60814249,  17418.80974117, 119702.39460391,\n",
      "         20730.33786431,   9600.14672559,  16378.96703345,\n",
      "          9212.22537173, 126722.0013732 ,  43255.82118775,\n",
      "         69685.61909576, 193582.69823522,  12991.51755645],\n",
      "       [272500.60639137,  51083.1898838 ,  68652.33513472,\n",
      "        121115.07101192, 264212.35189117,  12103.49963083,\n",
      "         28229.34475731,   7058.67250516,  85273.28951048,\n",
      "        179789.48876386, 217170.82488994,  33129.79013267,\n",
      "         49291.06263369,  92425.67126079,  57607.63525915,\n",
      "         17960.26313144, 384419.72401888,  35349.98100782,\n",
      "        133967.64363738,  17428.19950639, 119727.00738687,\n",
      "         20740.5812567 ,   9607.11788052,  16388.07225629,\n",
      "          9219.05425547, 126747.32551212,  43270.61725833,\n",
      "         69704.39875977, 193613.99776427,  12999.62688093],\n",
      "       [272500.60639137,  51083.1898838 ,  68652.33513472,\n",
      "        121115.07101192, 264212.35189117,  12103.49963083,\n",
      "         28229.34475731,   7058.67250516,  85273.28951048,\n",
      "        179789.48876386, 217170.82488994,  33129.79013267,\n",
      "         49291.06263369,  92425.67126079,  57607.63525915,\n",
      "         17960.26313144, 384419.72401888,  35349.98100782,\n",
      "        133967.64363738,  17428.19950639, 119727.00738687,\n",
      "         20740.5812567 ,   9607.11788052,  16388.07225629,\n",
      "          9219.05425547, 126747.32551212,  43270.61725833,\n",
      "         69704.39875977, 193613.99776427,  12999.62688093],\n",
      "       [272443.22063815,  51058.34543271,  68623.5329577 ,\n",
      "        121076.81426739, 264155.8456326 ,  12091.4078522 ,\n",
      "         28210.87664245,   7049.43908415,  85241.18922852,\n",
      "        179742.87682014, 217119.59559929,  33109.78290217,\n",
      "         49266.65792993,  92392.25173685,  57581.25169243,\n",
      "         17945.53286886, 384351.56445617,  35329.31415634,\n",
      "        133927.40802988,  17413.68911747, 119688.970516  ,\n",
      "         20724.7516258 ,   9596.34534387,  16374.00161469,\n",
      "          9208.50159248, 126708.18927294,  43247.75167022,\n",
      "         69675.37670909, 193565.62683124,  12987.09535498],\n",
      "       [272560.24896946,  51109.01503025,  68682.27321205,\n",
      "        121154.83442412, 264271.08048462,  12116.07200002,\n",
      "         28248.54351514,   7068.27442428,  85306.65503021,\n",
      "        179837.93503013, 217224.06957556,  33150.58836361,\n",
      "         49316.43078783,  92460.40775748,  57635.05987873,\n",
      "         17975.57745455, 384490.56290879,  35371.46472725,\n",
      "        134009.46351501,  17443.28533334, 119766.5423029 ,\n",
      "         20757.03806061,   9618.31927276,  16402.70109092,\n",
      "          9230.02715155, 126788.00290896,  43294.38593936,\n",
      "         69734.56533326, 193664.27199982,  13012.65624244]]), array([[272439.41698634,  51056.6977757 ,  68621.6230851 ,\n",
      "        121074.27799089, 264152.10025092,  12090.60511206,\n",
      "         28209.65144388,   7048.82572194,  85239.06084293,\n",
      "        179739.78697741, 217116.19983838,  33108.45573087,\n",
      "         49265.03940798,  92390.03594607,  57579.50206269,\n",
      "         17944.55531833, 384347.04699527,  35327.94328244,\n",
      "        133924.7406456 ,  17412.72613448, 119686.44880704,\n",
      "         20723.70123761,   9595.63000893,  16373.06776677,\n",
      "          9207.80082507, 126705.59472632,  43246.23512099,\n",
      "         69673.45226895, 193562.42044826,  12986.26347978],\n",
      "       [272484.42641855,  51076.18461799,  68644.21402617,\n",
      "        121104.28427903, 264196.4198834 ,  12100.08985831,\n",
      "         28224.13723815,   7056.06861908,  85264.23853298,\n",
      "        179776.34636296, 217156.3806725 ,  33124.14867467,\n",
      "         49284.18135042,  92416.2483357 ,  57600.1960545 ,\n",
      "         17956.10946376, 384400.50647414,  35344.15357603,\n",
      "        133956.29898312,  17424.10782998, 119716.28264524,\n",
      "         20736.1176327 ,   9604.08005559,  16384.1045624 ,\n",
      "          9216.0784218 , 126736.29081418,  43264.1699139 ,\n",
      "         69696.21565995, 193600.35943326,  12996.09312589],\n",
      "       [272480.48809323,  51074.47951929,  68642.23731882,\n",
      "        121101.65872882, 264192.54191555,  12099.25994302,\n",
      "         28222.86973115,   7055.43486558,  85262.0354851 ,\n",
      "        179773.14741672, 217152.86484951,  33122.77554208,\n",
      "         49282.50643045,  92413.95475161,  57598.38533022,\n",
      "         17955.09847604, 384395.82876973,  35342.73517534,\n",
      "        133953.53762859,  17423.11193162, 119713.6721844 ,\n",
      "         20735.03119813,   9603.34067651,  16383.13884278,\n",
      "          9215.35413209, 126733.60490649,  43262.60061952,\n",
      "         69694.22386324, 193597.03977207,  12995.23303185],\n",
      "       [272479.36285742,  51073.99234823,  68641.6725453 ,\n",
      "        121100.90857162, 264191.43392474,  12099.02282436,\n",
      "         28222.5075863 ,   7055.25379315,  85261.40604285,\n",
      "        179772.23343208, 217151.86032866,  33122.38321849,\n",
      "         49282.02788189,  92413.29944187,  57597.86798042,\n",
      "         17954.8096224 , 384394.49228276,  35342.329918  ,\n",
      "        133952.74867015,  17422.82738923, 119712.92633845,\n",
      "         20734.72078825,   9603.12942534,  16382.86292289,\n",
      "          9215.14719217, 126732.8375043 ,  43262.1522497 ,\n",
      "         69693.65477847, 193596.09129744,  12994.9872907 ],\n",
      "       [272442.23007585,  51057.91570334,  68623.03501892,\n",
      "        121076.1533839 , 264154.87022795,  12091.1979087 ,\n",
      "         28210.55680602,   7049.27840301,  85240.63444856,\n",
      "        179742.07193901, 217118.71114051,  33109.43653986,\n",
      "         49266.23577939,  92391.67422042,  57580.79543717,\n",
      "         17945.27745242, 384350.3882127 ,  35328.95642579,\n",
      "        133926.71304169,  17413.43749045, 119688.31342193,\n",
      "         20724.4772623 ,   9596.15813685,  16373.75756649,\n",
      "          9208.31817487, 126707.51323181,  43247.35604555,\n",
      "         69674.87498089, 193564.79163482,  12986.87783266],\n",
      "       [272446.73101907,  51059.86438757,  68625.29411302,\n",
      "        121079.15401272, 264159.3021912 ,  12092.14638333,\n",
      "         28212.00538545,   7050.00269272,  85243.15221757,\n",
      "        179745.72787756, 217122.72922392,  33111.00583424,\n",
      "         49268.14997363,  92394.29545938,  57582.86483636,\n",
      "         17946.43286697, 384355.73416059,  35330.57745515,\n",
      "        133929.86887544,  17414.57566   , 119691.29680575,\n",
      "         20725.71890181,   9597.00314151,  16374.86124606,\n",
      "          9209.14593454, 126710.58284059,  43249.14952484,\n",
      "         69677.15131999, 193568.58553332,  12987.86079727],\n",
      "       [272496.8040124 ,  51081.54349962,  68650.42653496,\n",
      "        121112.53600827, 264208.60778233,  12102.69816353,\n",
      "         28228.12083158,   7058.06041579,  85271.16239774,\n",
      "        179786.40019398, 217167.43040188,  33128.46423421,\n",
      "         49289.44538458,  92423.45674286,  57605.88690225,\n",
      "         17959.28685376, 384415.20783082,  35348.61140677,\n",
      "        133964.97752594,  17427.23779624, 119724.48695075,\n",
      "         20739.53214135,   9606.40381842,  16387.1396812 ,\n",
      "          9218.3547609 , 126744.73223834,  43269.10198195,\n",
      "         69702.47559248, 193610.79265413,  12998.79627857],\n",
      "       [272512.55731367,  51088.36389443,  68658.33336433,\n",
      "        121123.03820912, 264224.11965369,  12106.01782472,\n",
      "         28233.19085957,   7060.59542979,  85279.97458926,\n",
      "        179799.19597892, 217181.49369382,  33133.95676454,\n",
      "         49296.14506444,  92432.63107923,  57613.12979939,\n",
      "         17963.33080466, 384433.91864843,  35354.28500952,\n",
      "        133976.02294407,  17431.22138966, 119734.92879412,\n",
      "         20743.87787963,   9609.36133475,  16391.00255967,\n",
      "          9221.25191976, 126755.4758691 ,  43275.37915947,\n",
      "         69710.44277933, 193624.07129888,  13002.23665471],\n",
      "       [272502.99280933,  51084.22294044,  68653.53278936,\n",
      "        121116.66187289, 264214.70173179,  12104.00231614,\n",
      "         28230.11262829,   7059.05631415,  85274.62433012,\n",
      "        179791.42710949, 217172.95526657,  33130.62201398,\n",
      "         49292.07740167,  92427.06094643,  57608.73232613,\n",
      "         17960.87554876, 384422.55850917,  35350.84032213,\n",
      "        133969.31679735,  17428.80277937, 119728.5891035 ,\n",
      "         20741.23939568,   9607.56569984,  16388.6572406 ,\n",
      "          9219.49293045, 126748.95295042,  43271.56801598,\n",
      "         69705.60555874, 193616.00926457,  13000.14785491],\n",
      "       [272475.42453211,  51072.28724953,  68639.69583795,\n",
      "        121098.2830214 , 264187.5559569 ,  12098.19290906,\n",
      "         28221.2400793 ,   7054.62003965,  85259.20299497,\n",
      "        179769.03448585, 217148.34450567,  33121.01008591,\n",
      "         49280.35296193,  92411.00585778,  57596.05725614,\n",
      "         17953.79863468, 384389.81457836,  35340.91151731,\n",
      "        133949.98731561,  17421.83149088, 119710.3158776 ,\n",
      "         20733.63435368,   9602.39004626,  16381.89720327,\n",
      "          9214.42290246, 126730.15159661,  43260.58295532,\n",
      "         69691.66298175, 193592.77163626,  12994.12719667],\n",
      "       [272443.35531166,  51058.4028744 ,  68623.59979244,\n",
      "        121076.90354111, 264155.97821876,  12091.43502736,\n",
      "         28210.91895088,   7049.45947544,  85241.26389081,\n",
      "        179742.98592365, 217119.71566137,  33109.82886345,\n",
      "         49266.71432795,  92392.32953016,  57581.31278697,\n",
      "         17945.56630606, 384351.72469967,  35329.36168313,\n",
      "        133927.50200013,  17413.72203283, 119689.05926788,\n",
      "         20724.78767218,   9596.36938801,  16374.03348638,\n",
      "          9208.52511479, 126708.280634  ,  43247.80441537,\n",
      "         69675.44406567, 193565.74010944,  12987.12357381],\n",
      "       [272504.68066304,  51084.95369702,  68654.37994965,\n",
      "        121117.78710869, 264216.36371801,  12104.35799413,\n",
      "         28230.65584558,   7059.32792279,  85275.5684935 ,\n",
      "        179792.79808645, 217174.46204785,  33131.21049937,\n",
      "         49292.79522451,  92428.04391104,  57609.50835082,\n",
      "         17961.30882921, 384424.56323962,  35351.44820814,\n",
      "        133970.500235  ,  17429.22959295, 119729.70787244,\n",
      "         20741.70501049,   9607.88257659,  16389.07112044,\n",
      "          9219.80334033, 126750.10405372,  43272.24057071,\n",
      "         69706.4591859 , 193617.43197651,  13000.51646664],\n",
      "       [272478.23762162,  51073.50517718,  68641.10777177,\n",
      "        121100.15841441, 264190.32593393,  12098.7857057 ,\n",
      "         28222.14544144,   7055.07272072,  85260.7766006 ,\n",
      "        179771.31944744, 217150.8558078 ,  33121.99089489,\n",
      "         49281.54933333,  92412.64413213,  57597.35063063,\n",
      "         17954.52076877, 384393.15579579,  35341.92466066,\n",
      "        133951.95971171,  17422.54284685, 119712.18049249,\n",
      "         20734.41037838,   9602.91817417,  16382.587003  ,\n",
      "          9214.94025225, 126732.0701021 ,  43261.70387988,\n",
      "         69693.08569369, 193595.14282282,  12994.74154955],\n",
      "       [272505.24328094,  51085.19728255,  68654.66233641,\n",
      "        121118.16218729, 264216.91771342,  12104.47655346,\n",
      "         28230.836918  ,   7059.418459  ,  85275.88321463,\n",
      "        179793.25507877, 217174.96430827,  33131.40666117,\n",
      "         49293.03449879,  92428.37156591,  57609.76702572,\n",
      "         17961.45325603, 384425.23148311,  35351.65083681,\n",
      "        133970.89471422,  17429.37186415, 119730.08079541,\n",
      "         20741.86021543,   9607.98820217,  16389.20908038,\n",
      "          9219.90681029, 126750.48775482,  43272.46475562,\n",
      "         69706.74372829, 193617.90621382,  13000.63933722],\n",
      "       [272501.86757353,  51083.73576938,  68652.96801583,\n",
      "        121115.91171568, 264213.59374098,  12103.76519749,\n",
      "         28229.75048343,   7058.87524172,  85273.99488787,\n",
      "        179790.51312486, 217171.95074571,  33130.22969039,\n",
      "         49291.59885311,  92426.40563669,  57608.21497633,\n",
      "         17960.58669512, 384421.2220222 ,  35350.43506479,\n",
      "        133968.52783891,  17428.51823698, 119727.84325755,\n",
      "         20740.9289858 ,   9607.35444867,  16388.38132071,\n",
      "          9219.28599053, 126748.18554823,  43271.11964616,\n",
      "         69705.03647397, 193615.06078994,  12999.90211376],\n",
      "       [272481.05071113,  51074.72310482,  68642.51970559,\n",
      "        121102.03380742, 264193.09591096,  12099.37850235,\n",
      "         28223.05080358,   7055.52540179,  85262.35020623,\n",
      "        179773.60440904, 217153.36710994,  33122.97170388,\n",
      "         49282.74570473,  92414.28240648,  57598.64400512,\n",
      "         17955.24290286, 384396.49701322,  35342.93780401,\n",
      "        133953.9321078 ,  17423.25420281, 119714.04510738,\n",
      "         20735.18640307,   9603.44630209,  16383.27680273,\n",
      "          9215.45760205, 126733.98860759,  43262.82480444,\n",
      "         69694.50840563, 193597.51400938,  12995.35590243],\n",
      "       [272437.72913263,  51055.96701911,  68620.77592481,\n",
      "        121073.15275509, 264150.4382647 ,  12090.24943408,\n",
      "         28209.10822659,   7048.5541133 ,  85238.11667956,\n",
      "        179738.41600045, 217114.6930571 ,  33107.86724548,\n",
      "         49264.32158514,  92389.05298146,  57578.72603799,\n",
      "         17944.12203788, 384345.04226481,  35327.33539643,\n",
      "        133923.55720794,  17412.2993209 , 119685.33003811,\n",
      "         20723.2356228 ,   9595.31313218,  16372.65388693,\n",
      "          9207.4904152 , 126704.44362302,  43245.56256626,\n",
      "         69672.59864179, 193560.99773632,  12985.89486805],\n",
      "       [272501.30495562,  51083.49218385,  68652.68562907,\n",
      "        121115.53663708, 264213.03974558,  12103.64663816,\n",
      "         28229.56941101,   7058.7847055 ,  85273.68016675,\n",
      "        179790.05613254, 217171.44848529,  33130.03352859,\n",
      "         49291.35957883,  92426.07798182,  57607.95630144,\n",
      "         17960.4422683 , 384420.55377871,  35350.23243612,\n",
      "        133968.13335969,  17428.37596579, 119727.47033457,\n",
      "         20740.77378086,   9607.24882309,  16388.24336077,\n",
      "          9219.18252057, 126747.80184713,  43270.89546124,\n",
      "         69704.75193158, 193614.58655263,  12999.77924318],\n",
      "       [272513.68254948,  51088.85106548,  68658.89813786,\n",
      "        121123.78836632, 264225.22764451,  12106.25494338,\n",
      "         28233.55300443,   7060.77650222,  85280.60403151,\n",
      "        179800.10996356, 217182.49821467,  33134.34908813,\n",
      "         49296.623613  ,  92433.28638897,  57613.64714919,\n",
      "         17963.6196583 , 384435.2551354 ,  35354.69026686,\n",
      "        133976.81190251,  17431.50593205, 119735.67464008,\n",
      "         20744.18828951,   9609.57258592,  16391.27847957,\n",
      "          9221.45885967, 126756.24327129,  43275.82752929,\n",
      "         69711.0118641 , 193625.01977351,  13002.48239586],\n",
      "       [272500.17971982,  51083.00501279,  68652.12085554,\n",
      "        121114.78647988, 264211.93175476,  12103.4095195 ,\n",
      "         28229.20726615,   7058.60363307,  85273.0507245 ,\n",
      "        179789.1421479 , 217170.44396444,  33129.64120499,\n",
      "         49290.88103027,  92425.42267208,  57607.43895164,\n",
      "         17960.15341467, 384419.21729174,  35349.82717878,\n",
      "        133967.34440125,  17428.0914234 , 119726.72448861,\n",
      "         20740.46337098,   9607.03757192,  16387.96744087,\n",
      "          9218.97558066, 126747.03444493,  43270.44709142,\n",
      "         69704.1828468 , 193613.63807801,  12999.53350203],\n",
      "       [272455.17028761,  51063.5181705 ,  68629.52991447,\n",
      "        121084.78019174, 264167.61212229,  12093.92477325,\n",
      "         28214.72147188,   7051.36073594,  85247.87303445,\n",
      "        179752.58276235, 217130.26313032,  33113.9482612 ,\n",
      "         49271.73908784,  92399.21028244,  57586.74495982,\n",
      "         17948.59926923, 384365.75781287,  35333.61688519,\n",
      "        133935.78606373,  17416.7097279 , 119696.89065041,\n",
      "         20728.04697589,   9598.58752526,  16376.93064524,\n",
      "          9210.69798393, 126716.33835707,  43252.51229851,\n",
      "         69681.4194558 , 193575.69909301,  12989.70385592],\n",
      "       [272515.37040319,  51089.58182207,  68659.74529815,\n",
      "        121124.91360212, 264226.88963072,  12106.61062136,\n",
      "         28234.09622172,   7061.04811086,  85281.54819489,\n",
      "        179801.48094052, 217184.00499595,  33134.93757353,\n",
      "         49297.34143584,  92434.26935358,  57614.42317388,\n",
      "         17964.05293875, 384437.25986585,  35355.29815287,\n",
      "        133977.99534017,  17431.93274563, 119736.79340901,\n",
      "         20744.65390433,   9609.88946267,  16391.6923594 ,\n",
      "          9221.76926955, 126757.39437459,  43276.50008403,\n",
      "         69711.86549127, 193626.44248545,  13002.85100759],\n",
      "       [272483.30118274,  51075.69744693,  68643.64925264,\n",
      "        121103.53412183, 264195.31189258,  12099.85273966,\n",
      "         28223.7750933 ,   7055.88754665,  85263.60909073,\n",
      "        179775.43237832, 217155.37615164,  33123.75635107,\n",
      "         49283.70280186,  92415.59302596,  57599.67870471,\n",
      "         17955.82061013, 384399.16998716,  35343.74831869,\n",
      "        133955.51002468,  17423.82328759, 119715.53679929,\n",
      "         20735.80722283,   9603.86880442,  16383.82864251,\n",
      "          9215.87148188, 126735.52341198,  43263.72154408,\n",
      "         69695.64657518, 193599.41095863,  12995.84738474],\n",
      "       [272496.2413945 ,  51081.29991409,  68650.1441482 ,\n",
      "        121112.16092967, 264208.05378692,  12102.5796042 ,\n",
      "         28227.93975915,   7057.96987957,  85270.84767662,\n",
      "        179785.94320166, 217166.92814145,  33128.26807241,\n",
      "         49289.2061103 ,  92423.12908798,  57605.62822736,\n",
      "         17959.14242694, 384414.53958734,  35348.4087781 ,\n",
      "        133964.58304672,  17427.09552505, 119724.11402777,\n",
      "         20739.37693641,   9606.29819284,  16387.00172126,\n",
      "          9218.25129094, 126744.34853725,  43268.87779704,\n",
      "         69702.19105009, 193610.31841682,  12998.67340799],\n",
      "       [272522.68443592,  51092.74843394,  68663.41632608,\n",
      "        121129.78962395, 264234.091571  ,  12108.15189263,\n",
      "         28236.45016328,   7062.22508164,  85285.63956952,\n",
      "        179807.42184067, 217190.53438149,  33137.48767689,\n",
      "         49300.45200148,  92438.5288669 ,  57617.78594755,\n",
      "         17965.93048738, 384445.94703117,  35357.93232558,\n",
      "        133983.12357001,  17433.78227115, 119741.64140772,\n",
      "         20746.67156853,   9611.26259525,  16393.48583869,\n",
      "          9223.11437902, 126762.38248887,  43279.41448788,\n",
      "         69715.5645423 , 193632.60757051,  13004.44832509],\n",
      "       [272473.7366784 ,  51071.55649295,  68638.84867766,\n",
      "        121097.1577856 , 264185.89397068,  12097.83723108,\n",
      "         28220.69686201,   7054.34843101,  85258.25883159,\n",
      "        179767.66350889, 217146.83772439,  33120.42160051,\n",
      "         49279.63513909,  92410.02289317,  57595.28123145,\n",
      "         17953.36535422, 384387.8098479 ,  35340.3036313 ,\n",
      "        133948.80387796,  17421.4046773 , 119709.19710867,\n",
      "         20733.16873887,   9602.07316951,  16381.48332344,\n",
      "          9214.11249258, 126729.00049331,  43259.91040059,\n",
      "         69690.80935459, 193591.34892432,  12993.75858494],\n",
      "       [272492.30306918,  51079.59481539,  68648.16744085,\n",
      "        121109.53537945, 264204.17581908,  12101.74968891,\n",
      "         28226.67225215,   7057.33612608,  85268.64462874,\n",
      "        179782.74425543, 217163.41231847,  33126.89493983,\n",
      "         49287.53119034,  92420.83550389,  57603.81750307,\n",
      "         17958.13143922, 384409.86188294,  35346.99037741,\n",
      "        133961.82169219,  17426.09962669, 119721.50356693,\n",
      "         20738.29050184,   9605.55881375,  16386.03600164,\n",
      "          9217.52700123, 126741.66262956,  43267.30850266,\n",
      "         69700.19925338, 193606.99875563,  12997.81331396],\n",
      "       [272492.30306918,  51079.59481539,  68648.16744085,\n",
      "        121109.53537945, 264204.17581908,  12101.74968891,\n",
      "         28226.67225215,   7057.33612608,  85268.64462874,\n",
      "        179782.74425543, 217163.41231847,  33126.89493983,\n",
      "         49287.53119034,  92420.83550389,  57603.81750307,\n",
      "         17958.13143922, 384409.86188294,  35346.99037741,\n",
      "        133961.82169219,  17426.09962669, 119721.50356693,\n",
      "         20738.29050184,   9605.55881375,  16386.03600164,\n",
      "          9217.52700123, 126741.66262956,  43267.30850266,\n",
      "         69700.19925338, 193606.99875563,  12997.81331396],\n",
      "       [272463.60955615,  51067.17195343,  68633.76571592,\n",
      "        121090.40637077, 264175.92205337,  12095.70316317,\n",
      "         28217.4375583 ,   7052.71877915,  85252.59385133,\n",
      "        179759.43764714, 217137.79703672,  33116.89068816,\n",
      "         49275.32820204,  92404.1251055 ,  57590.62508329,\n",
      "         17950.7656715 , 384375.78146516,  35336.65631524,\n",
      "        133941.70325201,  17418.84379581, 119702.48449507,\n",
      "         20730.37504997,   9600.17190901,  16379.00004442,\n",
      "          9212.25003332, 126722.09387354,  43255.87507218,\n",
      "         69685.68759162, 193582.81265269,  12991.54691456],\n",
      "       [272522.12181802,  51092.50484841,  68663.13393931,\n",
      "        121129.41454535, 264233.5375756 ,  12108.0333333 ,\n",
      "         28236.26909086,   7062.13454543,  85285.32484839,\n",
      "        179806.96484835, 217190.03212107,  33137.29151509,\n",
      "         49300.2127272 ,  92438.20121203,  57617.52727265,\n",
      "         17965.78606056, 384445.27878768,  35357.72969691,\n",
      "        133982.72909079,  17433.63999996, 119741.26848474,\n",
      "         20746.51636359,   9611.15696967,  16393.34787875,\n",
      "          9223.01090906, 126761.99878777,  43279.19030297,\n",
      "         69715.27999992, 193632.1333332 ,  13004.32545451]]), array([[1043.82918386,  451.82918386,  523.82918386,  695.82918386,\n",
      "        1027.82918386,  219.82918386,  335.82918386,  167.82918386,\n",
      "         583.82918386,  847.82918386,  931.82918386,  363.82918386,\n",
      "         443.82918386,  607.82918386,  479.82918386,  267.82918386,\n",
      "        1239.82918386,  375.82918386,  731.82918386,  263.82918386,\n",
      "         691.82918386,  287.82918386,  195.82918386,  255.82918386,\n",
      "         191.82918386,  711.82918386,  415.82918386,  527.82918386,\n",
      "         879.82918386,  227.82918386],\n",
      "       [1044.00163379,  452.00163379,  524.00163379,  696.00163379,\n",
      "        1028.00163379,  220.00163379,  336.00163379,  168.00163379,\n",
      "         584.00163379,  848.00163379,  932.00163379,  364.00163379,\n",
      "         444.00163379,  608.00163379,  480.00163379,  268.00163379,\n",
      "        1240.00163379,  376.00163379,  732.00163379,  264.00163379,\n",
      "         692.00163379,  288.00163379,  196.00163379,  256.00163379,\n",
      "         192.00163379,  712.00163379,  416.00163379,  528.00163379,\n",
      "         880.00163379,  228.00163379],\n",
      "       [1043.98654442,  451.98654442,  523.98654442,  695.98654442,\n",
      "        1027.98654442,  219.98654442,  335.98654442,  167.98654442,\n",
      "         583.98654442,  847.98654442,  931.98654442,  363.98654442,\n",
      "         443.98654442,  607.98654442,  479.98654442,  267.98654442,\n",
      "        1239.98654442,  375.98654442,  731.98654442,  263.98654442,\n",
      "         691.98654442,  287.98654442,  195.98654442,  255.98654442,\n",
      "         191.98654442,  711.98654442,  415.98654442,  527.98654442,\n",
      "         879.98654442,  227.98654442],\n",
      "       [1043.98223317,  451.98223317,  523.98223317,  695.98223317,\n",
      "        1027.98223317,  219.98223317,  335.98223317,  167.98223317,\n",
      "         583.98223317,  847.98223317,  931.98223317,  363.98223317,\n",
      "         443.98223317,  607.98223317,  479.98223317,  267.98223317,\n",
      "        1239.98223317,  375.98223317,  731.98223317,  263.98223317,\n",
      "         691.98223317,  287.98223317,  195.98223317,  255.98223317,\n",
      "         191.98223317,  711.98223317,  415.98223317,  527.98223317,\n",
      "         879.98223317,  227.98223317],\n",
      "       [1043.83996198,  451.83996198,  523.83996198,  695.83996198,\n",
      "        1027.83996198,  219.83996198,  335.83996198,  167.83996198,\n",
      "         583.83996198,  847.83996198,  931.83996198,  363.83996198,\n",
      "         443.83996198,  607.83996198,  479.83996198,  267.83996198,\n",
      "        1239.83996198,  375.83996198,  731.83996198,  263.83996198,\n",
      "         691.83996198,  287.83996198,  195.83996198,  255.83996198,\n",
      "         191.83996198,  711.83996198,  415.83996198,  527.83996198,\n",
      "         879.83996198,  227.83996198],\n",
      "       [1043.85720697,  451.85720697,  523.85720697,  695.85720697,\n",
      "        1027.85720697,  219.85720697,  335.85720697,  167.85720697,\n",
      "         583.85720697,  847.85720697,  931.85720697,  363.85720697,\n",
      "         443.85720697,  607.85720697,  479.85720697,  267.85720697,\n",
      "        1239.85720697,  375.85720697,  731.85720697,  263.85720697,\n",
      "         691.85720697,  287.85720697,  195.85720697,  255.85720697,\n",
      "         191.85720697,  711.85720697,  415.85720697,  527.85720697,\n",
      "         879.85720697,  227.85720697],\n",
      "       [1044.04905752,  452.04905752,  524.04905752,  696.04905752,\n",
      "        1028.04905752,  220.04905752,  336.04905752,  168.04905752,\n",
      "         584.04905752,  848.04905752,  932.04905752,  364.04905752,\n",
      "         444.04905752,  608.04905752,  480.04905752,  268.04905752,\n",
      "        1240.04905752,  376.04905752,  732.04905752,  264.04905752,\n",
      "         692.04905752,  288.04905752,  196.04905752,  256.04905752,\n",
      "         192.04905752,  712.04905752,  416.04905752,  528.04905752,\n",
      "         880.04905752,  228.04905752],\n",
      "       [1044.10941499,  452.10941499,  524.10941499,  696.10941499,\n",
      "        1028.10941499,  220.10941499,  336.10941499,  168.10941499,\n",
      "         584.10941499,  848.10941499,  932.10941499,  364.10941499,\n",
      "         444.10941499,  608.10941499,  480.10941499,  268.10941499,\n",
      "        1240.10941499,  376.10941499,  732.10941499,  264.10941499,\n",
      "         692.10941499,  288.10941499,  196.10941499,  256.10941499,\n",
      "         192.10941499,  712.10941499,  416.10941499,  528.10941499,\n",
      "         880.10941499,  228.10941499],\n",
      "       [1044.07276938,  452.07276938,  524.07276938,  696.07276938,\n",
      "        1028.07276938,  220.07276938,  336.07276938,  168.07276938,\n",
      "         584.07276938,  848.07276938,  932.07276938,  364.07276938,\n",
      "         444.07276938,  608.07276938,  480.07276938,  268.07276938,\n",
      "        1240.07276938,  376.07276938,  732.07276938,  264.07276938,\n",
      "         692.07276938,  288.07276938,  196.07276938,  256.07276938,\n",
      "         192.07276938,  712.07276938,  416.07276938,  528.07276938,\n",
      "         880.07276938,  228.07276938],\n",
      "       [1043.9671438 ,  451.9671438 ,  523.9671438 ,  695.9671438 ,\n",
      "        1027.9671438 ,  219.9671438 ,  335.9671438 ,  167.9671438 ,\n",
      "         583.9671438 ,  847.9671438 ,  931.9671438 ,  363.9671438 ,\n",
      "         443.9671438 ,  607.9671438 ,  479.9671438 ,  267.9671438 ,\n",
      "        1239.9671438 ,  375.9671438 ,  731.9671438 ,  263.9671438 ,\n",
      "         691.9671438 ,  287.9671438 ,  195.9671438 ,  255.9671438 ,\n",
      "         191.9671438 ,  711.9671438 ,  415.9671438 ,  527.9671438 ,\n",
      "         879.9671438 ,  227.9671438 ],\n",
      "       [1043.84427322,  451.84427322,  523.84427322,  695.84427322,\n",
      "        1027.84427322,  219.84427322,  335.84427322,  167.84427322,\n",
      "         583.84427322,  847.84427322,  931.84427322,  363.84427322,\n",
      "         443.84427322,  607.84427322,  479.84427322,  267.84427322,\n",
      "        1239.84427322,  375.84427322,  731.84427322,  263.84427322,\n",
      "         691.84427322,  287.84427322,  195.84427322,  255.84427322,\n",
      "         191.84427322,  711.84427322,  415.84427322,  527.84427322,\n",
      "         879.84427322,  227.84427322],\n",
      "       [1044.07923626,  452.07923626,  524.07923626,  696.07923626,\n",
      "        1028.07923626,  220.07923626,  336.07923626,  168.07923626,\n",
      "         584.07923626,  848.07923626,  932.07923626,  364.07923626,\n",
      "         444.07923626,  608.07923626,  480.07923626,  268.07923626,\n",
      "        1240.07923626,  376.07923626,  732.07923626,  264.07923626,\n",
      "         692.07923626,  288.07923626,  196.07923626,  256.07923626,\n",
      "         192.07923626,  712.07923626,  416.07923626,  528.07923626,\n",
      "         880.07923626,  228.07923626],\n",
      "       [1043.97792192,  451.97792192,  523.97792192,  695.97792192,\n",
      "        1027.97792192,  219.97792192,  335.97792192,  167.97792192,\n",
      "         583.97792192,  847.97792192,  931.97792192,  363.97792192,\n",
      "         443.97792192,  607.97792192,  479.97792192,  267.97792192,\n",
      "        1239.97792192,  375.97792192,  731.97792192,  263.97792192,\n",
      "         691.97792192,  287.97792192,  195.97792192,  255.97792192,\n",
      "         191.97792192,  711.97792192,  415.97792192,  527.97792192,\n",
      "         879.97792192,  227.97792192],\n",
      "       [1044.08139188,  452.08139188,  524.08139188,  696.08139188,\n",
      "        1028.08139188,  220.08139188,  336.08139188,  168.08139188,\n",
      "         584.08139188,  848.08139188,  932.08139188,  364.08139188,\n",
      "         444.08139188,  608.08139188,  480.08139188,  268.08139188,\n",
      "        1240.08139188,  376.08139188,  732.08139188,  264.08139188,\n",
      "         692.08139188,  288.08139188,  196.08139188,  256.08139188,\n",
      "         192.08139188,  712.08139188,  416.08139188,  528.08139188,\n",
      "         880.08139188,  228.08139188],\n",
      "       [1044.06845814,  452.06845814,  524.06845814,  696.06845814,\n",
      "        1028.06845814,  220.06845814,  336.06845814,  168.06845814,\n",
      "         584.06845814,  848.06845814,  932.06845814,  364.06845814,\n",
      "         444.06845814,  608.06845814,  480.06845814,  268.06845814,\n",
      "        1240.06845814,  376.06845814,  732.06845814,  264.06845814,\n",
      "         692.06845814,  288.06845814,  196.06845814,  256.06845814,\n",
      "         192.06845814,  712.06845814,  416.06845814,  528.06845814,\n",
      "         880.06845814,  228.06845814],\n",
      "       [1043.98870004,  451.98870004,  523.98870004,  695.98870004,\n",
      "        1027.98870004,  219.98870004,  335.98870004,  167.98870004,\n",
      "         583.98870004,  847.98870004,  931.98870004,  363.98870004,\n",
      "         443.98870004,  607.98870004,  479.98870004,  267.98870004,\n",
      "        1239.98870004,  375.98870004,  731.98870004,  263.98870004,\n",
      "         691.98870004,  287.98870004,  195.98870004,  255.98870004,\n",
      "         191.98870004,  711.98870004,  415.98870004,  527.98870004,\n",
      "         879.98870004,  227.98870004],\n",
      "       [1043.82271698,  451.82271698,  523.82271698,  695.82271698,\n",
      "        1027.82271698,  219.82271698,  335.82271698,  167.82271698,\n",
      "         583.82271698,  847.82271698,  931.82271698,  363.82271698,\n",
      "         443.82271698,  607.82271698,  479.82271698,  267.82271698,\n",
      "        1239.82271698,  375.82271698,  731.82271698,  263.82271698,\n",
      "         691.82271698,  287.82271698,  195.82271698,  255.82271698,\n",
      "         191.82271698,  711.82271698,  415.82271698,  527.82271698,\n",
      "         879.82271698,  227.82271698],\n",
      "       [1044.06630251,  452.06630251,  524.06630251,  696.06630251,\n",
      "        1028.06630251,  220.06630251,  336.06630251,  168.06630251,\n",
      "         584.06630251,  848.06630251,  932.06630251,  364.06630251,\n",
      "         444.06630251,  608.06630251,  480.06630251,  268.06630251,\n",
      "        1240.06630251,  376.06630251,  732.06630251,  264.06630251,\n",
      "         692.06630251,  288.06630251,  196.06630251,  256.06630251,\n",
      "         192.06630251,  712.06630251,  416.06630251,  528.06630251,\n",
      "         880.06630251,  228.06630251],\n",
      "       [1044.11372624,  452.11372624,  524.11372624,  696.11372624,\n",
      "        1028.11372624,  220.11372624,  336.11372624,  168.11372624,\n",
      "         584.11372624,  848.11372624,  932.11372624,  364.11372624,\n",
      "         444.11372624,  608.11372624,  480.11372624,  268.11372624,\n",
      "        1240.11372624,  376.11372624,  732.11372624,  264.11372624,\n",
      "         692.11372624,  288.11372624,  196.11372624,  256.11372624,\n",
      "         192.11372624,  712.11372624,  416.11372624,  528.11372624,\n",
      "         880.11372624,  228.11372624],\n",
      "       [1044.06199126,  452.06199126,  524.06199126,  696.06199126,\n",
      "        1028.06199126,  220.06199126,  336.06199126,  168.06199126,\n",
      "         584.06199126,  848.06199126,  932.06199126,  364.06199126,\n",
      "         444.06199126,  608.06199126,  480.06199126,  268.06199126,\n",
      "        1240.06199126,  376.06199126,  732.06199126,  264.06199126,\n",
      "         692.06199126,  288.06199126,  196.06199126,  256.06199126,\n",
      "         192.06199126,  712.06199126,  416.06199126,  528.06199126,\n",
      "         880.06199126,  228.06199126],\n",
      "       [1043.88954133,  451.88954133,  523.88954133,  695.88954133,\n",
      "        1027.88954133,  219.88954133,  335.88954133,  167.88954133,\n",
      "         583.88954133,  847.88954133,  931.88954133,  363.88954133,\n",
      "         443.88954133,  607.88954133,  479.88954133,  267.88954133,\n",
      "        1239.88954133,  375.88954133,  731.88954133,  263.88954133,\n",
      "         691.88954133,  287.88954133,  195.88954133,  255.88954133,\n",
      "         191.88954133,  711.88954133,  415.88954133,  527.88954133,\n",
      "         879.88954133,  227.88954133],\n",
      "       [1044.12019312,  452.12019312,  524.12019312,  696.12019312,\n",
      "        1028.12019312,  220.12019312,  336.12019312,  168.12019312,\n",
      "         584.12019312,  848.12019312,  932.12019312,  364.12019312,\n",
      "         444.12019312,  608.12019312,  480.12019312,  268.12019312,\n",
      "        1240.12019312,  376.12019312,  732.12019312,  264.12019312,\n",
      "         692.12019312,  288.12019312,  196.12019312,  256.12019312,\n",
      "         192.12019312,  712.12019312,  416.12019312,  528.12019312,\n",
      "         880.12019312,  228.12019312],\n",
      "       [1043.99732254,  451.99732254,  523.99732254,  695.99732254,\n",
      "        1027.99732254,  219.99732254,  335.99732254,  167.99732254,\n",
      "         583.99732254,  847.99732254,  931.99732254,  363.99732254,\n",
      "         443.99732254,  607.99732254,  479.99732254,  267.99732254,\n",
      "        1239.99732254,  375.99732254,  731.99732254,  263.99732254,\n",
      "         691.99732254,  287.99732254,  195.99732254,  255.99732254,\n",
      "         191.99732254,  711.99732254,  415.99732254,  527.99732254,\n",
      "         879.99732254,  227.99732254],\n",
      "       [1044.04690189,  452.04690189,  524.04690189,  696.04690189,\n",
      "        1028.04690189,  220.04690189,  336.04690189,  168.04690189,\n",
      "         584.04690189,  848.04690189,  932.04690189,  364.04690189,\n",
      "         444.04690189,  608.04690189,  480.04690189,  268.04690189,\n",
      "        1240.04690189,  376.04690189,  732.04690189,  264.04690189,\n",
      "         692.04690189,  288.04690189,  196.04690189,  256.04690189,\n",
      "         192.04690189,  712.04690189,  416.04690189,  528.04690189,\n",
      "         880.04690189,  228.04690189],\n",
      "       [1044.14821623,  452.14821623,  524.14821623,  696.14821623,\n",
      "        1028.14821623,  220.14821623,  336.14821623,  168.14821623,\n",
      "         584.14821623,  848.14821623,  932.14821623,  364.14821623,\n",
      "         444.14821623,  608.14821623,  480.14821623,  268.14821623,\n",
      "        1240.14821623,  376.14821623,  732.14821623,  264.14821623,\n",
      "         692.14821623,  288.14821623,  196.14821623,  256.14821623,\n",
      "         192.14821623,  712.14821623,  416.14821623,  528.14821623,\n",
      "         880.14821623,  228.14821623],\n",
      "       [1043.96067693,  451.96067693,  523.96067693,  695.96067693,\n",
      "        1027.96067693,  219.96067693,  335.96067693,  167.96067693,\n",
      "         583.96067693,  847.96067693,  931.96067693,  363.96067693,\n",
      "         443.96067693,  607.96067693,  479.96067693,  267.96067693,\n",
      "        1239.96067693,  375.96067693,  731.96067693,  263.96067693,\n",
      "         691.96067693,  287.96067693,  195.96067693,  255.96067693,\n",
      "         191.96067693,  711.96067693,  415.96067693,  527.96067693,\n",
      "         879.96067693,  227.96067693],\n",
      "       [1044.03181253,  452.03181253,  524.03181253,  696.03181253,\n",
      "        1028.03181253,  220.03181253,  336.03181253,  168.03181253,\n",
      "         584.03181253,  848.03181253,  932.03181253,  364.03181253,\n",
      "         444.03181253,  608.03181253,  480.03181253,  268.03181253,\n",
      "        1240.03181253,  376.03181253,  732.03181253,  264.03181253,\n",
      "         692.03181253,  288.03181253,  196.03181253,  256.03181253,\n",
      "         192.03181253,  712.03181253,  416.03181253,  528.03181253,\n",
      "         880.03181253,  228.03181253],\n",
      "       [1044.03181253,  452.03181253,  524.03181253,  696.03181253,\n",
      "        1028.03181253,  220.03181253,  336.03181253,  168.03181253,\n",
      "         584.03181253,  848.03181253,  932.03181253,  364.03181253,\n",
      "         444.03181253,  608.03181253,  480.03181253,  268.03181253,\n",
      "        1240.03181253,  376.03181253,  732.03181253,  264.03181253,\n",
      "         692.03181253,  288.03181253,  196.03181253,  256.03181253,\n",
      "         192.03181253,  712.03181253,  416.03181253,  528.03181253,\n",
      "         880.03181253,  228.03181253],\n",
      "       [1043.92187569,  451.92187569,  523.92187569,  695.92187569,\n",
      "        1027.92187569,  219.92187569,  335.92187569,  167.92187569,\n",
      "         583.92187569,  847.92187569,  931.92187569,  363.92187569,\n",
      "         443.92187569,  607.92187569,  479.92187569,  267.92187569,\n",
      "        1239.92187569,  375.92187569,  731.92187569,  263.92187569,\n",
      "         691.92187569,  287.92187569,  195.92187569,  255.92187569,\n",
      "         191.92187569,  711.92187569,  415.92187569,  527.92187569,\n",
      "         879.92187569,  227.92187569],\n",
      "       [1044.14606061,  452.14606061,  524.14606061,  696.14606061,\n",
      "        1028.14606061,  220.14606061,  336.14606061,  168.14606061,\n",
      "         584.14606061,  848.14606061,  932.14606061,  364.14606061,\n",
      "         444.14606061,  608.14606061,  480.14606061,  268.14606061,\n",
      "        1240.14606061,  376.14606061,  732.14606061,  264.14606061,\n",
      "         692.14606061,  288.14606061,  196.14606061,  256.14606061,\n",
      "         192.14606061,  712.14606061,  416.14606061,  528.14606061,\n",
      "         880.14606061,  228.14606061]]))\n"
     ]
    }
   ],
   "source": []
  },
  {
   "cell_type": "code",
   "execution_count": null,
   "metadata": {},
   "outputs": [],
   "source": []
  },
  {
   "cell_type": "code",
   "execution_count": null,
   "metadata": {},
   "outputs": [],
   "source": []
  }
 ],
 "metadata": {
  "colab": {
   "collapsed_sections": [],
   "name": "LEARN-LAB-1-solution.ipynb",
   "provenance": []
  },
  "kernelspec": {
   "display_name": "Python 3",
   "language": "python",
   "name": "python3"
  },
  "language_info": {
   "codemirror_mode": {
    "name": "ipython",
    "version": 3
   },
   "file_extension": ".py",
   "mimetype": "text/x-python",
   "name": "python",
   "nbconvert_exporter": "python",
   "pygments_lexer": "ipython3",
   "version": "3.7.1"
  }
 },
 "nbformat": 4,
 "nbformat_minor": 1
}
