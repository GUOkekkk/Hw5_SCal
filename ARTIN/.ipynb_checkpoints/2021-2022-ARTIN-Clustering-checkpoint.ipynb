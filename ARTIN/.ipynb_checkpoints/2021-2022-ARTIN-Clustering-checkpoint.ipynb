{
 "cells": [
  {
   "cell_type": "markdown",
   "metadata": {},
   "source": [
    "# CLUSTERING PRACTICAL\n",
    "\n",
    "## ARTIN\n",
    "\n",
    "## Mathieu Lagrange\n",
    "\n",
    "reports are to be sent to [mathieu dot lagrange at ec-nantes dot fr] no later than a week after the lab"
   ]
  },
  {
   "cell_type": "markdown",
   "metadata": {},
   "source": [
    "## Import tools\n",
    "\n",
    "please import others if needed"
   ]
  },
  {
   "cell_type": "code",
   "execution_count": 2,
   "metadata": {},
   "outputs": [],
   "source": [
    "import numpy as np\n",
    "import matplotlib.pyplot as plt\n",
    "import sklearn as sk\n",
    "import math\n",
    "\n",
    "%matplotlib inline"
   ]
  },
  {
   "cell_type": "markdown",
   "metadata": {},
   "source": [
    "## Data: generate a synthetic dataset\n",
    "\n",
    "Generate a set of 100 points in a 2 dimensional space split into 4 non overlapping\n",
    "clusters."
   ]
  },
  {
   "cell_type": "code",
   "execution_count": null,
   "metadata": {},
   "outputs": [],
   "source": []
  },
  {
   "cell_type": "markdown",
   "metadata": {},
   "source": [
    "Display the set with one color per cluster using the scatter function from matplotlib.pyplot"
   ]
  },
  {
   "cell_type": "code",
   "execution_count": null,
   "metadata": {},
   "outputs": [],
   "source": []
  },
  {
   "cell_type": "code",
   "execution_count": 3,
   "metadata": {},
   "outputs": [
    {
     "data": {
      "image/png": "[encoded data removed]",
      "text/plain": [
       "<Figure size 432x288 with 1 Axes>"
      ]
     },
     "metadata": {
      "needs_background": "light"
     },
     "output_type": "display_data"
    }
   ],
   "source": [
    "N = 25\n",
    "x1 = np.random.uniform(0,2,[N,1])\n",
    "y1 = np.random.uniform(0,2,[N,1])\n",
    "label0 = np.zeros([N,1])\n",
    "plt.scatter(x1,y1,c='b',marker='o')\n",
    "\n",
    "x2 = np.random.uniform(0,2,[N,1])\n",
    "y2 = np.random.uniform(2.5,4,[N,1])\n",
    "label1 = 1*np.ones([N,1])\n",
    "plt.scatter(x2,y2,c='r',marker='o')\n",
    "\n",
    "x3 = np.random.uniform(2.5,4,[N,1])\n",
    "y3 = np.random.uniform(0,2,[N,1])\n",
    "label2 = 2*np.ones([N,1])\n",
    "plt.scatter(x3,y3,c='y',marker='o')\n",
    "\n",
    "x4 = np.random.uniform(2.5,4,[N,1])\n",
    "y4 = np.random.uniform(2.5,4,[N,1])\n",
    "label3 = 3*np.ones([N,1])\n",
    "plt.scatter(x4,y4,c='g',marker='o')  # For non overlapping use uniform insetad of normal\n",
    "\n",
    "\n",
    "data_x = np.concatenate((x1, x2, x3, x4))\n",
    "data_y = np.concatenate((y1, y2, y3, y4))\n",
    "data_l = np.concatenate((label0, label1, label2, label3))\n",
    "\n",
    "data = np.concatenate((data_x, data_y), axis = 1)\n",
    "\n",
    "model_ref = np.concatenate((data, data_l), axis = 1)"
   ]
  },
  {
   "cell_type": "code",
   "execution_count": 4,
   "metadata": {},
   "outputs": [
    {
     "data": {
      "text/plain": [
       "array([[0.37766948, 1.9761241 , 0.        ],\n",
       "       [1.14221966, 1.14720915, 0.        ],\n",
       "       [0.09889101, 1.22131502, 0.        ],\n",
       "       [0.75425023, 0.75446263, 0.        ],\n",
       "       [0.96233218, 1.21352246, 0.        ],\n",
       "       [0.49288654, 0.17953194, 0.        ],\n",
       "       [0.90658276, 1.41385779, 0.        ],\n",
       "       [1.43757209, 0.37281168, 0.        ],\n",
       "       [1.08973743, 0.25281337, 0.        ],\n",
       "       [0.26236243, 1.20317495, 0.        ],\n",
       "       [1.26078303, 0.21036174, 0.        ],\n",
       "       [1.98847336, 1.63927013, 0.        ],\n",
       "       [1.17403463, 1.19379868, 0.        ],\n",
       "       [0.23697428, 1.38687014, 0.        ],\n",
       "       [1.69421485, 0.49301315, 0.        ],\n",
       "       [0.09373482, 1.9450721 , 0.        ],\n",
       "       [1.47986331, 0.09956374, 0.        ],\n",
       "       [0.55192309, 0.53393657, 0.        ],\n",
       "       [0.98064015, 0.41461613, 0.        ],\n",
       "       [1.41061645, 1.53056769, 0.        ],\n",
       "       [0.86700876, 0.18671409, 0.        ],\n",
       "       [0.45497005, 0.44085198, 0.        ],\n",
       "       [1.99554791, 1.63833918, 0.        ],\n",
       "       [0.28649773, 1.58225137, 0.        ],\n",
       "       [0.81242139, 0.30459457, 0.        ],\n",
       "       [0.90809081, 3.435499  , 1.        ],\n",
       "       [1.51924287, 3.19166813, 1.        ],\n",
       "       [0.10335362, 3.00318298, 1.        ],\n",
       "       [0.8527114 , 3.20518504, 1.        ],\n",
       "       [1.10301886, 2.57318422, 1.        ],\n",
       "       [0.65252417, 2.80967972, 1.        ],\n",
       "       [0.04083166, 2.99086449, 1.        ],\n",
       "       [1.74231031, 3.86157304, 1.        ],\n",
       "       [0.72016895, 3.79747232, 1.        ],\n",
       "       [0.98522665, 3.9285149 , 1.        ],\n",
       "       [1.97479283, 3.29471456, 1.        ],\n",
       "       [0.94038466, 2.95764562, 1.        ],\n",
       "       [1.22086262, 3.8058048 , 1.        ],\n",
       "       [0.52369882, 2.52849192, 1.        ],\n",
       "       [1.3885082 , 3.57094964, 1.        ],\n",
       "       [1.52468023, 2.95181368, 1.        ],\n",
       "       [1.8071344 , 3.70127156, 1.        ],\n",
       "       [0.95688123, 3.56552565, 1.        ],\n",
       "       [0.27181581, 2.55219155, 1.        ],\n",
       "       [0.09774271, 3.84293695, 1.        ],\n",
       "       [0.30428754, 3.89067618, 1.        ],\n",
       "       [1.23130282, 2.99990589, 1.        ],\n",
       "       [0.62581916, 2.99741527, 1.        ],\n",
       "       [1.7261059 , 2.54462379, 1.        ],\n",
       "       [0.08252157, 3.50303531, 1.        ],\n",
       "       [3.9365233 , 1.37722001, 2.        ],\n",
       "       [2.84275332, 0.9097842 , 2.        ],\n",
       "       [3.1892956 , 1.71023314, 2.        ],\n",
       "       [3.96947002, 0.52209703, 2.        ],\n",
       "       [3.95533143, 1.14327857, 2.        ],\n",
       "       [3.51826094, 0.41045995, 2.        ],\n",
       "       [3.71885068, 0.08800209, 2.        ],\n",
       "       [3.350839  , 0.15490639, 2.        ],\n",
       "       [2.83199415, 1.08455596, 2.        ],\n",
       "       [3.97113881, 0.6429662 , 2.        ],\n",
       "       [3.8066147 , 0.20866087, 2.        ],\n",
       "       [3.42110889, 1.93419661, 2.        ],\n",
       "       [3.74058442, 1.67740583, 2.        ],\n",
       "       [2.66857741, 0.8826715 , 2.        ],\n",
       "       [2.67442874, 1.59094609, 2.        ],\n",
       "       [2.86164378, 0.36884363, 2.        ],\n",
       "       [3.70507691, 1.53096147, 2.        ],\n",
       "       [3.7550386 , 1.26315325, 2.        ],\n",
       "       [3.69297058, 0.71117354, 2.        ],\n",
       "       [2.64718239, 0.47008378, 2.        ],\n",
       "       [3.44360561, 1.80631025, 2.        ],\n",
       "       [3.13774872, 1.13881194, 2.        ],\n",
       "       [3.17868935, 1.9094894 , 2.        ],\n",
       "       [2.56797408, 1.39779944, 2.        ],\n",
       "       [3.14849937, 0.65246817, 2.        ],\n",
       "       [2.60140433, 3.14742108, 3.        ],\n",
       "       [2.9935305 , 2.87461927, 3.        ],\n",
       "       [3.20884077, 3.43808028, 3.        ],\n",
       "       [3.71174524, 2.62702111, 3.        ],\n",
       "       [3.94769904, 2.70559998, 3.        ],\n",
       "       [3.65391809, 3.8610415 , 3.        ],\n",
       "       [2.87361016, 3.96930027, 3.        ],\n",
       "       [2.99438286, 2.86502659, 3.        ],\n",
       "       [2.8172683 , 2.89722218, 3.        ],\n",
       "       [2.97973722, 3.30412084, 3.        ],\n",
       "       [2.52945768, 2.77922817, 3.        ],\n",
       "       [3.69348441, 3.17383967, 3.        ],\n",
       "       [3.71138761, 3.13756815, 3.        ],\n",
       "       [2.87762775, 2.53416868, 3.        ],\n",
       "       [2.97905166, 3.05796109, 3.        ],\n",
       "       [3.0901753 , 2.67140688, 3.        ],\n",
       "       [3.23472435, 3.90702358, 3.        ],\n",
       "       [3.76951573, 3.95075394, 3.        ],\n",
       "       [3.51998674, 3.15139457, 3.        ],\n",
       "       [3.52703339, 3.11440265, 3.        ],\n",
       "       [3.8889402 , 2.90727614, 3.        ],\n",
       "       [3.9674587 , 3.95904899, 3.        ],\n",
       "       [3.49852892, 3.29568524, 3.        ],\n",
       "       [3.63768414, 3.3325092 , 3.        ],\n",
       "       [3.34892498, 2.92026255, 3.        ]])"
      ]
     },
     "execution_count": 4,
     "metadata": {},
     "output_type": "execute_result"
    }
   ],
   "source": [
    "model_ref"
   ]
  },
  {
   "cell_type": "markdown",
   "metadata": {},
   "source": [
    "## Baseline: the random clustering algorithm\n",
    "\n",
    "Cluster this dataset into k clusters by assigning a random integer value between 0 and k-1 to each point."
   ]
  },
  {
   "cell_type": "code",
   "execution_count": 5,
   "metadata": {},
   "outputs": [],
   "source": [
    "def RandomCluster(data_x, data_y, k):\n",
    "    data = np.zeros((len(data_x),3))\n",
    "    for i in range(len(data_x)):\n",
    "        data[i][0] = data_x[i]\n",
    "        data[i][1] = data_y[i]\n",
    "        data[i][2] = np.random.randint(0,k)\n",
    "    return data\n"
   ]
  },
  {
   "cell_type": "code",
   "execution_count": null,
   "metadata": {},
   "outputs": [],
   "source": []
  },
  {
   "cell_type": "markdown",
   "metadata": {},
   "source": [
    "## Metric: the rand index\n",
    "\n",
    "Implement the rand index criterion (see https://en.wikipedia.org/wiki/Rand_index for reference)"
   ]
  },
  {
   "cell_type": "code",
   "execution_count": 6,
   "metadata": {},
   "outputs": [],
   "source": [
    "# A kind of score\n",
    "def RI(y_1, y_2):\n",
    "    l = len(y_1)\n",
    "    agrees = 0\n",
    "    for i in range(l-1):\n",
    "        for j in range(i+1, l):\n",
    "            y_1_status = int(y_1[i][2] == y_1[j][2])\n",
    "            y_2_status = int(y_2[i][2] == y_2[j][2])\n",
    "            agrees += int(y_1_status == y_2_status)\n",
    "    return agrees*2/(l*(l-1))"
   ]
  },
  {
   "cell_type": "markdown",
   "metadata": {},
   "source": [
    "Compute the rand index between the reference clustering and 100 runs of the baseline algorithm."
   ]
  },
  {
   "cell_type": "code",
   "execution_count": 7,
   "metadata": {},
   "outputs": [],
   "source": [
    "score = []\n",
    "for k in range(1,100):\n",
    "    model_r = RandomCluster(data_x, data_y, 4)\n",
    "    score_k = RI(model_ref, model_r)\n",
    "    score.append(score_k)"
   ]
  },
  {
   "cell_type": "markdown",
   "metadata": {},
   "source": [
    "Display results and compute the mean and standard deviation."
   ]
  },
  {
   "cell_type": "code",
   "execution_count": 8,
   "metadata": {},
   "outputs": [
    {
     "name": "stdout",
     "output_type": "stream",
     "text": [
      "0.629480665238241 0.0058972126617149005\n"
     ]
    },
    {
     "data": {
      "image/png": "[encoded data removed]",
      "text/plain": [
       "<Figure size 432x288 with 1 Axes>"
      ]
     },
     "metadata": {
      "needs_background": "light"
     },
     "output_type": "display_data"
    }
   ],
   "source": [
    "plt.plot(range(1,100),score)\n",
    "m_RI = np.mean(score)\n",
    "std_RI = np.std(score)\n",
    "\n",
    "print(m_RI,std_RI)"
   ]
  },
  {
   "cell_type": "markdown",
   "metadata": {},
   "source": [
    "## Hierarchical Clustering\n",
    "\n",
    "Compute the euclidean distance matrix using the pdist function from scipy.spatial.distance"
   ]
  },
  {
   "cell_type": "code",
   "execution_count": 9,
   "metadata": {},
   "outputs": [],
   "source": [
    "from scipy.spatial.distance import cdist\n",
    "import numpy as np\n",
    "\n",
    "e_distense = cdist(data,data,metric='euclidean')\n"
   ]
  },
  {
   "cell_type": "markdown",
   "metadata": {},
   "source": [
    "Display and interpret its shape"
   ]
  },
  {
   "cell_type": "code",
   "execution_count": 10,
   "metadata": {},
   "outputs": [
    {
     "data": {
      "text/plain": [
       "array([[0.        , 1.12766882, 0.80464538, ..., 3.38836321, 3.53093134,\n",
       "        3.11765243],\n",
       "       [1.12766882, 0.        , 1.04595714, ..., 3.18875256, 3.31705883,\n",
       "        2.8307714 ],\n",
       "       [0.80464538, 1.04595714, 0.        , ..., 3.98253057, 4.12070354,\n",
       "        3.66730739],\n",
       "       ...,\n",
       "       [3.38836321, 3.18875256, 3.98253057, ..., 0.        , 0.14394505,\n",
       "        0.40413307],\n",
       "       [3.53093134, 3.31705883, 4.12070354, ..., 0.14394505, 0.        ,\n",
       "        0.50331814],\n",
       "       [3.11765243, 2.8307714 , 3.66730739, ..., 0.40413307, 0.50331814,\n",
       "        0.        ]])"
      ]
     },
     "execution_count": 10,
     "metadata": {},
     "output_type": "execute_result"
    }
   ],
   "source": [
    "e_distense"
   ]
  },
  {
   "cell_type": "markdown",
   "metadata": {},
   "source": [
    "##### As you can see from the above result, each element aij in the matrix represents the Euclidean distance between its corresponding two points xi and xj, so the elements on the diagonal are all 0. This is a symmetric matrix"
   ]
  },
  {
   "cell_type": "markdown",
   "metadata": {},
   "source": [
    "Compute the single link hierarchical clustering using the linkage function from scipy.cluster.hierarchy."
   ]
  },
  {
   "cell_type": "code",
   "execution_count": 11,
   "metadata": {},
   "outputs": [],
   "source": [
    "from scipy.cluster.hierarchy import dendrogram, linkage, fcluster\n",
    "Z = linkage(data, 'single')"
   ]
  },
  {
   "cell_type": "markdown",
   "metadata": {},
   "source": [
    "Display the corresponding dendrogram using the dendrogram function from scipy.cluster.hierarchy."
   ]
  },
  {
   "cell_type": "code",
   "execution_count": 12,
   "metadata": {},
   "outputs": [
    {
     "data": {
      "image/png": "[encoded data removed]",
      "text/plain": [
       "<Figure size 3600x720 with 1 Axes>"
      ]
     },
     "metadata": {
      "needs_background": "light"
     },
     "output_type": "display_data"
    }
   ],
   "source": [
    "plt.figure(figsize=(50, 10))\n",
    "plt.title('Hierarchical Clustering Dendrogram')\n",
    "plt.xlabel('sample index')\n",
    "plt.ylabel('distance')\n",
    "dendrogram(Z, leaf_rotation=90., leaf_font_size=8.\n",
    ")\n",
    "plt.show()"
   ]
  },
  {
   "cell_type": "markdown",
   "metadata": {},
   "source": [
    "Implement a clustering algorithm that cuts the dendrogram in order to produce k clusters using the fcluster function from scipy.cluster.hierarchy."
   ]
  },
  {
   "cell_type": "code",
   "execution_count": 13,
   "metadata": {},
   "outputs": [
    {
     "data": {
      "text/plain": [
       "array([2, 4, 2, 4, 4, 4, 4, 4, 4, 2, 4, 4, 4, 2, 4, 2, 4, 4, 4, 4, 4, 4,\n",
       "       4, 2, 4, 2, 2, 2, 2, 2, 2, 2, 2, 2, 2, 2, 2, 2, 2, 2, 2, 2, 2, 2,\n",
       "       2, 2, 2, 2, 2, 2, 3, 3, 3, 3, 3, 3, 3, 3, 3, 3, 3, 3, 3, 3, 3, 3,\n",
       "       3, 3, 3, 3, 3, 3, 3, 3, 3, 1, 1, 1, 1, 1, 1, 1, 1, 1, 1, 1, 1, 1,\n",
       "       1, 1, 1, 1, 1, 1, 1, 1, 1, 1, 1, 1], dtype=int32)"
      ]
     },
     "execution_count": 13,
     "metadata": {},
     "output_type": "execute_result"
    }
   ],
   "source": [
    "max_d = 0.8 # the max distance\n",
    "fcluster(Z, 4, criterion='maxclust')"
   ]
  },
  {
   "cell_type": "markdown",
   "metadata": {},
   "source": [
    "Compute the rand index between the reference clustering and 100 runs of this clustering algorithm."
   ]
  },
  {
   "cell_type": "code",
   "execution_count": 14,
   "metadata": {},
   "outputs": [],
   "source": [
    "def Hierarchical_Clustering(data):\n",
    "    Z = linkage(data,'single')\n",
    "    label = fcluster(Z, 4, criterion='maxclust')\n",
    "    l = len(label)\n",
    "    model_h = np.zeros((l, 3))\n",
    "    for i in range(l):\n",
    "        model_h[i][0] = data[i][0]\n",
    "        model_h[i][1] = data[i][1]\n",
    "        model_h[i][2] = label[i]\n",
    "    return model_h"
   ]
  },
  {
   "cell_type": "code",
   "execution_count": 15,
   "metadata": {},
   "outputs": [],
   "source": [
    "score_h = []\n",
    "for k in range(1,100):\n",
    "    model_h = Hierarchical_Clustering(data)\n",
    "    score_k = RI(model_ref, model_h)\n",
    "    score_h.append(score_k)"
   ]
  },
  {
   "cell_type": "markdown",
   "metadata": {},
   "source": [
    "Display results and compute the mean and standard deviation."
   ]
  },
  {
   "cell_type": "code",
   "execution_count": 17,
   "metadata": {},
   "outputs": [
    {
     "name": "stdout",
     "output_type": "stream",
     "text": [
      "0.946666666666667 3.3306690738754696e-16\n"
     ]
    },
    {
     "data": {
      "image/png": "[encoded data removed]",
      "text/plain": [
       "<Figure size 432x288 with 1 Axes>"
      ]
     },
     "metadata": {
      "needs_background": "light"
     },
     "output_type": "display_data"
    }
   ],
   "source": [
    "plt.plot(score_h)\n",
    "m_H = np.mean(score_h)\n",
    "std_H = np.std(score_h)\n",
    "\n",
    "print(m_H, std_H)"
   ]
  },
  {
   "cell_type": "markdown",
   "metadata": {},
   "source": [
    "Explain why the standard deviation is 0."
   ]
  },
  {
   "cell_type": "markdown",
   "metadata": {},
   "source": [
    "##### Because this is a determined algorithm and not a random algorithm as the above one. It will not change the result with the number of iterations."
   ]
  },
  {
   "cell_type": "markdown",
   "metadata": {},
   "source": [
    "## Partitional Clustering\n",
    "\n",
    "Implement the k-means algorithm (see https://en.wikipedia.org/wiki/K-means_clustering section Standard algorithm for reference).\n",
    "\n",
    "Hint: please consider the cdist function from scipy.spatial.distance to compute the distance of the points to the centroids."
   ]
  },
  {
   "cell_type": "code",
   "execution_count": null,
   "metadata": {},
   "outputs": [],
   "source": [
    "def K_Meams(data):\n",
    "    "
   ]
  },
  {
   "cell_type": "markdown",
   "metadata": {},
   "source": [
    "Compute the rand index between the reference clustering and 100 runs of this clustering algorithm."
   ]
  },
  {
   "cell_type": "code",
   "execution_count": null,
   "metadata": {},
   "outputs": [],
   "source": []
  },
  {
   "cell_type": "markdown",
   "metadata": {},
   "source": [
    "Display results and compute the mean and standard deviation."
   ]
  },
  {
   "cell_type": "code",
   "execution_count": null,
   "metadata": {},
   "outputs": [],
   "source": []
  },
  {
   "cell_type": "markdown",
   "metadata": {},
   "source": [
    "## Performance Analysis\n",
    "\n",
    "Display the performance of the 3 clustering algorithms on the synthetic dataset using the bar function from matplotlib.pyplot."
   ]
  },
  {
   "cell_type": "code",
   "execution_count": null,
   "metadata": {},
   "outputs": [],
   "source": []
  },
  {
   "cell_type": "markdown",
   "metadata": {},
   "source": [
    "Load the iris dataset using the load_iris function from scikit-learn and perform the same performance analysis using this dataset."
   ]
  },
  {
   "cell_type": "code",
   "execution_count": null,
   "metadata": {},
   "outputs": [],
   "source": []
  },
  {
   "cell_type": "markdown",
   "metadata": {},
   "source": [
    "Load the Breast cancer wisconsin (diagnostic) dataset dataset using the load_breast_cancer function from scikit-learn and perform the same performance analysis using this dataset."
   ]
  },
  {
   "cell_type": "code",
   "execution_count": null,
   "metadata": {},
   "outputs": [],
   "source": []
  },
  {
   "cell_type": "markdown",
   "metadata": {},
   "source": [
    "## [Bonus] Determining the number of clusters\n",
    "\n",
    "Implement the gap statistic method for determining the optimal number of clusters for the 3 datasets.\n"
   ]
  },
  {
   "cell_type": "code",
   "execution_count": null,
   "metadata": {},
   "outputs": [],
   "source": []
  },
  {
   "cell_type": "markdown",
   "metadata": {},
   "source": [
    "Discuss the results."
   ]
  },
  {
   "cell_type": "markdown",
   "metadata": {},
   "source": [
    "answer here."
   ]
  },
  {
   "cell_type": "code",
   "execution_count": null,
   "metadata": {},
   "outputs": [],
   "source": []
  }
 ],
 "metadata": {
  "kernelspec": {
   "display_name": "Python 3",
   "language": "python",
   "name": "python3"
  },
  "language_info": {
   "codemirror_mode": {
    "name": "ipython",
    "version": 3
   },
   "file_extension": ".py",
   "mimetype": "text/x-python",
   "name": "python",
   "nbconvert_exporter": "python",
   "pygments_lexer": "ipython3",
   "version": "3.7.1"
  }
 },
 "nbformat": 4,
 "nbformat_minor": 4
}
