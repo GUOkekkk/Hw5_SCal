{
 "cells": [
  {
   "cell_type": "code",
   "execution_count": 10,
   "metadata": {},
   "outputs": [
    {
     "data": {
      "text/plain": [
       "array([[ 0, -4,  0],\n",
       "       [ 0,  0,  0],\n",
       "       [ 0,  4,  0]])"
      ]
     },
     "execution_count": 10,
     "metadata": {},
     "output_type": "execute_result"
    },
    {
     "data": {
      "image/png": "[encoded data removed]",
      "text/plain": [
       "<Figure size 432x288 with 1 Axes>"
      ]
     },
     "metadata": {
      "needs_background": "light"
     },
     "output_type": "display_data"
    }
   ],
   "source": [
    "%matplotlib inline\n",
    "import numpy as np\n",
    "import matplotlib.pyplot as plt\n",
    "from scipy import ndimage\n",
    "plt.plot([1,2,3,4])\n",
    "plt.plot([1,1,3])\n",
    "w = np.array([[1, -2, 1],\n",
    "    [0, 0, 0],\n",
    "    [-1, 2, -1]])\n",
    "\n",
    "f = np.array([[0,0,0,0,0],\n",
    "    [0,1,2,1,0],\n",
    "    [0,2,4,2,0],\n",
    "    [0,1,2,1,0],\n",
    "    [0,0,0,0,0]])\n",
    "\n",
    "f1 = np.array(\n",
    "[[1,2,1],\n",
    "[2,4,2],\n",
    "[1,2,1]])\n",
    "end=ndimage.convolve(f1,w,mode='constant',cval=0)\n",
    "end"
   ]
  },
  {
   "cell_type": "code",
   "execution_count": 6,
   "metadata": {},
   "outputs": [
    {
     "data": {
      "text/plain": [
       "array([[ 1,  0, -2,  0,  1],\n",
       "       [ 2,  0, -4,  0,  2],\n",
       "       [ 0,  0,  0,  0,  0],\n",
       "       [-2,  0,  4,  0, -2],\n",
       "       [-1,  0,  2,  0, -1]])"
      ]
     },
     "execution_count": 6,
     "metadata": {},
     "output_type": "execute_result"
    }
   ],
   "source": [
    "end"
   ]
  },
  {
   "cell_type": "code",
   "execution_count": null,
   "metadata": {},
   "outputs": [],
   "source": []
  }
 ],
 "metadata": {
  "kernelspec": {
   "display_name": "Python 3",
   "language": "python",
   "name": "python3"
  },
  "language_info": {
   "codemirror_mode": {
    "name": "ipython",
    "version": 3
   },
   "file_extension": ".py",
   "mimetype": "text/x-python",
   "name": "python",
   "nbconvert_exporter": "python",
   "pygments_lexer": "ipython3",
   "version": "3.7.1"
  }
 },
 "nbformat": 4,
 "nbformat_minor": 2
}
