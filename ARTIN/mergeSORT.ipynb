{
 "cells": [
  {
   "cell_type": "code",
   "execution_count": 13,
   "metadata": {},
   "outputs": [
    {
     "name": "stdout",
     "output_type": "stream",
     "text": [
      "original: [1, 4, 2, 3.6, -1]\n",
      "2\n",
      "4\n",
      "left [1]\n",
      "right [4]\n",
      "result [1, 4]\n",
      "3.6\n",
      "-1\n",
      "left [3.6]\n",
      "right [-1]\n",
      "result [-1, 3.6]\n",
      "left [2]\n",
      "right [-1, 3.6]\n",
      "left [2]\n",
      "right [-1, 3.6]\n",
      "result [-1, 2, 3.6]\n",
      "left [1, 4]\n",
      "right [-1, 2, 3.6]\n",
      "left [1, 4]\n",
      "right [-1, 2, 3.6]\n",
      "left [1, 4]\n",
      "right [-1, 2, 3.6]\n",
      "left [1, 4]\n",
      "right [-1, 2, 3.6]\n",
      "result [-1, 1, 2, 3.6, 4]\n",
      "Sorted: [-1, 1, 2, 3.6, 4]\n"
     ]
    }
   ],
   "source": [
    "def mergeSort(nums):\n",
    "    if len(nums) < 2:\n",
    "        return nums\n",
    "    mid = len(nums) // 2\n",
    "    print(nums[mid])\n",
    "    left = mergeSort(nums[:mid])\n",
    "    right = mergeSort(nums[mid:])\n",
    "\n",
    "    i = j = 0\n",
    "    result = []\n",
    "    while i < len(left) and j < len(right):\n",
    "        print(\"left\",left)\n",
    "        print(\"right\",right)\n",
    "        if left[i] < right[j]: \n",
    "            result.append(left[i])\n",
    "            i += 1\n",
    "        else: \n",
    "            result.append(right[j])\n",
    "            j += 1\n",
    "\n",
    "    while i < len(left): \n",
    "        result.append(left[i]) \n",
    "        i += 1\n",
    "    # 把剩余的加进来\n",
    "\n",
    "    while j < len(right): \n",
    "        result.append(right[j]) \n",
    "        j += 1\n",
    "    print(\"result\",result)\n",
    "    return result\n",
    "\n",
    "\n",
    "if __name__ == \"__main__\":\n",
    "    nums = [1, 4, 2, 3.6, -1]\n",
    "    print(\"original:\", nums)\n",
    "    print(\"Sorted:\", mergeSort(nums))"
   ]
  },
  {
   "cell_type": "code",
   "execution_count": null,
   "metadata": {},
   "outputs": [],
   "source": []
  }
 ],
 "metadata": {
  "kernelspec": {
   "display_name": "Python 3",
   "language": "python",
   "name": "python3"
  },
  "language_info": {
   "codemirror_mode": {
    "name": "ipython",
    "version": 3
   },
   "file_extension": ".py",
   "mimetype": "text/x-python",
   "name": "python",
   "nbconvert_exporter": "python",
   "pygments_lexer": "ipython3",
   "version": "3.7.1"
  }
 },
 "nbformat": 4,
 "nbformat_minor": 2
}
