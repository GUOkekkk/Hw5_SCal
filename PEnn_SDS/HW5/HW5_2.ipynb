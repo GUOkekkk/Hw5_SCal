{
 "cells": [
  {
   "cell_type": "code",
   "execution_count": 1,
   "metadata": {},
   "outputs": [],
   "source": [
    "import numpy as np\n",
    "from matplotlib import pyplot as plt"
   ]
  },
  {
   "cell_type": "code",
   "execution_count": 2,
   "metadata": {},
   "outputs": [],
   "source": [
    "def split_data(x, y):\n",
    "    # x = x.reshape(14780,28,28)\n",
    "    x = (x- np.min(x))/ (np.max(x)-np.min(x))\n",
    "    for i in range(len(y)):\n",
    "        if y[i] == 0:\n",
    "            y[i] = 1\n",
    "        else:\n",
    "            y[i] = -1\n",
    "    index = np.random.permutation(x.shape[0])\n",
    "    train_index = index[:int(len(index) * 0.8)]\n",
    "    test_index = index[int(len(index) * 0.8):]\n",
    "    x_train = x[train_index]\n",
    "    x_test = x[test_index]\n",
    "    y_train = y[train_index]\n",
    "    y_test = y[test_index]\n",
    "\n",
    "    return x_train, y_train, x_test, y_test"
   ]
  },
  {
   "cell_type": "markdown",
   "metadata": {},
   "source": [
    "Randomizing the input sequence is to ensure supervised learning, and to make the algorithm learn according to the gradient descent law. If the training data is in order, it will make it difficult for the training results to converge to the bias value."
   ]
  },
  {
   "cell_type": "code",
   "execution_count": 3,
   "metadata": {
    "scrolled": true
   },
   "outputs": [],
   "source": [
    "def compute_loss(data, labels, B, B_0):\n",
    "    #data = data.reshape(data.shape[0],784)\n",
    "    logloss = 0\n",
    "    for i in range(data.shape[0]):\n",
    "        logloss += np.log(1+np.exp((-labels[i]*(B_0 + np.dot(B,data[i].T)))))\n",
    "    logloss = logloss/data.shape[0]\n",
    "    return logloss"
   ]
  },
  {
   "cell_type": "code",
   "execution_count": 4,
   "metadata": {},
   "outputs": [],
   "source": [
    "def compute_gradients(data, labels, B, B_0):\n",
    "    #data = data.reshape(data.shape[0],784)\n",
    "    dB_0 = 0\n",
    "    dB = 0\n",
    "    for i in range(data.shape[0]):\n",
    "        dB_0 += (np.exp( (-labels[i] * (B_0 + np.dot(B, data[i].T)))) )/ (\n",
    "        1 + np.exp(-(labels[i] * (B_0 + np.dot(B, data[i].T))) * labels[i]))\n",
    "    for j in range(data.shape[0]):\n",
    "        dB += (np.exp (-labels[j] * (B_0 + np.dot(B, data[j].T))))/ (\n",
    "                    1 + np.exp( -(labels[j] * (B_0 + np.dot(B, data[j].T)))) )* labels[j] * data[j]\n",
    "    dB_0 = -dB_0/(data.shape[0])\n",
    "    dB = -dB/(data.shape[0])\n",
    "    return dB, dB_0"
   ]
  },
  {
   "cell_type": "code",
   "execution_count": 5,
   "metadata": {},
   "outputs": [],
   "source": [
    "def calculate_acc(data, labels, B, B_0, threshold):\n",
    "    count = 0\n",
    "    for i in range(data.shape[0]):\n",
    "        pre = 1/(1+np.exp(-(B_0+np.dot(B,data[i].T))))\n",
    "        if pre >= threshold:\n",
    "            pre = 1\n",
    "        else:pre = -1\n",
    "        if pre == labels[i]:\n",
    "            count+=1\n",
    "        else:continue\n",
    "    acc = count/data.shape[0]\n",
    "    return acc"
   ]
  },
  {
   "cell_type": "code",
   "execution_count": 6,
   "metadata": {},
   "outputs": [
    {
     "name": "stderr",
     "output_type": "stream",
     "text": [
      "E:\\ananconda\\lib\\site-packages\\ipykernel_launcher.py:5: RuntimeWarning: overflow encountered in exp\n",
      "  \"\"\"\n",
      "E:\\ananconda\\lib\\site-packages\\ipykernel_launcher.py:6: RuntimeWarning: overflow encountered in exp\n",
      "  \n",
      "E:\\ananconda\\lib\\site-packages\\ipykernel_launcher.py:10: RuntimeWarning: overflow encountered in exp\n",
      "  # Remove the CWD from sys.path while we load stuff.\n"
     ]
    },
    {
     "name": "stdout",
     "output_type": "stream",
     "text": [
      "[array([inf]), array([nan]), array([nan]), array([nan]), array([nan]), array([nan]), array([nan]), array([nan]), array([nan]), array([nan]), array([nan]), array([nan]), array([nan]), array([nan]), array([nan]), array([nan]), array([nan]), array([nan]), array([nan]), array([nan]), array([nan]), array([nan]), array([nan]), array([nan]), array([nan]), array([nan]), array([nan]), array([nan]), array([nan]), array([nan]), array([nan]), array([nan]), array([nan]), array([nan]), array([nan]), array([nan]), array([nan]), array([nan]), array([nan]), array([nan]), array([nan]), array([nan]), array([nan]), array([nan]), array([nan]), array([nan]), array([nan]), array([nan]), array([nan]), array([nan])]\n",
      "[0.4631258457374831, 0.536874154262517, 0.536874154262517, 0.536874154262517, 0.536874154262517, 0.536874154262517, 0.536874154262517, 0.536874154262517, 0.536874154262517, 0.536874154262517, 0.536874154262517, 0.536874154262517, 0.536874154262517, 0.536874154262517, 0.536874154262517, 0.536874154262517, 0.536874154262517, 0.536874154262517, 0.536874154262517, 0.536874154262517, 0.536874154262517, 0.536874154262517, 0.536874154262517, 0.536874154262517, 0.536874154262517, 0.536874154262517, 0.536874154262517, 0.536874154262517, 0.536874154262517, 0.536874154262517, 0.536874154262517, 0.536874154262517, 0.536874154262517, 0.536874154262517, 0.536874154262517, 0.536874154262517, 0.536874154262517, 0.536874154262517, 0.536874154262517, 0.536874154262517, 0.536874154262517, 0.536874154262517, 0.536874154262517, 0.536874154262517, 0.536874154262517, 0.536874154262517, 0.536874154262517, 0.536874154262517, 0.536874154262517, 0.536874154262517]\n"
     ]
    },
    {
     "data": {
      "image/png": "[encoded data removed]",
      "text/plain": [
       "<Figure size 432x288 with 1 Axes>"
      ]
     },
     "metadata": {
      "needs_background": "light"
     },
     "output_type": "display_data"
    }
   ],
   "source": [
    "if __name__ == '__main__':\n",
    "    np.seterr(divide='ignore', invalid='ignore')\n",
    "    x = np.load('data.npy')\n",
    "    y = np.load('label.npy')\n",
    "    ## Split the data to train and test\n",
    "    x_train, y_train, x_test, y_test = split_data(x,y)\n",
    "    B = np.random.randn(1, x.shape[1])\n",
    "    B_0 = np.random.randn(1)\n",
    "    lr = 0.05\n",
    "    loss_test = []\n",
    "    accuracy_test = []\n",
    "    threshold = 0.5\n",
    "    for i in range(50):\n",
    "        ## Compute Loss\n",
    "        loss = compute_loss(x_train, y_train, B, B_0)\n",
    "        ## Compute Gradients\n",
    "        dB, dB_0 = compute_gradients(x_train, y_train, B, B_0)\n",
    "        ## Update Parameters\n",
    "        B = B - lr*dB\n",
    "        B_0 = B_0 - lr*dB_0\n",
    "        #Compute Accuracy and Loss on Test set (x_test, y_test)\n",
    "        loss_test.append(compute_loss(x_test, y_test, B, B_0))\n",
    "        accuracy_test.append(calculate_acc(x_test,y_test,B,B_0,threshold))\n",
    "    print(loss_test)\n",
    "    print(accuracy_test)\n",
    "    plt.plot(loss_test)\n",
    "    plt.plot(accuracy_test)"
   ]
  },
  {
   "cell_type": "markdown",
   "metadata": {},
   "source": [
    "It notices that the RuntimeWarning: overflow encountered in exp,I know there is something wrong in the x of exp(x) but I do not know how to solve it."
   ]
  },
  {
   "cell_type": "code",
   "execution_count": null,
   "metadata": {},
   "outputs": [],
   "source": []
  }
 ],
 "metadata": {
  "kernelspec": {
   "display_name": "Python 3",
   "language": "python",
   "name": "python3"
  },
  "language_info": {
   "codemirror_mode": {
    "name": "ipython",
    "version": 3
   },
   "file_extension": ".py",
   "mimetype": "text/x-python",
   "name": "python",
   "nbconvert_exporter": "python",
   "pygments_lexer": "ipython3",
   "version": "3.7.1"
  }
 },
 "nbformat": 4,
 "nbformat_minor": 2
}
