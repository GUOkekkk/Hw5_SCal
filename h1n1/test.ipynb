{
 "cells": [
  {
   "cell_type": "code",
   "execution_count": null,
   "metadata": {},
   "outputs": [],
   "source": [
    "from sklearn.model_selection import train_test_split, cross_val_score, KFold, GridSearchCV\n",
    "import pandas as pd\n",
    "import numpy as np\n",
    "\n",
    "from sklearn.ensemble import RandomForestClassifier\n",
    "from sklearn.metrics import accuracy_score\n",
    "from sklearn.preprocessing import StandardScaler\n",
    "from sklearn.tree import export_graphviz\n",
    "\n",
    "path = \"你自己的csv.csv\"  # 5分类的\n",
    "data = pd.read_csv(path)\n",
    "\n",
    "# 打乱数据集\n",
    "from sklearn import utils\n",
    "data = utils.shuffle(data)\n",
    "\n",
    "Y = data[\"score\"].values\n",
    "X = data.drop(\"score\", axis=1).values\n",
    "print(f\"X=\\n{X}\")\n",
    "print(f\"\\nY=\\n{Y}\")\n",
    "\n",
    "# 数据标准化\n",
    "scaler = StandardScaler()       # 实例化\n",
    "scaler.fit(X)                   # 训练标准化对象\n",
    "X = scaler.transform(X)         # 转换数据集\n",
    "\n",
    "# 拆分训练集和测试集\n",
    "train_X, test_X, train_Y, test_Y = train_test_split(X, Y, test_size=0.3, random_state=0)\n",
    "\n",
    "# 实例化分类器（默认生成100颗树，信息熵，叶子结点最少样本量为3，最大深度为15）\n",
    "clf = RandomForestClassifier(n_estimators=2, criterion=\"entropy\", min_samples_leaf=3, max_depth=15)\n",
    "\n",
    "# 训练\n",
    "clf.fit(train_X, train_Y)\n",
    "# 预测并评估\n",
    "predict_Y = clf.predict(test_X)\n",
    "\n",
    "print(f\"准确率acc = {accuracy_score(y_pred=predict_Y, y_true=test_Y)}\")\n"
   ]
  }
 ],
 "metadata": {
  "kernelspec": {
   "display_name": "Python 3",
   "language": "python",
   "name": "python3"
  },
  "language_info": {
   "codemirror_mode": {
    "name": "ipython",
    "version": 3
   },
   "file_extension": ".py",
   "mimetype": "text/x-python",
   "name": "python",
   "nbconvert_exporter": "python",
   "pygments_lexer": "ipython3",
   "version": "3.7.1"
  }
 },
 "nbformat": 4,
 "nbformat_minor": 2
}
